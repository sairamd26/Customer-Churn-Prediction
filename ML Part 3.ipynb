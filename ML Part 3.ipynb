{
 "cells": [
  {
   "cell_type": "code",
   "execution_count": 1,
   "id": "250dd1c1",
   "metadata": {},
   "outputs": [],
   "source": [
    "#Importing the required libraries.\n",
    "import numpy as np\n",
    "import pandas as pd\n",
    "import seaborn as sns\n",
    "\n",
    "from imblearn.over_sampling import SMOTE\n",
    "import lightgbm as lightgbm\n",
    "import xgboost as xgboost\n",
    "from sklearn.ensemble import RandomForestClassifier\n",
    "from sklearn.linear_model import LogisticRegression\n",
    "from sklearn.tree import DecisionTreeClassifier\n",
    "from sklearn.ensemble import StackingClassifier\n",
    "from sklearn.decomposition import PCA\n",
    "\n",
    "from sklearn.metrics import roc_auc_score\n",
    "from sklearn import metrics\n",
    "from sklearn.model_selection import KFold\n",
    "from sklearn.model_selection import cross_val_score\n",
    "\n",
    "from collections import defaultdict\n",
    "import matplotlib.pyplot as plt\n",
    "from scipy.stats import spearmanr\n",
    "from scipy.cluster import hierarchy\n",
    "from scipy.spatial.distance import squareform\n",
    "from sklearn.inspection import permutation_importance"
   ]
  },
  {
   "cell_type": "code",
   "execution_count": 2,
   "id": "e0906a7d",
   "metadata": {},
   "outputs": [],
   "source": [
    "#Dataset1.\n",
    "customer= pd.read_csv('teleco.csv') "
   ]
  },
  {
   "cell_type": "code",
   "execution_count": 3,
   "id": "f9b3b715",
   "metadata": {},
   "outputs": [
    {
     "data": {
      "text/plain": [
       "(100000, 100)"
      ]
     },
     "execution_count": 3,
     "metadata": {},
     "output_type": "execute_result"
    }
   ],
   "source": [
    "customer.shape"
   ]
  },
  {
   "cell_type": "code",
   "execution_count": 4,
   "id": "54cffc06",
   "metadata": {},
   "outputs": [
    {
     "data": {
      "text/plain": [
       "rev_Mean        357\n",
       "mou_Mean        357\n",
       "totmrc_Mean     357\n",
       "da_Mean         357\n",
       "ovrmou_Mean     357\n",
       "               ... \n",
       "kid11_15       1732\n",
       "kid16_17       1732\n",
       "creditcd       1732\n",
       "eqpdays           1\n",
       "Customer_ID       0\n",
       "Length: 100, dtype: int64"
      ]
     },
     "execution_count": 4,
     "metadata": {},
     "output_type": "execute_result"
    }
   ],
   "source": [
    "customer.isnull().sum()"
   ]
  },
  {
   "cell_type": "code",
   "execution_count": 5,
   "id": "e4cb992c",
   "metadata": {},
   "outputs": [
    {
     "name": "stdout",
     "output_type": "stream",
     "text": [
      "                  percent_missing\n",
      "rev_Mean                    0.357\n",
      "mou_Mean                    0.357\n",
      "totmrc_Mean                 0.357\n",
      "da_Mean                     0.357\n",
      "ovrmou_Mean                 0.357\n",
      "ovrrev_Mean                 0.357\n",
      "vceovr_Mean                 0.357\n",
      "datovr_Mean                 0.357\n",
      "roam_Mean                   0.357\n",
      "change_mou                  0.891\n",
      "change_rev                  0.891\n",
      "drop_vce_Mean               0.000\n",
      "drop_dat_Mean               0.000\n",
      "blck_vce_Mean               0.000\n",
      "blck_dat_Mean               0.000\n",
      "unan_vce_Mean               0.000\n",
      "unan_dat_Mean               0.000\n",
      "plcd_vce_Mean               0.000\n",
      "plcd_dat_Mean               0.000\n",
      "recv_vce_Mean               0.000\n",
      "recv_sms_Mean               0.000\n",
      "comp_vce_Mean               0.000\n",
      "comp_dat_Mean               0.000\n",
      "custcare_Mean               0.000\n",
      "ccrndmou_Mean               0.000\n",
      "cc_mou_Mean                 0.000\n",
      "inonemin_Mean               0.000\n",
      "threeway_Mean               0.000\n",
      "mou_cvce_Mean               0.000\n",
      "mou_cdat_Mean               0.000\n",
      "mou_rvce_Mean               0.000\n",
      "owylis_vce_Mean             0.000\n",
      "mouowylisv_Mean             0.000\n",
      "iwylis_vce_Mean             0.000\n",
      "mouiwylisv_Mean             0.000\n",
      "peak_vce_Mean               0.000\n",
      "peak_dat_Mean               0.000\n",
      "mou_peav_Mean               0.000\n",
      "mou_pead_Mean               0.000\n",
      "opk_vce_Mean                0.000\n",
      "opk_dat_Mean                0.000\n",
      "mou_opkv_Mean               0.000\n",
      "mou_opkd_Mean               0.000\n",
      "drop_blk_Mean               0.000\n",
      "attempt_Mean                0.000\n",
      "complete_Mean               0.000\n",
      "callfwdv_Mean               0.000\n",
      "callwait_Mean               0.000\n",
      "churn                       0.000\n",
      "months                      0.000\n",
      "uniqsubs                    0.000\n",
      "actvsubs                    0.000\n",
      "new_cell                    0.000\n",
      "crclscod                    0.000\n",
      "asl_flag                    0.000\n",
      "totcalls                    0.000\n",
      "totmou                      0.000\n",
      "totrev                      0.000\n",
      "adjrev                      0.000\n",
      "adjmou                      0.000\n",
      "adjqty                      0.000\n",
      "avgrev                      0.000\n",
      "avgmou                      0.000\n",
      "avgqty                      0.000\n",
      "avg3mou                     0.000\n",
      "avg3qty                     0.000\n",
      "avg3rev                     0.000\n",
      "avg6mou                     2.839\n",
      "avg6qty                     2.839\n",
      "avg6rev                     2.839\n",
      "prizm_social_one            7.388\n",
      "area                        0.040\n",
      "dualband                    0.001\n",
      "refurb_new                  0.001\n",
      "hnd_price                   0.847\n",
      "phones                      0.001\n",
      "models                      0.001\n",
      "hnd_webcap                 10.189\n",
      "truck                       1.732\n",
      "rv                          1.732\n",
      "ownrent                    33.706\n",
      "lor                        30.190\n",
      "dwlltype                   31.909\n",
      "marital                     1.732\n",
      "adults                     23.019\n",
      "infobase                   22.079\n",
      "income                     25.436\n",
      "numbcars                   49.366\n",
      "HHstatin                   37.923\n",
      "dwllsize                   38.308\n",
      "forgntvl                    1.732\n",
      "ethnic                      1.732\n",
      "kid0_2                      1.732\n",
      "kid3_5                      1.732\n",
      "kid6_10                     1.732\n",
      "kid11_15                    1.732\n",
      "kid16_17                    1.732\n",
      "creditcd                    1.732\n",
      "eqpdays                     0.001\n",
      "Customer_ID                 0.000\n"
     ]
    }
   ],
   "source": [
    "percent_missing = customer.isnull().sum() * 100 / len(customer)\n",
    "missing_value_df = pd.DataFrame({'percent_missing': percent_missing})\n",
    "print(missing_value_df.to_string())"
   ]
  },
  {
   "cell_type": "code",
   "execution_count": 6,
   "id": "03fa2760",
   "metadata": {},
   "outputs": [
    {
     "name": "stderr",
     "output_type": "stream",
     "text": [
      "/var/folders/j5/9fvnh0857k3_lqjpjrk029hw0000gn/T/ipykernel_749/2349601179.py:1: FutureWarning: Dropping of nuisance columns in DataFrame reductions (with 'numeric_only=None') is deprecated; in a future version this will raise TypeError.  Select only valid columns before calling the reduction.\n",
      "  customer.fillna(customer.mean(), inplace=True)\n"
     ]
    }
   ],
   "source": [
    "customer.fillna(customer.mean(), inplace=True)\n",
    "for column in customer.columns:\n",
    "    if customer[column].dtype == 'object':\n",
    "        customer[column].fillna(customer[column].mode()[0], inplace=True)"
   ]
  },
  {
   "cell_type": "code",
   "execution_count": 7,
   "id": "48c69eb0",
   "metadata": {},
   "outputs": [
    {
     "name": "stdout",
     "output_type": "stream",
     "text": [
      "                  percent_missing\n",
      "rev_Mean                      0.0\n",
      "mou_Mean                      0.0\n",
      "totmrc_Mean                   0.0\n",
      "da_Mean                       0.0\n",
      "ovrmou_Mean                   0.0\n",
      "ovrrev_Mean                   0.0\n",
      "vceovr_Mean                   0.0\n",
      "datovr_Mean                   0.0\n",
      "roam_Mean                     0.0\n",
      "change_mou                    0.0\n",
      "change_rev                    0.0\n",
      "drop_vce_Mean                 0.0\n",
      "drop_dat_Mean                 0.0\n",
      "blck_vce_Mean                 0.0\n",
      "blck_dat_Mean                 0.0\n",
      "unan_vce_Mean                 0.0\n",
      "unan_dat_Mean                 0.0\n",
      "plcd_vce_Mean                 0.0\n",
      "plcd_dat_Mean                 0.0\n",
      "recv_vce_Mean                 0.0\n",
      "recv_sms_Mean                 0.0\n",
      "comp_vce_Mean                 0.0\n",
      "comp_dat_Mean                 0.0\n",
      "custcare_Mean                 0.0\n",
      "ccrndmou_Mean                 0.0\n",
      "cc_mou_Mean                   0.0\n",
      "inonemin_Mean                 0.0\n",
      "threeway_Mean                 0.0\n",
      "mou_cvce_Mean                 0.0\n",
      "mou_cdat_Mean                 0.0\n",
      "mou_rvce_Mean                 0.0\n",
      "owylis_vce_Mean               0.0\n",
      "mouowylisv_Mean               0.0\n",
      "iwylis_vce_Mean               0.0\n",
      "mouiwylisv_Mean               0.0\n",
      "peak_vce_Mean                 0.0\n",
      "peak_dat_Mean                 0.0\n",
      "mou_peav_Mean                 0.0\n",
      "mou_pead_Mean                 0.0\n",
      "opk_vce_Mean                  0.0\n",
      "opk_dat_Mean                  0.0\n",
      "mou_opkv_Mean                 0.0\n",
      "mou_opkd_Mean                 0.0\n",
      "drop_blk_Mean                 0.0\n",
      "attempt_Mean                  0.0\n",
      "complete_Mean                 0.0\n",
      "callfwdv_Mean                 0.0\n",
      "callwait_Mean                 0.0\n",
      "churn                         0.0\n",
      "months                        0.0\n",
      "uniqsubs                      0.0\n",
      "actvsubs                      0.0\n",
      "new_cell                      0.0\n",
      "crclscod                      0.0\n",
      "asl_flag                      0.0\n",
      "totcalls                      0.0\n",
      "totmou                        0.0\n",
      "totrev                        0.0\n",
      "adjrev                        0.0\n",
      "adjmou                        0.0\n",
      "adjqty                        0.0\n",
      "avgrev                        0.0\n",
      "avgmou                        0.0\n",
      "avgqty                        0.0\n",
      "avg3mou                       0.0\n",
      "avg3qty                       0.0\n",
      "avg3rev                       0.0\n",
      "avg6mou                       0.0\n",
      "avg6qty                       0.0\n",
      "avg6rev                       0.0\n",
      "prizm_social_one              0.0\n",
      "area                          0.0\n",
      "dualband                      0.0\n",
      "refurb_new                    0.0\n",
      "hnd_price                     0.0\n",
      "phones                        0.0\n",
      "models                        0.0\n",
      "hnd_webcap                    0.0\n",
      "truck                         0.0\n",
      "rv                            0.0\n",
      "ownrent                       0.0\n",
      "lor                           0.0\n",
      "dwlltype                      0.0\n",
      "marital                       0.0\n",
      "adults                        0.0\n",
      "infobase                      0.0\n",
      "income                        0.0\n",
      "numbcars                      0.0\n",
      "HHstatin                      0.0\n",
      "dwllsize                      0.0\n",
      "forgntvl                      0.0\n",
      "ethnic                        0.0\n",
      "kid0_2                        0.0\n",
      "kid3_5                        0.0\n",
      "kid6_10                       0.0\n",
      "kid11_15                      0.0\n",
      "kid16_17                      0.0\n",
      "creditcd                      0.0\n",
      "eqpdays                       0.0\n",
      "Customer_ID                   0.0\n"
     ]
    }
   ],
   "source": [
    "percent_missing = customer.isnull().sum() * 100 / len(customer)\n",
    "missing_value_df = pd.DataFrame({'percent_missing': percent_missing})\n",
    "print(missing_value_df.to_string())"
   ]
  },
  {
   "cell_type": "code",
   "execution_count": 8,
   "id": "7f4b0ae5",
   "metadata": {},
   "outputs": [],
   "source": [
    "train_label=customer['churn']"
   ]
  },
  {
   "cell_type": "code",
   "execution_count": 9,
   "id": "7b124b25",
   "metadata": {},
   "outputs": [],
   "source": [
    "train_label_v=train_label"
   ]
  },
  {
   "cell_type": "code",
   "execution_count": 10,
   "id": "0500bac4",
   "metadata": {},
   "outputs": [],
   "source": [
    "del customer['churn']"
   ]
  },
  {
   "cell_type": "code",
   "execution_count": 11,
   "id": "3d25c8f9",
   "metadata": {},
   "outputs": [],
   "source": [
    "cat_customer= customer.select_dtypes(include=['object']).columns"
   ]
  },
  {
   "cell_type": "code",
   "execution_count": 12,
   "id": "f6c67b9b",
   "metadata": {},
   "outputs": [],
   "source": [
    "customer_cat=customer[cat_customer]"
   ]
  },
  {
   "cell_type": "code",
   "execution_count": 13,
   "id": "26581431",
   "metadata": {},
   "outputs": [],
   "source": [
    "num_customer=customer.select_dtypes(include=['float64', 'int64']).columns"
   ]
  },
  {
   "cell_type": "code",
   "execution_count": 14,
   "id": "c8acb9ef",
   "metadata": {},
   "outputs": [],
   "source": [
    "customer_num=customer[num_customer]"
   ]
  },
  {
   "cell_type": "code",
   "execution_count": 15,
   "id": "51b3f250",
   "metadata": {},
   "outputs": [],
   "source": [
    "del customer_num['change_rev']\n",
    "del customer_num['change_mou']"
   ]
  },
  {
   "cell_type": "code",
   "execution_count": 16,
   "id": "868a9d18",
   "metadata": {},
   "outputs": [],
   "source": [
    "del customer_num['Customer_ID']"
   ]
  },
  {
   "cell_type": "code",
   "execution_count": 17,
   "id": "78e9846f",
   "metadata": {},
   "outputs": [],
   "source": [
    "z=customer_cat\n",
    "#label encoder\n",
    "from sklearn.preprocessing import LabelEncoder\n",
    "label=LabelEncoder()\n",
    "z=z.astype(str)\n",
    "z[cat_customer] = z[cat_customer].apply(lambda col: label.fit_transform(col))\n"
   ]
  },
  {
   "cell_type": "code",
   "execution_count": 18,
   "id": "ded1acf5",
   "metadata": {},
   "outputs": [],
   "source": [
    "frames = [customer_num, z]\n",
    "customer_updated=pd.concat(frames,axis=1)"
   ]
  },
  {
   "cell_type": "code",
   "execution_count": 19,
   "id": "ba0d57ba",
   "metadata": {},
   "outputs": [
    {
     "data": {
      "text/plain": [
       "rev_Mean       0\n",
       "mou_Mean       0\n",
       "totmrc_Mean    0\n",
       "da_Mean        0\n",
       "ovrmou_Mean    0\n",
       "              ..\n",
       "kid3_5         0\n",
       "kid6_10        0\n",
       "kid11_15       0\n",
       "kid16_17       0\n",
       "creditcd       0\n",
       "Length: 96, dtype: int64"
      ]
     },
     "execution_count": 19,
     "metadata": {},
     "output_type": "execute_result"
    }
   ],
   "source": [
    "customer_updated.isnull().sum()"
   ]
  },
  {
   "cell_type": "code",
   "execution_count": 20,
   "id": "d2831df7",
   "metadata": {},
   "outputs": [
    {
     "name": "stdout",
     "output_type": "stream",
     "text": [
      "                  percent_missing\n",
      "rev_Mean                      0.0\n",
      "mou_Mean                      0.0\n",
      "totmrc_Mean                   0.0\n",
      "da_Mean                       0.0\n",
      "ovrmou_Mean                   0.0\n",
      "ovrrev_Mean                   0.0\n",
      "vceovr_Mean                   0.0\n",
      "datovr_Mean                   0.0\n",
      "roam_Mean                     0.0\n",
      "drop_vce_Mean                 0.0\n",
      "drop_dat_Mean                 0.0\n",
      "blck_vce_Mean                 0.0\n",
      "blck_dat_Mean                 0.0\n",
      "unan_vce_Mean                 0.0\n",
      "unan_dat_Mean                 0.0\n",
      "plcd_vce_Mean                 0.0\n",
      "plcd_dat_Mean                 0.0\n",
      "recv_vce_Mean                 0.0\n",
      "recv_sms_Mean                 0.0\n",
      "comp_vce_Mean                 0.0\n",
      "comp_dat_Mean                 0.0\n",
      "custcare_Mean                 0.0\n",
      "ccrndmou_Mean                 0.0\n",
      "cc_mou_Mean                   0.0\n",
      "inonemin_Mean                 0.0\n",
      "threeway_Mean                 0.0\n",
      "mou_cvce_Mean                 0.0\n",
      "mou_cdat_Mean                 0.0\n",
      "mou_rvce_Mean                 0.0\n",
      "owylis_vce_Mean               0.0\n",
      "mouowylisv_Mean               0.0\n",
      "iwylis_vce_Mean               0.0\n",
      "mouiwylisv_Mean               0.0\n",
      "peak_vce_Mean                 0.0\n",
      "peak_dat_Mean                 0.0\n",
      "mou_peav_Mean                 0.0\n",
      "mou_pead_Mean                 0.0\n",
      "opk_vce_Mean                  0.0\n",
      "opk_dat_Mean                  0.0\n",
      "mou_opkv_Mean                 0.0\n",
      "mou_opkd_Mean                 0.0\n",
      "drop_blk_Mean                 0.0\n",
      "attempt_Mean                  0.0\n",
      "complete_Mean                 0.0\n",
      "callfwdv_Mean                 0.0\n",
      "callwait_Mean                 0.0\n",
      "months                        0.0\n",
      "uniqsubs                      0.0\n",
      "actvsubs                      0.0\n",
      "totcalls                      0.0\n",
      "totmou                        0.0\n",
      "totrev                        0.0\n",
      "adjrev                        0.0\n",
      "adjmou                        0.0\n",
      "adjqty                        0.0\n",
      "avgrev                        0.0\n",
      "avgmou                        0.0\n",
      "avgqty                        0.0\n",
      "avg3mou                       0.0\n",
      "avg3qty                       0.0\n",
      "avg3rev                       0.0\n",
      "avg6mou                       0.0\n",
      "avg6qty                       0.0\n",
      "avg6rev                       0.0\n",
      "hnd_price                     0.0\n",
      "phones                        0.0\n",
      "models                        0.0\n",
      "truck                         0.0\n",
      "rv                            0.0\n",
      "lor                           0.0\n",
      "adults                        0.0\n",
      "income                        0.0\n",
      "numbcars                      0.0\n",
      "forgntvl                      0.0\n",
      "eqpdays                       0.0\n",
      "new_cell                      0.0\n",
      "crclscod                      0.0\n",
      "asl_flag                      0.0\n",
      "prizm_social_one              0.0\n",
      "area                          0.0\n",
      "dualband                      0.0\n",
      "refurb_new                    0.0\n",
      "hnd_webcap                    0.0\n",
      "ownrent                       0.0\n",
      "dwlltype                      0.0\n",
      "marital                       0.0\n",
      "infobase                      0.0\n",
      "HHstatin                      0.0\n",
      "dwllsize                      0.0\n",
      "ethnic                        0.0\n",
      "kid0_2                        0.0\n",
      "kid3_5                        0.0\n",
      "kid6_10                       0.0\n",
      "kid11_15                      0.0\n",
      "kid16_17                      0.0\n",
      "creditcd                      0.0\n"
     ]
    }
   ],
   "source": [
    "percent_missing = customer_updated.isnull().sum() * 100 / len(customer)\n",
    "missing_value_df = pd.DataFrame({'percent_missing': percent_missing})\n",
    "print(missing_value_df.to_string())"
   ]
  },
  {
   "cell_type": "code",
   "execution_count": 21,
   "id": "24d39fdc",
   "metadata": {},
   "outputs": [],
   "source": [
    "#normalizing the values\n",
    "x_norm = (customer_updated - customer_updated.min(axis=0)) / (customer_updated.max(axis=0) - customer_updated.min(axis=0))\n",
    "customer_updated[:] = x_norm"
   ]
  },
  {
   "cell_type": "code",
   "execution_count": 22,
   "id": "6959ccdd",
   "metadata": {},
   "outputs": [
    {
     "data": {
      "text/plain": [
       "Index(['rev_Mean', 'mou_Mean', 'totmrc_Mean', 'da_Mean', 'ovrmou_Mean',\n",
       "       'ovrrev_Mean', 'vceovr_Mean', 'datovr_Mean', 'roam_Mean',\n",
       "       'drop_vce_Mean', 'drop_dat_Mean', 'blck_vce_Mean', 'blck_dat_Mean',\n",
       "       'unan_vce_Mean', 'unan_dat_Mean', 'plcd_vce_Mean', 'plcd_dat_Mean',\n",
       "       'recv_vce_Mean', 'recv_sms_Mean', 'comp_vce_Mean', 'comp_dat_Mean',\n",
       "       'custcare_Mean', 'ccrndmou_Mean', 'cc_mou_Mean', 'inonemin_Mean',\n",
       "       'threeway_Mean', 'mou_cvce_Mean', 'mou_cdat_Mean', 'mou_rvce_Mean',\n",
       "       'owylis_vce_Mean', 'mouowylisv_Mean', 'iwylis_vce_Mean',\n",
       "       'mouiwylisv_Mean', 'peak_vce_Mean', 'peak_dat_Mean', 'mou_peav_Mean',\n",
       "       'mou_pead_Mean', 'opk_vce_Mean', 'opk_dat_Mean', 'mou_opkv_Mean',\n",
       "       'mou_opkd_Mean', 'drop_blk_Mean', 'attempt_Mean', 'complete_Mean',\n",
       "       'callfwdv_Mean', 'callwait_Mean', 'months', 'uniqsubs', 'actvsubs',\n",
       "       'totcalls', 'totmou', 'totrev', 'adjrev', 'adjmou', 'adjqty', 'avgrev',\n",
       "       'avgmou', 'avgqty', 'avg3mou', 'avg3qty', 'avg3rev', 'avg6mou',\n",
       "       'avg6qty', 'avg6rev', 'hnd_price', 'phones', 'models', 'truck', 'rv',\n",
       "       'lor', 'adults', 'income', 'numbcars', 'forgntvl', 'eqpdays',\n",
       "       'new_cell', 'crclscod', 'asl_flag', 'prizm_social_one', 'area',\n",
       "       'dualband', 'refurb_new', 'hnd_webcap', 'ownrent', 'dwlltype',\n",
       "       'marital', 'infobase', 'HHstatin', 'dwllsize', 'ethnic', 'kid0_2',\n",
       "       'kid3_5', 'kid6_10', 'kid11_15', 'kid16_17', 'creditcd'],\n",
       "      dtype='object')"
      ]
     },
     "execution_count": 22,
     "metadata": {},
     "output_type": "execute_result"
    }
   ],
   "source": [
    "customer_updated.columns"
   ]
  },
  {
   "cell_type": "code",
   "execution_count": 23,
   "id": "3d22b227",
   "metadata": {},
   "outputs": [],
   "source": [
    "#Method1: VIF (not the best method) performed on first dataset.\n",
    "from statsmodels.tools.tools import add_constant\n",
    "from statsmodels.stats.outliers_influence import variance_inflation_factor as vif\n",
    "\n",
    "def vify(cus):\n",
    "    v=cus\n",
    "    vif_data = pd.DataFrame()\n",
    "    vif_data[\"feature\"] = v.columns\n",
    "    vif_data[\"VIF\"] = [vif(v.values, i)for i in range(len(v.columns))]\n",
    "    return vif_data"
   ]
  },
  {
   "cell_type": "code",
   "execution_count": 24,
   "id": "6795e0f8",
   "metadata": {},
   "outputs": [],
   "source": [
    "v_r1= vify(customer_updated)"
   ]
  },
  {
   "cell_type": "code",
   "execution_count": 25,
   "id": "6593b201",
   "metadata": {},
   "outputs": [],
   "source": [
    "hcorr= v_r1[v_r1['VIF']>10].feature.to_list()"
   ]
  },
  {
   "cell_type": "code",
   "execution_count": 26,
   "id": "88d97315",
   "metadata": {},
   "outputs": [],
   "source": [
    "v1=customer_updated.drop(columns=hcorr)\n"
   ]
  },
  {
   "cell_type": "code",
   "execution_count": 27,
   "id": "8d81350f",
   "metadata": {},
   "outputs": [
    {
     "data": {
      "text/html": [
       "<div>\n",
       "<style scoped>\n",
       "    .dataframe tbody tr th:only-of-type {\n",
       "        vertical-align: middle;\n",
       "    }\n",
       "\n",
       "    .dataframe tbody tr th {\n",
       "        vertical-align: top;\n",
       "    }\n",
       "\n",
       "    .dataframe thead th {\n",
       "        text-align: right;\n",
       "    }\n",
       "</style>\n",
       "<table border=\"1\" class=\"dataframe\">\n",
       "  <thead>\n",
       "    <tr style=\"text-align: right;\">\n",
       "      <th></th>\n",
       "      <th>da_Mean</th>\n",
       "      <th>roam_Mean</th>\n",
       "      <th>recv_sms_Mean</th>\n",
       "      <th>threeway_Mean</th>\n",
       "      <th>mouowylisv_Mean</th>\n",
       "      <th>iwylis_vce_Mean</th>\n",
       "      <th>mouiwylisv_Mean</th>\n",
       "      <th>callfwdv_Mean</th>\n",
       "      <th>callwait_Mean</th>\n",
       "      <th>uniqsubs</th>\n",
       "      <th>...</th>\n",
       "      <th>infobase</th>\n",
       "      <th>HHstatin</th>\n",
       "      <th>dwllsize</th>\n",
       "      <th>ethnic</th>\n",
       "      <th>kid0_2</th>\n",
       "      <th>kid3_5</th>\n",
       "      <th>kid6_10</th>\n",
       "      <th>kid11_15</th>\n",
       "      <th>kid16_17</th>\n",
       "      <th>creditcd</th>\n",
       "    </tr>\n",
       "  </thead>\n",
       "  <tbody>\n",
       "    <tr>\n",
       "      <th>0</th>\n",
       "      <td>0.001553</td>\n",
       "      <td>0.000000</td>\n",
       "      <td>0.0</td>\n",
       "      <td>0.000000</td>\n",
       "      <td>0.000000</td>\n",
       "      <td>0.000000</td>\n",
       "      <td>0.000000</td>\n",
       "      <td>0.0</td>\n",
       "      <td>0.001567</td>\n",
       "      <td>0.005128</td>\n",
       "      <td>...</td>\n",
       "      <td>0.0</td>\n",
       "      <td>0.4</td>\n",
       "      <td>0.000000</td>\n",
       "      <td>0.5625</td>\n",
       "      <td>0.0</td>\n",
       "      <td>0.0</td>\n",
       "      <td>0.0</td>\n",
       "      <td>0.0</td>\n",
       "      <td>0.0</td>\n",
       "      <td>1.0</td>\n",
       "    </tr>\n",
       "    <tr>\n",
       "      <th>1</th>\n",
       "      <td>0.001553</td>\n",
       "      <td>0.000000</td>\n",
       "      <td>0.0</td>\n",
       "      <td>0.005051</td>\n",
       "      <td>0.013434</td>\n",
       "      <td>0.012195</td>\n",
       "      <td>0.002170</td>\n",
       "      <td>0.0</td>\n",
       "      <td>0.026646</td>\n",
       "      <td>0.000000</td>\n",
       "      <td>...</td>\n",
       "      <td>0.0</td>\n",
       "      <td>0.4</td>\n",
       "      <td>0.000000</td>\n",
       "      <td>1.0000</td>\n",
       "      <td>0.0</td>\n",
       "      <td>0.0</td>\n",
       "      <td>0.0</td>\n",
       "      <td>0.0</td>\n",
       "      <td>0.0</td>\n",
       "      <td>1.0</td>\n",
       "    </tr>\n",
       "    <tr>\n",
       "      <th>2</th>\n",
       "      <td>0.000000</td>\n",
       "      <td>0.000000</td>\n",
       "      <td>0.0</td>\n",
       "      <td>0.000000</td>\n",
       "      <td>0.000000</td>\n",
       "      <td>0.000000</td>\n",
       "      <td>0.000000</td>\n",
       "      <td>0.0</td>\n",
       "      <td>0.000000</td>\n",
       "      <td>0.000000</td>\n",
       "      <td>...</td>\n",
       "      <td>0.0</td>\n",
       "      <td>0.4</td>\n",
       "      <td>0.000000</td>\n",
       "      <td>0.5625</td>\n",
       "      <td>0.0</td>\n",
       "      <td>1.0</td>\n",
       "      <td>0.0</td>\n",
       "      <td>0.0</td>\n",
       "      <td>0.0</td>\n",
       "      <td>1.0</td>\n",
       "    </tr>\n",
       "    <tr>\n",
       "      <th>3</th>\n",
       "      <td>0.000000</td>\n",
       "      <td>0.000000</td>\n",
       "      <td>0.0</td>\n",
       "      <td>0.000000</td>\n",
       "      <td>0.000142</td>\n",
       "      <td>0.000000</td>\n",
       "      <td>0.000000</td>\n",
       "      <td>0.0</td>\n",
       "      <td>0.000000</td>\n",
       "      <td>0.000000</td>\n",
       "      <td>...</td>\n",
       "      <td>0.0</td>\n",
       "      <td>0.4</td>\n",
       "      <td>0.214286</td>\n",
       "      <td>0.8750</td>\n",
       "      <td>1.0</td>\n",
       "      <td>0.0</td>\n",
       "      <td>0.0</td>\n",
       "      <td>0.0</td>\n",
       "      <td>0.0</td>\n",
       "      <td>1.0</td>\n",
       "    </tr>\n",
       "    <tr>\n",
       "      <th>4</th>\n",
       "      <td>0.000000</td>\n",
       "      <td>0.000000</td>\n",
       "      <td>0.0</td>\n",
       "      <td>0.000000</td>\n",
       "      <td>0.006000</td>\n",
       "      <td>0.001284</td>\n",
       "      <td>0.000215</td>\n",
       "      <td>0.0</td>\n",
       "      <td>0.000000</td>\n",
       "      <td>0.000000</td>\n",
       "      <td>...</td>\n",
       "      <td>0.0</td>\n",
       "      <td>0.4</td>\n",
       "      <td>1.000000</td>\n",
       "      <td>0.3750</td>\n",
       "      <td>0.0</td>\n",
       "      <td>0.0</td>\n",
       "      <td>0.0</td>\n",
       "      <td>0.0</td>\n",
       "      <td>0.0</td>\n",
       "      <td>1.0</td>\n",
       "    </tr>\n",
       "    <tr>\n",
       "      <th>...</th>\n",
       "      <td>...</td>\n",
       "      <td>...</td>\n",
       "      <td>...</td>\n",
       "      <td>...</td>\n",
       "      <td>...</td>\n",
       "      <td>...</td>\n",
       "      <td>...</td>\n",
       "      <td>...</td>\n",
       "      <td>...</td>\n",
       "      <td>...</td>\n",
       "      <td>...</td>\n",
       "      <td>...</td>\n",
       "      <td>...</td>\n",
       "      <td>...</td>\n",
       "      <td>...</td>\n",
       "      <td>...</td>\n",
       "      <td>...</td>\n",
       "      <td>...</td>\n",
       "      <td>...</td>\n",
       "      <td>...</td>\n",
       "      <td>...</td>\n",
       "    </tr>\n",
       "    <tr>\n",
       "      <th>99995</th>\n",
       "      <td>0.005576</td>\n",
       "      <td>0.000349</td>\n",
       "      <td>0.0</td>\n",
       "      <td>0.000000</td>\n",
       "      <td>0.000932</td>\n",
       "      <td>0.000000</td>\n",
       "      <td>0.000000</td>\n",
       "      <td>0.0</td>\n",
       "      <td>0.000000</td>\n",
       "      <td>0.000000</td>\n",
       "      <td>...</td>\n",
       "      <td>0.0</td>\n",
       "      <td>0.4</td>\n",
       "      <td>0.000000</td>\n",
       "      <td>0.8125</td>\n",
       "      <td>0.0</td>\n",
       "      <td>0.0</td>\n",
       "      <td>0.0</td>\n",
       "      <td>1.0</td>\n",
       "      <td>0.0</td>\n",
       "      <td>1.0</td>\n",
       "    </tr>\n",
       "    <tr>\n",
       "      <th>99996</th>\n",
       "      <td>0.005576</td>\n",
       "      <td>0.000349</td>\n",
       "      <td>0.0</td>\n",
       "      <td>0.005051</td>\n",
       "      <td>0.008262</td>\n",
       "      <td>0.000000</td>\n",
       "      <td>0.000000</td>\n",
       "      <td>0.0</td>\n",
       "      <td>0.000000</td>\n",
       "      <td>0.000000</td>\n",
       "      <td>...</td>\n",
       "      <td>0.0</td>\n",
       "      <td>1.0</td>\n",
       "      <td>0.000000</td>\n",
       "      <td>0.5625</td>\n",
       "      <td>0.0</td>\n",
       "      <td>0.0</td>\n",
       "      <td>1.0</td>\n",
       "      <td>1.0</td>\n",
       "      <td>1.0</td>\n",
       "      <td>1.0</td>\n",
       "    </tr>\n",
       "    <tr>\n",
       "      <th>99997</th>\n",
       "      <td>0.005576</td>\n",
       "      <td>0.000349</td>\n",
       "      <td>0.0</td>\n",
       "      <td>0.000000</td>\n",
       "      <td>0.000000</td>\n",
       "      <td>0.000000</td>\n",
       "      <td>0.000000</td>\n",
       "      <td>0.0</td>\n",
       "      <td>0.000000</td>\n",
       "      <td>0.000000</td>\n",
       "      <td>...</td>\n",
       "      <td>0.0</td>\n",
       "      <td>0.4</td>\n",
       "      <td>0.000000</td>\n",
       "      <td>0.8750</td>\n",
       "      <td>1.0</td>\n",
       "      <td>1.0</td>\n",
       "      <td>0.0</td>\n",
       "      <td>0.0</td>\n",
       "      <td>0.0</td>\n",
       "      <td>0.0</td>\n",
       "    </tr>\n",
       "    <tr>\n",
       "      <th>99998</th>\n",
       "      <td>0.005576</td>\n",
       "      <td>0.000349</td>\n",
       "      <td>0.0</td>\n",
       "      <td>0.015152</td>\n",
       "      <td>0.034890</td>\n",
       "      <td>0.032092</td>\n",
       "      <td>0.019303</td>\n",
       "      <td>0.0</td>\n",
       "      <td>0.000000</td>\n",
       "      <td>0.000000</td>\n",
       "      <td>...</td>\n",
       "      <td>0.0</td>\n",
       "      <td>0.4</td>\n",
       "      <td>0.000000</td>\n",
       "      <td>0.8125</td>\n",
       "      <td>0.0</td>\n",
       "      <td>0.0</td>\n",
       "      <td>0.0</td>\n",
       "      <td>0.0</td>\n",
       "      <td>0.0</td>\n",
       "      <td>0.0</td>\n",
       "    </tr>\n",
       "    <tr>\n",
       "      <th>99999</th>\n",
       "      <td>0.005576</td>\n",
       "      <td>0.000349</td>\n",
       "      <td>0.0</td>\n",
       "      <td>0.055556</td>\n",
       "      <td>0.003944</td>\n",
       "      <td>0.000000</td>\n",
       "      <td>0.000000</td>\n",
       "      <td>0.0</td>\n",
       "      <td>0.000000</td>\n",
       "      <td>0.000000</td>\n",
       "      <td>...</td>\n",
       "      <td>0.0</td>\n",
       "      <td>0.4</td>\n",
       "      <td>0.000000</td>\n",
       "      <td>0.3125</td>\n",
       "      <td>0.0</td>\n",
       "      <td>0.0</td>\n",
       "      <td>0.0</td>\n",
       "      <td>0.0</td>\n",
       "      <td>0.0</td>\n",
       "      <td>0.0</td>\n",
       "    </tr>\n",
       "  </tbody>\n",
       "</table>\n",
       "<p>100000 rows × 41 columns</p>\n",
       "</div>"
      ],
      "text/plain": [
       "        da_Mean  roam_Mean  recv_sms_Mean  threeway_Mean  mouowylisv_Mean  \\\n",
       "0      0.001553   0.000000            0.0       0.000000         0.000000   \n",
       "1      0.001553   0.000000            0.0       0.005051         0.013434   \n",
       "2      0.000000   0.000000            0.0       0.000000         0.000000   \n",
       "3      0.000000   0.000000            0.0       0.000000         0.000142   \n",
       "4      0.000000   0.000000            0.0       0.000000         0.006000   \n",
       "...         ...        ...            ...            ...              ...   \n",
       "99995  0.005576   0.000349            0.0       0.000000         0.000932   \n",
       "99996  0.005576   0.000349            0.0       0.005051         0.008262   \n",
       "99997  0.005576   0.000349            0.0       0.000000         0.000000   \n",
       "99998  0.005576   0.000349            0.0       0.015152         0.034890   \n",
       "99999  0.005576   0.000349            0.0       0.055556         0.003944   \n",
       "\n",
       "       iwylis_vce_Mean  mouiwylisv_Mean  callfwdv_Mean  callwait_Mean  \\\n",
       "0             0.000000         0.000000            0.0       0.001567   \n",
       "1             0.012195         0.002170            0.0       0.026646   \n",
       "2             0.000000         0.000000            0.0       0.000000   \n",
       "3             0.000000         0.000000            0.0       0.000000   \n",
       "4             0.001284         0.000215            0.0       0.000000   \n",
       "...                ...              ...            ...            ...   \n",
       "99995         0.000000         0.000000            0.0       0.000000   \n",
       "99996         0.000000         0.000000            0.0       0.000000   \n",
       "99997         0.000000         0.000000            0.0       0.000000   \n",
       "99998         0.032092         0.019303            0.0       0.000000   \n",
       "99999         0.000000         0.000000            0.0       0.000000   \n",
       "\n",
       "       uniqsubs  ...  infobase  HHstatin  dwllsize  ethnic  kid0_2  kid3_5  \\\n",
       "0      0.005128  ...       0.0       0.4  0.000000  0.5625     0.0     0.0   \n",
       "1      0.000000  ...       0.0       0.4  0.000000  1.0000     0.0     0.0   \n",
       "2      0.000000  ...       0.0       0.4  0.000000  0.5625     0.0     1.0   \n",
       "3      0.000000  ...       0.0       0.4  0.214286  0.8750     1.0     0.0   \n",
       "4      0.000000  ...       0.0       0.4  1.000000  0.3750     0.0     0.0   \n",
       "...         ...  ...       ...       ...       ...     ...     ...     ...   \n",
       "99995  0.000000  ...       0.0       0.4  0.000000  0.8125     0.0     0.0   \n",
       "99996  0.000000  ...       0.0       1.0  0.000000  0.5625     0.0     0.0   \n",
       "99997  0.000000  ...       0.0       0.4  0.000000  0.8750     1.0     1.0   \n",
       "99998  0.000000  ...       0.0       0.4  0.000000  0.8125     0.0     0.0   \n",
       "99999  0.000000  ...       0.0       0.4  0.000000  0.3125     0.0     0.0   \n",
       "\n",
       "       kid6_10  kid11_15  kid16_17  creditcd  \n",
       "0          0.0       0.0       0.0       1.0  \n",
       "1          0.0       0.0       0.0       1.0  \n",
       "2          0.0       0.0       0.0       1.0  \n",
       "3          0.0       0.0       0.0       1.0  \n",
       "4          0.0       0.0       0.0       1.0  \n",
       "...        ...       ...       ...       ...  \n",
       "99995      0.0       1.0       0.0       1.0  \n",
       "99996      1.0       1.0       1.0       1.0  \n",
       "99997      0.0       0.0       0.0       0.0  \n",
       "99998      0.0       0.0       0.0       0.0  \n",
       "99999      0.0       0.0       0.0       0.0  \n",
       "\n",
       "[100000 rows x 41 columns]"
      ]
     },
     "execution_count": 27,
     "metadata": {},
     "output_type": "execute_result"
    }
   ],
   "source": [
    "v1"
   ]
  },
  {
   "cell_type": "code",
   "execution_count": 28,
   "id": "55c57971",
   "metadata": {},
   "outputs": [],
   "source": [
    "customer_v=v1"
   ]
  },
  {
   "cell_type": "code",
   "execution_count": 29,
   "id": "cc3bf497",
   "metadata": {},
   "outputs": [
    {
     "data": {
      "text/plain": [
       "Index(['da_Mean', 'roam_Mean', 'recv_sms_Mean', 'threeway_Mean',\n",
       "       'mouowylisv_Mean', 'iwylis_vce_Mean', 'mouiwylisv_Mean',\n",
       "       'callfwdv_Mean', 'callwait_Mean', 'uniqsubs', 'hnd_price', 'phones',\n",
       "       'models', 'truck', 'rv', 'lor', 'adults', 'income', 'numbcars',\n",
       "       'forgntvl', 'eqpdays', 'new_cell', 'crclscod', 'asl_flag',\n",
       "       'prizm_social_one', 'area', 'dualband', 'refurb_new', 'ownrent',\n",
       "       'dwlltype', 'marital', 'infobase', 'HHstatin', 'dwllsize', 'ethnic',\n",
       "       'kid0_2', 'kid3_5', 'kid6_10', 'kid11_15', 'kid16_17', 'creditcd'],\n",
       "      dtype='object')"
      ]
     },
     "execution_count": 29,
     "metadata": {},
     "output_type": "execute_result"
    }
   ],
   "source": [
    "customer_v.columns"
   ]
  },
  {
   "cell_type": "code",
   "execution_count": 30,
   "id": "5e38ca2d",
   "metadata": {},
   "outputs": [],
   "source": [
    "x_norm = (customer_v - customer_v.min(axis=0)) / (customer_v.max(axis=0) - customer_v.min(axis=0))\n",
    "customer_v[:] = x_norm"
   ]
  },
  {
   "cell_type": "code",
   "execution_count": 31,
   "id": "30bf6c7c",
   "metadata": {},
   "outputs": [],
   "source": [
    "from sklearn.model_selection import train_test_split\n",
    "X_train, X_test, y_train, y_test = train_test_split(customer_v, train_label_v, test_size=0.3, random_state=42)"
   ]
  },
  {
   "cell_type": "code",
   "execution_count": 32,
   "id": "47eae755",
   "metadata": {},
   "outputs": [
    {
     "name": "stdout",
     "output_type": "stream",
     "text": [
      "0.5936000000000001\n"
     ]
    }
   ],
   "source": [
    "#Implementing the models after VIF.\n",
    "xg=xgboost.XGBClassifier()\n",
    "xg.fit(X_train,y_train)\n",
    "k_folds = KFold(n_splits = 10)\n",
    "print(cross_val_score(xg, X_train, y_train, cv=k_folds).mean())"
   ]
  },
  {
   "cell_type": "code",
   "execution_count": 33,
   "id": "5c66cd26",
   "metadata": {},
   "outputs": [
    {
     "data": {
      "text/plain": [
       "0.5925946954822328"
      ]
     },
     "execution_count": 33,
     "metadata": {},
     "output_type": "execute_result"
    }
   ],
   "source": [
    "pred_xg=xg.predict(X_test)\n",
    "fpr, tpr, thresholds = metrics.roc_curve(y_test, pred_xg)\n",
    "xg_m=metrics.auc(fpr, tpr)\n",
    "xg_m"
   ]
  },
  {
   "cell_type": "code",
   "execution_count": 34,
   "id": "81a40d3e",
   "metadata": {},
   "outputs": [
    {
     "name": "stdout",
     "output_type": "stream",
     "text": [
      "0.5325\n"
     ]
    }
   ],
   "source": [
    "dt=DecisionTreeClassifier()\n",
    "dt.fit(X_train,y_train)\n",
    "k_folds = KFold(n_splits = 10)\n",
    "print(cross_val_score(dt, X_train, y_train, cv=k_folds).mean())"
   ]
  },
  {
   "cell_type": "code",
   "execution_count": 35,
   "id": "8a583af1",
   "metadata": {},
   "outputs": [
    {
     "data": {
      "text/plain": [
       "0.5316757486239753"
      ]
     },
     "execution_count": 35,
     "metadata": {},
     "output_type": "execute_result"
    }
   ],
   "source": [
    "pred=dt.predict(X_test)\n",
    "fpr, tpr, thresholds = metrics.roc_curve(y_test, pred)\n",
    "dt_m=metrics.auc(fpr, tpr)\n",
    "dt_m"
   ]
  },
  {
   "cell_type": "code",
   "execution_count": 36,
   "id": "cb160ba4",
   "metadata": {},
   "outputs": [
    {
     "name": "stdout",
     "output_type": "stream",
     "text": [
      "0.5874\n"
     ]
    }
   ],
   "source": [
    "#random Forest\n",
    "rf=RandomForestClassifier()\n",
    "rf.fit(X_train,y_train)\n",
    "k_folds = KFold(n_splits = 10)\n",
    "print(cross_val_score(rf, X_train, y_train, cv=k_folds).mean())"
   ]
  },
  {
   "cell_type": "code",
   "execution_count": 37,
   "id": "dcca771c",
   "metadata": {},
   "outputs": [
    {
     "data": {
      "text/plain": [
       "0.5889912178691572"
      ]
     },
     "execution_count": 37,
     "metadata": {},
     "output_type": "execute_result"
    }
   ],
   "source": [
    "\n",
    "pred_rf=rf.predict(X_test)\n",
    "fpr, tpr, thresholds = metrics.roc_curve(y_test, pred_rf)\n",
    "rf_m=metrics.auc(fpr, tpr)\n",
    "rf_m"
   ]
  },
  {
   "cell_type": "code",
   "execution_count": 38,
   "id": "9d93f289",
   "metadata": {},
   "outputs": [
    {
     "name": "stdout",
     "output_type": "stream",
     "text": [
      "0.6018\n"
     ]
    }
   ],
   "source": [
    "#lightbgm\n",
    "gbm=lightgbm.LGBMClassifier()\n",
    "gbm.fit(X_train,y_train)\n",
    "k_folds = KFold(n_splits = 10)\n",
    "print(cross_val_score(gbm, X_train, y_train, cv=k_folds).mean())"
   ]
  },
  {
   "cell_type": "code",
   "execution_count": 39,
   "id": "39e1394a",
   "metadata": {},
   "outputs": [
    {
     "data": {
      "text/plain": [
       "0.5983899757900744"
      ]
     },
     "execution_count": 39,
     "metadata": {},
     "output_type": "execute_result"
    }
   ],
   "source": [
    "pred_gbm=gbm.predict(X_test)\n",
    "fpr, tpr, thresholds = metrics.roc_curve(y_test, pred_gbm)\n",
    "gbm_m=metrics.auc(fpr, tpr)\n",
    "gbm_m"
   ]
  },
  {
   "cell_type": "code",
   "execution_count": 40,
   "id": "c89baf0f",
   "metadata": {},
   "outputs": [],
   "source": [
    "#Method2: hierarchal clustering (not a best method) on firstdataset.\n",
    "corr2=customer_updated.corr(method='spearman')\n",
    "data=customer_updated"
   ]
  },
  {
   "cell_type": "code",
   "execution_count": 41,
   "id": "73c0005c",
   "metadata": {},
   "outputs": [
    {
     "data": {
      "image/png": "[encoded data removed]",
      "text/plain": [
       "<Figure size 864x576 with 2 Axes>"
      ]
     },
     "metadata": {
      "needs_background": "light"
     },
     "output_type": "display_data"
    }
   ],
   "source": [
    "fig, (ax1, ax2) = plt.subplots(2, figsize=(12, 8))\n",
    "\n",
    "distance_matrix = 1 - np.abs(corr2)\n",
    "dist_linkage = hierarchy.ward(squareform(distance_matrix))\n",
    "dendro = hierarchy.dendrogram(\n",
    "    dist_linkage, labels=data.columns.tolist(), ax=ax1, leaf_rotation=90\n",
    ")\n",
    "dendro_idx = np.arange(0, len(dendro[\"ivl\"]))"
   ]
  },
  {
   "cell_type": "code",
   "execution_count": 42,
   "id": "c269a645",
   "metadata": {},
   "outputs": [],
   "source": [
    "cluster_ids = hierarchy.fcluster(dist_linkage, 1, criterion=\"distance\")\n",
    "cluster_id_to_feature_ids = defaultdict(list)\n",
    "for idx, cluster_id in enumerate(cluster_ids):\n",
    "    cluster_id_to_feature_ids[cluster_id].append(idx)\n",
    "selected_features = [v[0] for v in cluster_id_to_feature_ids.values()]"
   ]
  },
  {
   "cell_type": "code",
   "execution_count": 43,
   "id": "aca00b08",
   "metadata": {},
   "outputs": [
    {
     "data": {
      "text/plain": [
       "[0, 4, 7, 8, 9, 10, 21, 44, 46, 47, 65, 67, 69, 71, 73, 76, 84, 86, 90, 93]"
      ]
     },
     "execution_count": 43,
     "metadata": {},
     "output_type": "execute_result"
    }
   ],
   "source": [
    "selected_features"
   ]
  },
  {
   "cell_type": "code",
   "execution_count": 44,
   "id": "460f4861",
   "metadata": {},
   "outputs": [],
   "source": [
    "r=customer_updated.columns"
   ]
  },
  {
   "cell_type": "code",
   "execution_count": 45,
   "id": "d1da54cb",
   "metadata": {},
   "outputs": [],
   "source": [
    "r=r[selected_features]"
   ]
  },
  {
   "cell_type": "code",
   "execution_count": 46,
   "id": "ae64fa1f",
   "metadata": {},
   "outputs": [],
   "source": [
    "h=customer_updated[r]"
   ]
  },
  {
   "cell_type": "code",
   "execution_count": 47,
   "id": "42321d2b",
   "metadata": {},
   "outputs": [],
   "source": [
    "from sklearn.model_selection import train_test_split\n",
    "X_train, X_test, y_train, y_test = train_test_split(h, train_label_v, test_size=0.3, random_state=42)"
   ]
  },
  {
   "cell_type": "code",
   "execution_count": 48,
   "id": "3c2285fb",
   "metadata": {},
   "outputs": [
    {
     "name": "stdout",
     "output_type": "stream",
     "text": [
      "0.5852857142857143\n"
     ]
    }
   ],
   "source": [
    "#Implementing the models After hierarchial feature selection\n",
    "xg=xgboost.XGBClassifier()\n",
    "xg.fit(X_train,y_train)\n",
    "k_folds = KFold(n_splits = 10)\n",
    "print(cross_val_score(xg, X_train, y_train, cv=k_folds).mean())"
   ]
  },
  {
   "cell_type": "code",
   "execution_count": 49,
   "id": "805ced24",
   "metadata": {},
   "outputs": [
    {
     "name": "stdout",
     "output_type": "stream",
     "text": [
      "              precision    recall  f1-score   support\n",
      "\n",
      "           0       0.60      0.58      0.59     15031\n",
      "           1       0.59      0.61      0.60     14969\n",
      "\n",
      "    accuracy                           0.59     30000\n",
      "   macro avg       0.59      0.59      0.59     30000\n",
      "weighted avg       0.59      0.59      0.59     30000\n",
      "\n"
     ]
    }
   ],
   "source": [
    "from sklearn.metrics import classification_report\n",
    "pred_xg=xg.predict(X_test)\n",
    "fpr, tpr, thresholds = metrics.roc_curve(y_test, pred_xg)\n",
    "r=classification_report(y_test, pred_xg)\n",
    "xg_m=metrics.auc(fpr, tpr)\n",
    "print(r)"
   ]
  },
  {
   "cell_type": "code",
   "execution_count": 50,
   "id": "05f4ff65",
   "metadata": {},
   "outputs": [
    {
     "name": "stdout",
     "output_type": "stream",
     "text": [
      "0.5263714285714286\n"
     ]
    }
   ],
   "source": [
    "dt=DecisionTreeClassifier()\n",
    "dt.fit(X_train,y_train)\n",
    "k_folds = KFold(n_splits = 10)\n",
    "print(cross_val_score(dt, X_train, y_train, cv=k_folds).mean())"
   ]
  },
  {
   "cell_type": "code",
   "execution_count": 51,
   "id": "28a77c74",
   "metadata": {},
   "outputs": [
    {
     "data": {
      "text/plain": [
       "0.5288885500528737"
      ]
     },
     "execution_count": 51,
     "metadata": {},
     "output_type": "execute_result"
    }
   ],
   "source": [
    "pred=dt.predict(X_test)\n",
    "fpr, tpr, thresholds = metrics.roc_curve(y_test, pred)\n",
    "dt_m=metrics.auc(fpr, tpr)\n",
    "dt_m"
   ]
  },
  {
   "cell_type": "code",
   "execution_count": 52,
   "id": "ea9e4749",
   "metadata": {},
   "outputs": [
    {
     "name": "stdout",
     "output_type": "stream",
     "text": [
      "0.5748714285714286\n"
     ]
    }
   ],
   "source": [
    "#random Forest\n",
    "rf=RandomForestClassifier()\n",
    "rf.fit(X_train,y_train)\n",
    "k_folds = KFold(n_splits = 10)\n",
    "print(cross_val_score(rf, X_train, y_train, cv=k_folds).mean())"
   ]
  },
  {
   "cell_type": "code",
   "execution_count": 53,
   "id": "8d5a3974",
   "metadata": {},
   "outputs": [
    {
     "data": {
      "text/plain": [
       "0.5798356632092104"
      ]
     },
     "execution_count": 53,
     "metadata": {},
     "output_type": "execute_result"
    }
   ],
   "source": [
    "pred_rf=rf.predict(X_test)\n",
    "fpr, tpr, thresholds = metrics.roc_curve(y_test, pred_rf)\n",
    "rf_m=metrics.auc(fpr, tpr)\n",
    "rf_m"
   ]
  },
  {
   "cell_type": "code",
   "execution_count": 54,
   "id": "27dbd1ff",
   "metadata": {},
   "outputs": [
    {
     "name": "stdout",
     "output_type": "stream",
     "text": [
      "0.5901857142857143\n"
     ]
    }
   ],
   "source": [
    "gbm=lightgbm.LGBMClassifier()\n",
    "gbm.fit(X_train,y_train)\n",
    "k_folds = KFold(n_splits = 10)\n",
    "print(cross_val_score(gbm, X_train, y_train, cv=k_folds).mean())"
   ]
  },
  {
   "cell_type": "code",
   "execution_count": 55,
   "id": "5d979950",
   "metadata": {},
   "outputs": [
    {
     "data": {
      "text/plain": [
       "0.5965807969517594"
      ]
     },
     "execution_count": 55,
     "metadata": {},
     "output_type": "execute_result"
    }
   ],
   "source": [
    "pred_gbm=gbm.predict(X_test)\n",
    "fpr, tpr, thresholds = metrics.roc_curve(y_test, pred_gbm)\n",
    "gbm_m=metrics.auc(fpr, tpr)\n",
    "gbm_m"
   ]
  },
  {
   "cell_type": "code",
   "execution_count": 56,
   "id": "a3bf6f9a",
   "metadata": {},
   "outputs": [
    {
     "data": {
      "text/plain": [
       "Index(['rev_Mean', 'mou_Mean', 'totmrc_Mean', 'da_Mean', 'ovrmou_Mean',\n",
       "       'ovrrev_Mean', 'vceovr_Mean', 'datovr_Mean', 'roam_Mean',\n",
       "       'drop_vce_Mean', 'drop_dat_Mean', 'blck_vce_Mean', 'blck_dat_Mean',\n",
       "       'unan_vce_Mean', 'unan_dat_Mean', 'plcd_vce_Mean', 'plcd_dat_Mean',\n",
       "       'recv_vce_Mean', 'recv_sms_Mean', 'comp_vce_Mean', 'comp_dat_Mean',\n",
       "       'custcare_Mean', 'ccrndmou_Mean', 'cc_mou_Mean', 'inonemin_Mean',\n",
       "       'threeway_Mean', 'mou_cvce_Mean', 'mou_cdat_Mean', 'mou_rvce_Mean',\n",
       "       'owylis_vce_Mean', 'mouowylisv_Mean', 'iwylis_vce_Mean',\n",
       "       'mouiwylisv_Mean', 'peak_vce_Mean', 'peak_dat_Mean', 'mou_peav_Mean',\n",
       "       'mou_pead_Mean', 'opk_vce_Mean', 'opk_dat_Mean', 'mou_opkv_Mean',\n",
       "       'mou_opkd_Mean', 'drop_blk_Mean', 'attempt_Mean', 'complete_Mean',\n",
       "       'callfwdv_Mean', 'callwait_Mean', 'months', 'uniqsubs', 'actvsubs',\n",
       "       'totcalls', 'totmou', 'totrev', 'adjrev', 'adjmou', 'adjqty', 'avgrev',\n",
       "       'avgmou', 'avgqty', 'avg3mou', 'avg3qty', 'avg3rev', 'avg6mou',\n",
       "       'avg6qty', 'avg6rev', 'hnd_price', 'phones', 'models', 'truck', 'rv',\n",
       "       'lor', 'adults', 'income', 'numbcars', 'forgntvl', 'eqpdays',\n",
       "       'new_cell', 'crclscod', 'asl_flag', 'prizm_social_one', 'area',\n",
       "       'dualband', 'refurb_new', 'hnd_webcap', 'ownrent', 'dwlltype',\n",
       "       'marital', 'infobase', 'HHstatin', 'dwllsize', 'ethnic', 'kid0_2',\n",
       "       'kid3_5', 'kid6_10', 'kid11_15', 'kid16_17', 'creditcd'],\n",
       "      dtype='object')"
      ]
     },
     "execution_count": 56,
     "metadata": {},
     "output_type": "execute_result"
    }
   ],
   "source": [
    "customer_updated.columns"
   ]
  },
  {
   "cell_type": "code",
   "execution_count": 57,
   "id": "35dcfac8",
   "metadata": {},
   "outputs": [],
   "source": [
    "p1 = customer_updated"
   ]
  },
  {
   "cell_type": "code",
   "execution_count": 58,
   "id": "4227e144",
   "metadata": {},
   "outputs": [
    {
     "data": {
      "text/html": [
       "<div>\n",
       "<style scoped>\n",
       "    .dataframe tbody tr th:only-of-type {\n",
       "        vertical-align: middle;\n",
       "    }\n",
       "\n",
       "    .dataframe tbody tr th {\n",
       "        vertical-align: top;\n",
       "    }\n",
       "\n",
       "    .dataframe thead th {\n",
       "        text-align: right;\n",
       "    }\n",
       "</style>\n",
       "<table border=\"1\" class=\"dataframe\">\n",
       "  <thead>\n",
       "    <tr style=\"text-align: right;\">\n",
       "      <th></th>\n",
       "      <th>rev_Mean</th>\n",
       "      <th>mou_Mean</th>\n",
       "      <th>totmrc_Mean</th>\n",
       "      <th>da_Mean</th>\n",
       "      <th>ovrmou_Mean</th>\n",
       "      <th>ovrrev_Mean</th>\n",
       "      <th>vceovr_Mean</th>\n",
       "      <th>datovr_Mean</th>\n",
       "      <th>roam_Mean</th>\n",
       "      <th>drop_vce_Mean</th>\n",
       "      <th>...</th>\n",
       "      <th>infobase</th>\n",
       "      <th>HHstatin</th>\n",
       "      <th>dwllsize</th>\n",
       "      <th>ethnic</th>\n",
       "      <th>kid0_2</th>\n",
       "      <th>kid3_5</th>\n",
       "      <th>kid6_10</th>\n",
       "      <th>kid11_15</th>\n",
       "      <th>kid16_17</th>\n",
       "      <th>creditcd</th>\n",
       "    </tr>\n",
       "  </thead>\n",
       "  <tbody>\n",
       "    <tr>\n",
       "      <th>0</th>\n",
       "      <td>0.007836</td>\n",
       "      <td>0.017961</td>\n",
       "      <td>0.113102</td>\n",
       "      <td>0.001553</td>\n",
       "      <td>0.000000</td>\n",
       "      <td>0.000000</td>\n",
       "      <td>0.000000</td>\n",
       "      <td>0.000000</td>\n",
       "      <td>0.000000</td>\n",
       "      <td>0.002865</td>\n",
       "      <td>...</td>\n",
       "      <td>0.0</td>\n",
       "      <td>0.4</td>\n",
       "      <td>0.000000</td>\n",
       "      <td>0.5625</td>\n",
       "      <td>0.0</td>\n",
       "      <td>0.0</td>\n",
       "      <td>0.0</td>\n",
       "      <td>0.0</td>\n",
       "      <td>0.0</td>\n",
       "      <td>1.0</td>\n",
       "    </tr>\n",
       "    <tr>\n",
       "      <th>1</th>\n",
       "      <td>0.016538</td>\n",
       "      <td>0.039548</td>\n",
       "      <td>0.147263</td>\n",
       "      <td>0.001553</td>\n",
       "      <td>0.005265</td>\n",
       "      <td>0.008255</td>\n",
       "      <td>0.010155</td>\n",
       "      <td>0.000000</td>\n",
       "      <td>0.000000</td>\n",
       "      <td>0.035817</td>\n",
       "      <td>...</td>\n",
       "      <td>0.0</td>\n",
       "      <td>0.4</td>\n",
       "      <td>0.000000</td>\n",
       "      <td>1.0000</td>\n",
       "      <td>0.0</td>\n",
       "      <td>0.0</td>\n",
       "      <td>0.0</td>\n",
       "      <td>0.0</td>\n",
       "      <td>0.0</td>\n",
       "      <td>1.0</td>\n",
       "    </tr>\n",
       "    <tr>\n",
       "      <th>2</th>\n",
       "      <td>0.006016</td>\n",
       "      <td>0.000840</td>\n",
       "      <td>0.100491</td>\n",
       "      <td>0.000000</td>\n",
       "      <td>0.000000</td>\n",
       "      <td>0.000000</td>\n",
       "      <td>0.000000</td>\n",
       "      <td>0.000000</td>\n",
       "      <td>0.000000</td>\n",
       "      <td>0.001433</td>\n",
       "      <td>...</td>\n",
       "      <td>0.0</td>\n",
       "      <td>0.4</td>\n",
       "      <td>0.000000</td>\n",
       "      <td>0.5625</td>\n",
       "      <td>0.0</td>\n",
       "      <td>1.0</td>\n",
       "      <td>0.0</td>\n",
       "      <td>0.0</td>\n",
       "      <td>0.0</td>\n",
       "      <td>1.0</td>\n",
       "    </tr>\n",
       "    <tr>\n",
       "      <th>3</th>\n",
       "      <td>0.011474</td>\n",
       "      <td>0.000614</td>\n",
       "      <td>0.148579</td>\n",
       "      <td>0.000000</td>\n",
       "      <td>0.000000</td>\n",
       "      <td>0.000000</td>\n",
       "      <td>0.000000</td>\n",
       "      <td>0.000000</td>\n",
       "      <td>0.000000</td>\n",
       "      <td>0.000000</td>\n",
       "      <td>...</td>\n",
       "      <td>0.0</td>\n",
       "      <td>0.4</td>\n",
       "      <td>0.214286</td>\n",
       "      <td>0.8750</td>\n",
       "      <td>1.0</td>\n",
       "      <td>0.0</td>\n",
       "      <td>0.0</td>\n",
       "      <td>0.0</td>\n",
       "      <td>0.0</td>\n",
       "      <td>1.0</td>\n",
       "    </tr>\n",
       "    <tr>\n",
       "      <th>4</th>\n",
       "      <td>0.015950</td>\n",
       "      <td>0.046736</td>\n",
       "      <td>0.226354</td>\n",
       "      <td>0.000000</td>\n",
       "      <td>0.000000</td>\n",
       "      <td>0.000000</td>\n",
       "      <td>0.000000</td>\n",
       "      <td>0.000000</td>\n",
       "      <td>0.000000</td>\n",
       "      <td>0.041547</td>\n",
       "      <td>...</td>\n",
       "      <td>0.0</td>\n",
       "      <td>0.4</td>\n",
       "      <td>1.000000</td>\n",
       "      <td>0.3750</td>\n",
       "      <td>0.0</td>\n",
       "      <td>0.0</td>\n",
       "      <td>0.0</td>\n",
       "      <td>0.0</td>\n",
       "      <td>0.0</td>\n",
       "      <td>1.0</td>\n",
       "    </tr>\n",
       "    <tr>\n",
       "      <th>...</th>\n",
       "      <td>...</td>\n",
       "      <td>...</td>\n",
       "      <td>...</td>\n",
       "      <td>...</td>\n",
       "      <td>...</td>\n",
       "      <td>...</td>\n",
       "      <td>...</td>\n",
       "      <td>...</td>\n",
       "      <td>...</td>\n",
       "      <td>...</td>\n",
       "      <td>...</td>\n",
       "      <td>...</td>\n",
       "      <td>...</td>\n",
       "      <td>...</td>\n",
       "      <td>...</td>\n",
       "      <td>...</td>\n",
       "      <td>...</td>\n",
       "      <td>...</td>\n",
       "      <td>...</td>\n",
       "      <td>...</td>\n",
       "      <td>...</td>\n",
       "    </tr>\n",
       "    <tr>\n",
       "      <th>99995</th>\n",
       "      <td>0.016856</td>\n",
       "      <td>0.042072</td>\n",
       "      <td>0.167300</td>\n",
       "      <td>0.005576</td>\n",
       "      <td>0.009506</td>\n",
       "      <td>0.012300</td>\n",
       "      <td>0.014837</td>\n",
       "      <td>0.000617</td>\n",
       "      <td>0.000349</td>\n",
       "      <td>0.008596</td>\n",
       "      <td>...</td>\n",
       "      <td>0.0</td>\n",
       "      <td>0.4</td>\n",
       "      <td>0.000000</td>\n",
       "      <td>0.8125</td>\n",
       "      <td>0.0</td>\n",
       "      <td>0.0</td>\n",
       "      <td>0.0</td>\n",
       "      <td>1.0</td>\n",
       "      <td>0.0</td>\n",
       "      <td>1.0</td>\n",
       "    </tr>\n",
       "    <tr>\n",
       "      <th>99996</th>\n",
       "      <td>0.016856</td>\n",
       "      <td>0.042072</td>\n",
       "      <td>0.167300</td>\n",
       "      <td>0.005576</td>\n",
       "      <td>0.009506</td>\n",
       "      <td>0.012300</td>\n",
       "      <td>0.014837</td>\n",
       "      <td>0.000617</td>\n",
       "      <td>0.000349</td>\n",
       "      <td>0.012894</td>\n",
       "      <td>...</td>\n",
       "      <td>0.0</td>\n",
       "      <td>1.0</td>\n",
       "      <td>0.000000</td>\n",
       "      <td>0.5625</td>\n",
       "      <td>0.0</td>\n",
       "      <td>0.0</td>\n",
       "      <td>1.0</td>\n",
       "      <td>1.0</td>\n",
       "      <td>1.0</td>\n",
       "      <td>1.0</td>\n",
       "    </tr>\n",
       "    <tr>\n",
       "      <th>99997</th>\n",
       "      <td>0.016856</td>\n",
       "      <td>0.042072</td>\n",
       "      <td>0.167300</td>\n",
       "      <td>0.005576</td>\n",
       "      <td>0.009506</td>\n",
       "      <td>0.012300</td>\n",
       "      <td>0.014837</td>\n",
       "      <td>0.000617</td>\n",
       "      <td>0.000349</td>\n",
       "      <td>0.000000</td>\n",
       "      <td>...</td>\n",
       "      <td>0.0</td>\n",
       "      <td>0.4</td>\n",
       "      <td>0.000000</td>\n",
       "      <td>0.8750</td>\n",
       "      <td>1.0</td>\n",
       "      <td>1.0</td>\n",
       "      <td>0.0</td>\n",
       "      <td>0.0</td>\n",
       "      <td>0.0</td>\n",
       "      <td>0.0</td>\n",
       "    </tr>\n",
       "    <tr>\n",
       "      <th>99998</th>\n",
       "      <td>0.016856</td>\n",
       "      <td>0.042072</td>\n",
       "      <td>0.167300</td>\n",
       "      <td>0.005576</td>\n",
       "      <td>0.009506</td>\n",
       "      <td>0.012300</td>\n",
       "      <td>0.014837</td>\n",
       "      <td>0.000617</td>\n",
       "      <td>0.000349</td>\n",
       "      <td>0.080229</td>\n",
       "      <td>...</td>\n",
       "      <td>0.0</td>\n",
       "      <td>0.4</td>\n",
       "      <td>0.000000</td>\n",
       "      <td>0.8125</td>\n",
       "      <td>0.0</td>\n",
       "      <td>0.0</td>\n",
       "      <td>0.0</td>\n",
       "      <td>0.0</td>\n",
       "      <td>0.0</td>\n",
       "      <td>0.0</td>\n",
       "    </tr>\n",
       "    <tr>\n",
       "      <th>99999</th>\n",
       "      <td>0.016856</td>\n",
       "      <td>0.042072</td>\n",
       "      <td>0.167300</td>\n",
       "      <td>0.005576</td>\n",
       "      <td>0.009506</td>\n",
       "      <td>0.012300</td>\n",
       "      <td>0.014837</td>\n",
       "      <td>0.000617</td>\n",
       "      <td>0.000349</td>\n",
       "      <td>0.024355</td>\n",
       "      <td>...</td>\n",
       "      <td>0.0</td>\n",
       "      <td>0.4</td>\n",
       "      <td>0.000000</td>\n",
       "      <td>0.3125</td>\n",
       "      <td>0.0</td>\n",
       "      <td>0.0</td>\n",
       "      <td>0.0</td>\n",
       "      <td>0.0</td>\n",
       "      <td>0.0</td>\n",
       "      <td>0.0</td>\n",
       "    </tr>\n",
       "  </tbody>\n",
       "</table>\n",
       "<p>100000 rows × 96 columns</p>\n",
       "</div>"
      ],
      "text/plain": [
       "       rev_Mean  mou_Mean  totmrc_Mean   da_Mean  ovrmou_Mean  ovrrev_Mean  \\\n",
       "0      0.007836  0.017961     0.113102  0.001553     0.000000     0.000000   \n",
       "1      0.016538  0.039548     0.147263  0.001553     0.005265     0.008255   \n",
       "2      0.006016  0.000840     0.100491  0.000000     0.000000     0.000000   \n",
       "3      0.011474  0.000614     0.148579  0.000000     0.000000     0.000000   \n",
       "4      0.015950  0.046736     0.226354  0.000000     0.000000     0.000000   \n",
       "...         ...       ...          ...       ...          ...          ...   \n",
       "99995  0.016856  0.042072     0.167300  0.005576     0.009506     0.012300   \n",
       "99996  0.016856  0.042072     0.167300  0.005576     0.009506     0.012300   \n",
       "99997  0.016856  0.042072     0.167300  0.005576     0.009506     0.012300   \n",
       "99998  0.016856  0.042072     0.167300  0.005576     0.009506     0.012300   \n",
       "99999  0.016856  0.042072     0.167300  0.005576     0.009506     0.012300   \n",
       "\n",
       "       vceovr_Mean  datovr_Mean  roam_Mean  drop_vce_Mean  ...  infobase  \\\n",
       "0         0.000000     0.000000   0.000000       0.002865  ...       0.0   \n",
       "1         0.010155     0.000000   0.000000       0.035817  ...       0.0   \n",
       "2         0.000000     0.000000   0.000000       0.001433  ...       0.0   \n",
       "3         0.000000     0.000000   0.000000       0.000000  ...       0.0   \n",
       "4         0.000000     0.000000   0.000000       0.041547  ...       0.0   \n",
       "...            ...          ...        ...            ...  ...       ...   \n",
       "99995     0.014837     0.000617   0.000349       0.008596  ...       0.0   \n",
       "99996     0.014837     0.000617   0.000349       0.012894  ...       0.0   \n",
       "99997     0.014837     0.000617   0.000349       0.000000  ...       0.0   \n",
       "99998     0.014837     0.000617   0.000349       0.080229  ...       0.0   \n",
       "99999     0.014837     0.000617   0.000349       0.024355  ...       0.0   \n",
       "\n",
       "       HHstatin  dwllsize  ethnic  kid0_2  kid3_5  kid6_10  kid11_15  \\\n",
       "0           0.4  0.000000  0.5625     0.0     0.0      0.0       0.0   \n",
       "1           0.4  0.000000  1.0000     0.0     0.0      0.0       0.0   \n",
       "2           0.4  0.000000  0.5625     0.0     1.0      0.0       0.0   \n",
       "3           0.4  0.214286  0.8750     1.0     0.0      0.0       0.0   \n",
       "4           0.4  1.000000  0.3750     0.0     0.0      0.0       0.0   \n",
       "...         ...       ...     ...     ...     ...      ...       ...   \n",
       "99995       0.4  0.000000  0.8125     0.0     0.0      0.0       1.0   \n",
       "99996       1.0  0.000000  0.5625     0.0     0.0      1.0       1.0   \n",
       "99997       0.4  0.000000  0.8750     1.0     1.0      0.0       0.0   \n",
       "99998       0.4  0.000000  0.8125     0.0     0.0      0.0       0.0   \n",
       "99999       0.4  0.000000  0.3125     0.0     0.0      0.0       0.0   \n",
       "\n",
       "       kid16_17  creditcd  \n",
       "0           0.0       1.0  \n",
       "1           0.0       1.0  \n",
       "2           0.0       1.0  \n",
       "3           0.0       1.0  \n",
       "4           0.0       1.0  \n",
       "...         ...       ...  \n",
       "99995       0.0       1.0  \n",
       "99996       1.0       1.0  \n",
       "99997       0.0       0.0  \n",
       "99998       0.0       0.0  \n",
       "99999       0.0       0.0  \n",
       "\n",
       "[100000 rows x 96 columns]"
      ]
     },
     "execution_count": 58,
     "metadata": {},
     "output_type": "execute_result"
    }
   ],
   "source": [
    "p1"
   ]
  },
  {
   "cell_type": "code",
   "execution_count": 59,
   "id": "5fd908f6",
   "metadata": {},
   "outputs": [],
   "source": [
    "#Method3: PCA on first dataset. (not the best method) on first dataset."
   ]
  },
  {
   "cell_type": "code",
   "execution_count": 60,
   "id": "1aabc43a",
   "metadata": {},
   "outputs": [],
   "source": [
    "pca_1 = PCA(n_components=90)"
   ]
  },
  {
   "cell_type": "code",
   "execution_count": 61,
   "id": "e9097d2a",
   "metadata": {},
   "outputs": [
    {
     "data": {
      "text/plain": [
       "PCA(n_components=90)"
      ]
     },
     "execution_count": 61,
     "metadata": {},
     "output_type": "execute_result"
    }
   ],
   "source": [
    "pca_1.fit(p1)"
   ]
  },
  {
   "cell_type": "code",
   "execution_count": 62,
   "id": "78bfb6b1",
   "metadata": {},
   "outputs": [],
   "source": [
    "y_pca1 = pca_1.transform(p1)"
   ]
  },
  {
   "cell_type": "code",
   "execution_count": 63,
   "id": "69c8a508",
   "metadata": {},
   "outputs": [
    {
     "data": {
      "text/plain": [
       "array([[ 1.33686005e-01, -7.98708405e-02, -1.39824830e-01, ...,\n",
       "         3.11337330e-07,  5.77680720e-05, -7.60370480e-07],\n",
       "       [ 5.93404796e-01,  9.51843296e-02,  7.63438136e-01, ...,\n",
       "        -1.29704024e-05,  1.60603927e-04,  1.04559570e-05],\n",
       "       [ 2.68290334e-01,  3.15053938e-01,  8.06870973e-01, ...,\n",
       "        -2.00911151e-05, -2.07561050e-05, -2.78173696e-06],\n",
       "       ...,\n",
       "       [-3.87387006e-01, -1.75147774e-01, -1.40189056e-01, ...,\n",
       "         1.46574362e-05, -2.17638592e-05,  8.18596557e-06],\n",
       "       [-7.75649250e-01, -2.74569429e-01, -1.47022724e-01, ...,\n",
       "        -1.04239993e-05, -8.35729776e-05,  1.42595377e-05],\n",
       "       [-4.52213654e-01, -1.70839769e-01, -2.32262976e-01, ...,\n",
       "        -3.68766458e-05, -7.34193476e-05,  8.03997851e-06]])"
      ]
     },
     "execution_count": 63,
     "metadata": {},
     "output_type": "execute_result"
    }
   ],
   "source": [
    "y_pca1"
   ]
  },
  {
   "cell_type": "code",
   "execution_count": 64,
   "id": "375aeed4",
   "metadata": {},
   "outputs": [
    {
     "data": {
      "text/plain": [
       "(100000, 90)"
      ]
     },
     "execution_count": 64,
     "metadata": {},
     "output_type": "execute_result"
    }
   ],
   "source": [
    "y_pca1.shape"
   ]
  },
  {
   "cell_type": "code",
   "execution_count": 65,
   "id": "181d7ab5",
   "metadata": {},
   "outputs": [],
   "source": [
    "dt = DecisionTreeClassifier()\n",
    "xg = xgboost.XGBRegressor()\n",
    "rf = RandomForestClassifier()\n",
    "gbm = lightgbm.LGBMClassifier()"
   ]
  },
  {
   "cell_type": "code",
   "execution_count": 66,
   "id": "445a27ae",
   "metadata": {},
   "outputs": [],
   "source": [
    "from sklearn.model_selection import train_test_split\n",
    "X_train, X_test, y_train, y_test = train_test_split(y_pca1, train_label, test_size=0.3, random_state=42)"
   ]
  },
  {
   "cell_type": "code",
   "execution_count": 67,
   "id": "b6ec765e",
   "metadata": {},
   "outputs": [
    {
     "name": "stdout",
     "output_type": "stream",
     "text": [
      "0.5308714285714285\n"
     ]
    }
   ],
   "source": [
    "#1.desicion tree. \n",
    "dt.fit(X_train,y_train)\n",
    "k_folds = KFold(n_splits = 10)\n",
    "print(cross_val_score(dt, X_train, y_train, cv=k_folds).mean())"
   ]
  },
  {
   "cell_type": "code",
   "execution_count": 68,
   "id": "18fcb015",
   "metadata": {},
   "outputs": [
    {
     "data": {
      "text/plain": [
       "0.5263615437041933"
      ]
     },
     "execution_count": 68,
     "metadata": {},
     "output_type": "execute_result"
    }
   ],
   "source": [
    "pred_dt = dt.predict(X_test)\n",
    "fpr_dt, tpr_dt, thresholds_dt = metrics.roc_curve(y_test, pred_dt)\n",
    "dt_m = metrics.auc(fpr_dt, tpr_dt)\n",
    "dt_m"
   ]
  },
  {
   "cell_type": "code",
   "execution_count": 69,
   "id": "b18b25c2",
   "metadata": {},
   "outputs": [
    {
     "name": "stdout",
     "output_type": "stream",
     "text": [
      "0.5874428571428572\n"
     ]
    }
   ],
   "source": [
    "#2.Random Forest.\n",
    "rf.fit(X_train,y_train)\n",
    "k_folds = KFold(n_splits = 10)\n",
    "print(cross_val_score(rf, X_train,y_train, cv=k_folds).mean())"
   ]
  },
  {
   "cell_type": "code",
   "execution_count": 70,
   "id": "66349169",
   "metadata": {},
   "outputs": [
    {
     "data": {
      "text/plain": [
       "0.5867118481337158"
      ]
     },
     "execution_count": 70,
     "metadata": {},
     "output_type": "execute_result"
    }
   ],
   "source": [
    "pred_rf = rf.predict(X_test)\n",
    "fpr_rf, tpr_rf, thresholds_rf = metrics.roc_curve(y_test, pred_rf)\n",
    "rf_m = metrics.auc(fpr_rf, tpr_rf)\n",
    "rf_m"
   ]
  },
  {
   "cell_type": "code",
   "execution_count": 71,
   "id": "5be04ab2",
   "metadata": {},
   "outputs": [
    {
     "name": "stdout",
     "output_type": "stream",
     "text": [
      "0.027551847891131166\n"
     ]
    }
   ],
   "source": [
    "#3.XGBoost.\n",
    "xg.fit(X_train,y_train)\n",
    "k_folds = KFold(n_splits = 10)\n",
    "print(cross_val_score(xg, X_train,y_train, cv=k_folds).mean())"
   ]
  },
  {
   "cell_type": "code",
   "execution_count": 72,
   "id": "b5276204",
   "metadata": {},
   "outputs": [
    {
     "data": {
      "text/plain": [
       "0.6294182127595664"
      ]
     },
     "execution_count": 72,
     "metadata": {},
     "output_type": "execute_result"
    }
   ],
   "source": [
    "pred_xg = xg.predict(X_test)\n",
    "fpr_xg, tpr_xg, thresholds_xg = metrics.roc_curve(y_test, pred_xg)\n",
    "xg_m = metrics.auc(fpr_xg, tpr_xg)\n",
    "xg_m"
   ]
  },
  {
   "cell_type": "code",
   "execution_count": 73,
   "id": "d3bd3bbc",
   "metadata": {},
   "outputs": [
    {
     "name": "stdout",
     "output_type": "stream",
     "text": [
      "0.6056142857142859\n"
     ]
    }
   ],
   "source": [
    "#4.Light GBM.\n",
    "gbm.fit(X_train,y_train)\n",
    "k_folds = KFold(n_splits = 10)\n",
    "print(cross_val_score(gbm, X_train,y_train, cv=k_folds).mean())"
   ]
  },
  {
   "cell_type": "code",
   "execution_count": 74,
   "id": "a4d4e608",
   "metadata": {},
   "outputs": [
    {
     "data": {
      "text/plain": [
       "0.6075577571689095"
      ]
     },
     "execution_count": 74,
     "metadata": {},
     "output_type": "execute_result"
    }
   ],
   "source": [
    "pred_gbm = gbm.predict(X_test)\n",
    "fpr_gbm, tpr_gbm, thresholds_gbm = metrics.roc_curve(y_test, pred_gbm)\n",
    "gbm_m = metrics.auc(fpr_gbm, tpr_gbm)\n",
    "gbm_m"
   ]
  },
  {
   "cell_type": "code",
   "execution_count": null,
   "id": "eb72d0df",
   "metadata": {},
   "outputs": [],
   "source": []
  },
  {
   "cell_type": "code",
   "execution_count": null,
   "id": "687b8ce2",
   "metadata": {},
   "outputs": [],
   "source": []
  },
  {
   "cell_type": "code",
   "execution_count": 75,
   "id": "94dc1e7e",
   "metadata": {},
   "outputs": [],
   "source": [
    "#Reading in the dataset 2.\n",
    "customer2 = pd.read_csv('second.csv')"
   ]
  },
  {
   "cell_type": "code",
   "execution_count": 76,
   "id": "4b299853",
   "metadata": {},
   "outputs": [
    {
     "data": {
      "text/html": [
       "<div>\n",
       "<style scoped>\n",
       "    .dataframe tbody tr th:only-of-type {\n",
       "        vertical-align: middle;\n",
       "    }\n",
       "\n",
       "    .dataframe tbody tr th {\n",
       "        vertical-align: top;\n",
       "    }\n",
       "\n",
       "    .dataframe thead th {\n",
       "        text-align: right;\n",
       "    }\n",
       "</style>\n",
       "<table border=\"1\" class=\"dataframe\">\n",
       "  <thead>\n",
       "    <tr style=\"text-align: right;\">\n",
       "      <th></th>\n",
       "      <th>CustomerID</th>\n",
       "      <th>Churn</th>\n",
       "      <th>MonthlyRevenue</th>\n",
       "      <th>MonthlyMinutes</th>\n",
       "      <th>TotalRecurringCharge</th>\n",
       "      <th>DirectorAssistedCalls</th>\n",
       "      <th>OverageMinutes</th>\n",
       "      <th>RoamingCalls</th>\n",
       "      <th>PercChangeMinutes</th>\n",
       "      <th>PercChangeRevenues</th>\n",
       "      <th>...</th>\n",
       "      <th>ReferralsMadeBySubscriber</th>\n",
       "      <th>IncomeGroup</th>\n",
       "      <th>OwnsMotorcycle</th>\n",
       "      <th>AdjustmentsToCreditRating</th>\n",
       "      <th>HandsetPrice</th>\n",
       "      <th>MadeCallToRetentionTeam</th>\n",
       "      <th>CreditRating</th>\n",
       "      <th>PrizmCode</th>\n",
       "      <th>Occupation</th>\n",
       "      <th>MaritalStatus</th>\n",
       "    </tr>\n",
       "  </thead>\n",
       "  <tbody>\n",
       "    <tr>\n",
       "      <th>0</th>\n",
       "      <td>3000002</td>\n",
       "      <td>Yes</td>\n",
       "      <td>24.00</td>\n",
       "      <td>219.0</td>\n",
       "      <td>22.0</td>\n",
       "      <td>0.25</td>\n",
       "      <td>0.0</td>\n",
       "      <td>0.0</td>\n",
       "      <td>-157.0</td>\n",
       "      <td>-19.0</td>\n",
       "      <td>...</td>\n",
       "      <td>0</td>\n",
       "      <td>4</td>\n",
       "      <td>No</td>\n",
       "      <td>0</td>\n",
       "      <td>30</td>\n",
       "      <td>Yes</td>\n",
       "      <td>1-Highest</td>\n",
       "      <td>Suburban</td>\n",
       "      <td>Professional</td>\n",
       "      <td>No</td>\n",
       "    </tr>\n",
       "    <tr>\n",
       "      <th>1</th>\n",
       "      <td>3000010</td>\n",
       "      <td>Yes</td>\n",
       "      <td>16.99</td>\n",
       "      <td>10.0</td>\n",
       "      <td>17.0</td>\n",
       "      <td>0.00</td>\n",
       "      <td>0.0</td>\n",
       "      <td>0.0</td>\n",
       "      <td>-4.0</td>\n",
       "      <td>0.0</td>\n",
       "      <td>...</td>\n",
       "      <td>0</td>\n",
       "      <td>5</td>\n",
       "      <td>No</td>\n",
       "      <td>0</td>\n",
       "      <td>30</td>\n",
       "      <td>No</td>\n",
       "      <td>4-Medium</td>\n",
       "      <td>Suburban</td>\n",
       "      <td>Professional</td>\n",
       "      <td>Yes</td>\n",
       "    </tr>\n",
       "    <tr>\n",
       "      <th>2</th>\n",
       "      <td>3000014</td>\n",
       "      <td>No</td>\n",
       "      <td>38.00</td>\n",
       "      <td>8.0</td>\n",
       "      <td>38.0</td>\n",
       "      <td>0.00</td>\n",
       "      <td>0.0</td>\n",
       "      <td>0.0</td>\n",
       "      <td>-2.0</td>\n",
       "      <td>0.0</td>\n",
       "      <td>...</td>\n",
       "      <td>0</td>\n",
       "      <td>6</td>\n",
       "      <td>No</td>\n",
       "      <td>0</td>\n",
       "      <td>Unknown</td>\n",
       "      <td>No</td>\n",
       "      <td>3-Good</td>\n",
       "      <td>Town</td>\n",
       "      <td>Crafts</td>\n",
       "      <td>Yes</td>\n",
       "    </tr>\n",
       "    <tr>\n",
       "      <th>3</th>\n",
       "      <td>3000022</td>\n",
       "      <td>No</td>\n",
       "      <td>82.28</td>\n",
       "      <td>1312.0</td>\n",
       "      <td>75.0</td>\n",
       "      <td>1.24</td>\n",
       "      <td>0.0</td>\n",
       "      <td>0.0</td>\n",
       "      <td>157.0</td>\n",
       "      <td>8.1</td>\n",
       "      <td>...</td>\n",
       "      <td>0</td>\n",
       "      <td>6</td>\n",
       "      <td>No</td>\n",
       "      <td>0</td>\n",
       "      <td>10</td>\n",
       "      <td>No</td>\n",
       "      <td>4-Medium</td>\n",
       "      <td>Other</td>\n",
       "      <td>Other</td>\n",
       "      <td>No</td>\n",
       "    </tr>\n",
       "    <tr>\n",
       "      <th>4</th>\n",
       "      <td>3000026</td>\n",
       "      <td>Yes</td>\n",
       "      <td>17.14</td>\n",
       "      <td>0.0</td>\n",
       "      <td>17.0</td>\n",
       "      <td>0.00</td>\n",
       "      <td>0.0</td>\n",
       "      <td>0.0</td>\n",
       "      <td>0.0</td>\n",
       "      <td>-0.2</td>\n",
       "      <td>...</td>\n",
       "      <td>0</td>\n",
       "      <td>9</td>\n",
       "      <td>No</td>\n",
       "      <td>1</td>\n",
       "      <td>10</td>\n",
       "      <td>No</td>\n",
       "      <td>1-Highest</td>\n",
       "      <td>Other</td>\n",
       "      <td>Professional</td>\n",
       "      <td>Yes</td>\n",
       "    </tr>\n",
       "    <tr>\n",
       "      <th>...</th>\n",
       "      <td>...</td>\n",
       "      <td>...</td>\n",
       "      <td>...</td>\n",
       "      <td>...</td>\n",
       "      <td>...</td>\n",
       "      <td>...</td>\n",
       "      <td>...</td>\n",
       "      <td>...</td>\n",
       "      <td>...</td>\n",
       "      <td>...</td>\n",
       "      <td>...</td>\n",
       "      <td>...</td>\n",
       "      <td>...</td>\n",
       "      <td>...</td>\n",
       "      <td>...</td>\n",
       "      <td>...</td>\n",
       "      <td>...</td>\n",
       "      <td>...</td>\n",
       "      <td>...</td>\n",
       "      <td>...</td>\n",
       "      <td>...</td>\n",
       "    </tr>\n",
       "    <tr>\n",
       "      <th>51042</th>\n",
       "      <td>3399958</td>\n",
       "      <td>Yes</td>\n",
       "      <td>NaN</td>\n",
       "      <td>NaN</td>\n",
       "      <td>NaN</td>\n",
       "      <td>NaN</td>\n",
       "      <td>NaN</td>\n",
       "      <td>NaN</td>\n",
       "      <td>NaN</td>\n",
       "      <td>NaN</td>\n",
       "      <td>...</td>\n",
       "      <td>0</td>\n",
       "      <td>6</td>\n",
       "      <td>No</td>\n",
       "      <td>0</td>\n",
       "      <td>60</td>\n",
       "      <td>No</td>\n",
       "      <td>1-Highest</td>\n",
       "      <td>Suburban</td>\n",
       "      <td>Other</td>\n",
       "      <td>Yes</td>\n",
       "    </tr>\n",
       "    <tr>\n",
       "      <th>51043</th>\n",
       "      <td>3399974</td>\n",
       "      <td>No</td>\n",
       "      <td>95.17</td>\n",
       "      <td>1745.0</td>\n",
       "      <td>85.0</td>\n",
       "      <td>0.99</td>\n",
       "      <td>45.0</td>\n",
       "      <td>4.7</td>\n",
       "      <td>122.0</td>\n",
       "      <td>15.9</td>\n",
       "      <td>...</td>\n",
       "      <td>0</td>\n",
       "      <td>9</td>\n",
       "      <td>No</td>\n",
       "      <td>1</td>\n",
       "      <td>60</td>\n",
       "      <td>No</td>\n",
       "      <td>3-Good</td>\n",
       "      <td>Other</td>\n",
       "      <td>Other</td>\n",
       "      <td>No</td>\n",
       "    </tr>\n",
       "    <tr>\n",
       "      <th>51044</th>\n",
       "      <td>3399978</td>\n",
       "      <td>Yes</td>\n",
       "      <td>NaN</td>\n",
       "      <td>NaN</td>\n",
       "      <td>NaN</td>\n",
       "      <td>NaN</td>\n",
       "      <td>NaN</td>\n",
       "      <td>NaN</td>\n",
       "      <td>NaN</td>\n",
       "      <td>NaN</td>\n",
       "      <td>...</td>\n",
       "      <td>0</td>\n",
       "      <td>7</td>\n",
       "      <td>No</td>\n",
       "      <td>1</td>\n",
       "      <td>80</td>\n",
       "      <td>No</td>\n",
       "      <td>5-Low</td>\n",
       "      <td>Other</td>\n",
       "      <td>Clerical</td>\n",
       "      <td>No</td>\n",
       "    </tr>\n",
       "    <tr>\n",
       "      <th>51045</th>\n",
       "      <td>3399990</td>\n",
       "      <td>No</td>\n",
       "      <td>NaN</td>\n",
       "      <td>NaN</td>\n",
       "      <td>NaN</td>\n",
       "      <td>NaN</td>\n",
       "      <td>NaN</td>\n",
       "      <td>NaN</td>\n",
       "      <td>NaN</td>\n",
       "      <td>NaN</td>\n",
       "      <td>...</td>\n",
       "      <td>0</td>\n",
       "      <td>9</td>\n",
       "      <td>No</td>\n",
       "      <td>0</td>\n",
       "      <td>30</td>\n",
       "      <td>No</td>\n",
       "      <td>5-Low</td>\n",
       "      <td>Other</td>\n",
       "      <td>Other</td>\n",
       "      <td>No</td>\n",
       "    </tr>\n",
       "    <tr>\n",
       "      <th>51046</th>\n",
       "      <td>3399994</td>\n",
       "      <td>No</td>\n",
       "      <td>NaN</td>\n",
       "      <td>NaN</td>\n",
       "      <td>NaN</td>\n",
       "      <td>NaN</td>\n",
       "      <td>NaN</td>\n",
       "      <td>NaN</td>\n",
       "      <td>NaN</td>\n",
       "      <td>NaN</td>\n",
       "      <td>...</td>\n",
       "      <td>0</td>\n",
       "      <td>0</td>\n",
       "      <td>No</td>\n",
       "      <td>1</td>\n",
       "      <td>60</td>\n",
       "      <td>Yes</td>\n",
       "      <td>5-Low</td>\n",
       "      <td>Other</td>\n",
       "      <td>Other</td>\n",
       "      <td>Unknown</td>\n",
       "    </tr>\n",
       "  </tbody>\n",
       "</table>\n",
       "<p>51047 rows × 58 columns</p>\n",
       "</div>"
      ],
      "text/plain": [
       "       CustomerID Churn  MonthlyRevenue  MonthlyMinutes  TotalRecurringCharge  \\\n",
       "0         3000002   Yes           24.00           219.0                  22.0   \n",
       "1         3000010   Yes           16.99            10.0                  17.0   \n",
       "2         3000014    No           38.00             8.0                  38.0   \n",
       "3         3000022    No           82.28          1312.0                  75.0   \n",
       "4         3000026   Yes           17.14             0.0                  17.0   \n",
       "...           ...   ...             ...             ...                   ...   \n",
       "51042     3399958   Yes             NaN             NaN                   NaN   \n",
       "51043     3399974    No           95.17          1745.0                  85.0   \n",
       "51044     3399978   Yes             NaN             NaN                   NaN   \n",
       "51045     3399990    No             NaN             NaN                   NaN   \n",
       "51046     3399994    No             NaN             NaN                   NaN   \n",
       "\n",
       "       DirectorAssistedCalls  OverageMinutes  RoamingCalls  PercChangeMinutes  \\\n",
       "0                       0.25             0.0           0.0             -157.0   \n",
       "1                       0.00             0.0           0.0               -4.0   \n",
       "2                       0.00             0.0           0.0               -2.0   \n",
       "3                       1.24             0.0           0.0              157.0   \n",
       "4                       0.00             0.0           0.0                0.0   \n",
       "...                      ...             ...           ...                ...   \n",
       "51042                    NaN             NaN           NaN                NaN   \n",
       "51043                   0.99            45.0           4.7              122.0   \n",
       "51044                    NaN             NaN           NaN                NaN   \n",
       "51045                    NaN             NaN           NaN                NaN   \n",
       "51046                    NaN             NaN           NaN                NaN   \n",
       "\n",
       "       PercChangeRevenues  ...  ReferralsMadeBySubscriber  IncomeGroup  \\\n",
       "0                   -19.0  ...                          0            4   \n",
       "1                     0.0  ...                          0            5   \n",
       "2                     0.0  ...                          0            6   \n",
       "3                     8.1  ...                          0            6   \n",
       "4                    -0.2  ...                          0            9   \n",
       "...                   ...  ...                        ...          ...   \n",
       "51042                 NaN  ...                          0            6   \n",
       "51043                15.9  ...                          0            9   \n",
       "51044                 NaN  ...                          0            7   \n",
       "51045                 NaN  ...                          0            9   \n",
       "51046                 NaN  ...                          0            0   \n",
       "\n",
       "       OwnsMotorcycle  AdjustmentsToCreditRating  HandsetPrice  \\\n",
       "0                  No                          0            30   \n",
       "1                  No                          0            30   \n",
       "2                  No                          0       Unknown   \n",
       "3                  No                          0            10   \n",
       "4                  No                          1            10   \n",
       "...               ...                        ...           ...   \n",
       "51042              No                          0            60   \n",
       "51043              No                          1            60   \n",
       "51044              No                          1            80   \n",
       "51045              No                          0            30   \n",
       "51046              No                          1            60   \n",
       "\n",
       "       MadeCallToRetentionTeam  CreditRating  PrizmCode    Occupation  \\\n",
       "0                          Yes     1-Highest   Suburban  Professional   \n",
       "1                           No      4-Medium   Suburban  Professional   \n",
       "2                           No        3-Good       Town        Crafts   \n",
       "3                           No      4-Medium      Other         Other   \n",
       "4                           No     1-Highest      Other  Professional   \n",
       "...                        ...           ...        ...           ...   \n",
       "51042                       No     1-Highest   Suburban         Other   \n",
       "51043                       No        3-Good      Other         Other   \n",
       "51044                       No         5-Low      Other      Clerical   \n",
       "51045                       No         5-Low      Other         Other   \n",
       "51046                      Yes         5-Low      Other         Other   \n",
       "\n",
       "       MaritalStatus  \n",
       "0                 No  \n",
       "1                Yes  \n",
       "2                Yes  \n",
       "3                 No  \n",
       "4                Yes  \n",
       "...              ...  \n",
       "51042            Yes  \n",
       "51043             No  \n",
       "51044             No  \n",
       "51045             No  \n",
       "51046        Unknown  \n",
       "\n",
       "[51047 rows x 58 columns]"
      ]
     },
     "execution_count": 76,
     "metadata": {},
     "output_type": "execute_result"
    }
   ],
   "source": [
    "customer2"
   ]
  },
  {
   "cell_type": "code",
   "execution_count": 77,
   "id": "d631b026",
   "metadata": {},
   "outputs": [
    {
     "data": {
      "text/plain": [
       "CustomerID                     0\n",
       "Churn                          0\n",
       "MonthlyRevenue               156\n",
       "MonthlyMinutes               156\n",
       "TotalRecurringCharge         156\n",
       "DirectorAssistedCalls        156\n",
       "OverageMinutes               156\n",
       "RoamingCalls                 156\n",
       "PercChangeMinutes            367\n",
       "PercChangeRevenues           367\n",
       "DroppedCalls                   0\n",
       "BlockedCalls                   0\n",
       "UnansweredCalls                0\n",
       "CustomerCareCalls              0\n",
       "ThreewayCalls                  0\n",
       "ReceivedCalls                  0\n",
       "OutboundCalls                  0\n",
       "InboundCalls                   0\n",
       "PeakCallsInOut                 0\n",
       "OffPeakCallsInOut              0\n",
       "DroppedBlockedCalls            0\n",
       "CallForwardingCalls            0\n",
       "CallWaitingCalls               0\n",
       "MonthsInService                0\n",
       "UniqueSubs                     0\n",
       "ActiveSubs                     0\n",
       "ServiceArea                   24\n",
       "Handsets                       1\n",
       "HandsetModels                  1\n",
       "CurrentEquipmentDays           1\n",
       "AgeHH1                       909\n",
       "AgeHH2                       909\n",
       "ChildrenInHH                   0\n",
       "HandsetRefurbished             0\n",
       "HandsetWebCapable              0\n",
       "TruckOwner                     0\n",
       "RVOwner                        0\n",
       "Homeownership                  0\n",
       "BuysViaMailOrder               0\n",
       "RespondsToMailOffers           0\n",
       "OptOutMailings                 0\n",
       "NonUSTravel                    0\n",
       "OwnsComputer                   0\n",
       "HasCreditCard                  0\n",
       "RetentionCalls                 0\n",
       "RetentionOffersAccepted        0\n",
       "NewCellphoneUser               0\n",
       "NotNewCellphoneUser            0\n",
       "ReferralsMadeBySubscriber      0\n",
       "IncomeGroup                    0\n",
       "OwnsMotorcycle                 0\n",
       "AdjustmentsToCreditRating      0\n",
       "HandsetPrice                   0\n",
       "MadeCallToRetentionTeam        0\n",
       "CreditRating                   0\n",
       "PrizmCode                      0\n",
       "Occupation                     0\n",
       "MaritalStatus                  0\n",
       "dtype: int64"
      ]
     },
     "execution_count": 77,
     "metadata": {},
     "output_type": "execute_result"
    }
   ],
   "source": [
    "customer2.isnull().sum()"
   ]
  },
  {
   "cell_type": "code",
   "execution_count": 78,
   "id": "5f7d7b62",
   "metadata": {},
   "outputs": [
    {
     "name": "stdout",
     "output_type": "stream",
     "text": [
      "                           percent_missing\n",
      "CustomerID                           0.000\n",
      "Churn                                0.000\n",
      "MonthlyRevenue                       0.156\n",
      "MonthlyMinutes                       0.156\n",
      "TotalRecurringCharge                 0.156\n",
      "DirectorAssistedCalls                0.156\n",
      "OverageMinutes                       0.156\n",
      "RoamingCalls                         0.156\n",
      "PercChangeMinutes                    0.367\n",
      "PercChangeRevenues                   0.367\n",
      "DroppedCalls                         0.000\n",
      "BlockedCalls                         0.000\n",
      "UnansweredCalls                      0.000\n",
      "CustomerCareCalls                    0.000\n",
      "ThreewayCalls                        0.000\n",
      "ReceivedCalls                        0.000\n",
      "OutboundCalls                        0.000\n",
      "InboundCalls                         0.000\n",
      "PeakCallsInOut                       0.000\n",
      "OffPeakCallsInOut                    0.000\n",
      "DroppedBlockedCalls                  0.000\n",
      "CallForwardingCalls                  0.000\n",
      "CallWaitingCalls                     0.000\n",
      "MonthsInService                      0.000\n",
      "UniqueSubs                           0.000\n",
      "ActiveSubs                           0.000\n",
      "ServiceArea                          0.024\n",
      "Handsets                             0.001\n",
      "HandsetModels                        0.001\n",
      "CurrentEquipmentDays                 0.001\n",
      "AgeHH1                               0.909\n",
      "AgeHH2                               0.909\n",
      "ChildrenInHH                         0.000\n",
      "HandsetRefurbished                   0.000\n",
      "HandsetWebCapable                    0.000\n",
      "TruckOwner                           0.000\n",
      "RVOwner                              0.000\n",
      "Homeownership                        0.000\n",
      "BuysViaMailOrder                     0.000\n",
      "RespondsToMailOffers                 0.000\n",
      "OptOutMailings                       0.000\n",
      "NonUSTravel                          0.000\n",
      "OwnsComputer                         0.000\n",
      "HasCreditCard                        0.000\n",
      "RetentionCalls                       0.000\n",
      "RetentionOffersAccepted              0.000\n",
      "NewCellphoneUser                     0.000\n",
      "NotNewCellphoneUser                  0.000\n",
      "ReferralsMadeBySubscriber            0.000\n",
      "IncomeGroup                          0.000\n",
      "OwnsMotorcycle                       0.000\n",
      "AdjustmentsToCreditRating            0.000\n",
      "HandsetPrice                         0.000\n",
      "MadeCallToRetentionTeam              0.000\n",
      "CreditRating                         0.000\n",
      "PrizmCode                            0.000\n",
      "Occupation                           0.000\n",
      "MaritalStatus                        0.000\n"
     ]
    }
   ],
   "source": [
    "percent_missing = customer2.isnull().sum() * 100 / len(customer)\n",
    "missing_value_df = pd.DataFrame({'percent_missing': percent_missing})\n",
    "print(missing_value_df.to_string())"
   ]
  },
  {
   "cell_type": "code",
   "execution_count": 79,
   "id": "e16305ce",
   "metadata": {},
   "outputs": [
    {
     "name": "stderr",
     "output_type": "stream",
     "text": [
      "/var/folders/j5/9fvnh0857k3_lqjpjrk029hw0000gn/T/ipykernel_749/1598678812.py:1: FutureWarning: Dropping of nuisance columns in DataFrame reductions (with 'numeric_only=None') is deprecated; in a future version this will raise TypeError.  Select only valid columns before calling the reduction.\n",
      "  customer2.fillna(customer2.mean(), inplace=True)\n"
     ]
    }
   ],
   "source": [
    "customer2.fillna(customer2.mean(), inplace=True)\n",
    "for column in customer2.columns:\n",
    "    if customer2[column].dtype == 'object':\n",
    "        customer2[column].fillna(customer2[column].mode()[0], inplace=True)"
   ]
  },
  {
   "cell_type": "code",
   "execution_count": 80,
   "id": "007f2ae8",
   "metadata": {},
   "outputs": [
    {
     "name": "stdout",
     "output_type": "stream",
     "text": [
      "                           percent_missing\n",
      "CustomerID                             0.0\n",
      "Churn                                  0.0\n",
      "MonthlyRevenue                         0.0\n",
      "MonthlyMinutes                         0.0\n",
      "TotalRecurringCharge                   0.0\n",
      "DirectorAssistedCalls                  0.0\n",
      "OverageMinutes                         0.0\n",
      "RoamingCalls                           0.0\n",
      "PercChangeMinutes                      0.0\n",
      "PercChangeRevenues                     0.0\n",
      "DroppedCalls                           0.0\n",
      "BlockedCalls                           0.0\n",
      "UnansweredCalls                        0.0\n",
      "CustomerCareCalls                      0.0\n",
      "ThreewayCalls                          0.0\n",
      "ReceivedCalls                          0.0\n",
      "OutboundCalls                          0.0\n",
      "InboundCalls                           0.0\n",
      "PeakCallsInOut                         0.0\n",
      "OffPeakCallsInOut                      0.0\n",
      "DroppedBlockedCalls                    0.0\n",
      "CallForwardingCalls                    0.0\n",
      "CallWaitingCalls                       0.0\n",
      "MonthsInService                        0.0\n",
      "UniqueSubs                             0.0\n",
      "ActiveSubs                             0.0\n",
      "ServiceArea                            0.0\n",
      "Handsets                               0.0\n",
      "HandsetModels                          0.0\n",
      "CurrentEquipmentDays                   0.0\n",
      "AgeHH1                                 0.0\n",
      "AgeHH2                                 0.0\n",
      "ChildrenInHH                           0.0\n",
      "HandsetRefurbished                     0.0\n",
      "HandsetWebCapable                      0.0\n",
      "TruckOwner                             0.0\n",
      "RVOwner                                0.0\n",
      "Homeownership                          0.0\n",
      "BuysViaMailOrder                       0.0\n",
      "RespondsToMailOffers                   0.0\n",
      "OptOutMailings                         0.0\n",
      "NonUSTravel                            0.0\n",
      "OwnsComputer                           0.0\n",
      "HasCreditCard                          0.0\n",
      "RetentionCalls                         0.0\n",
      "RetentionOffersAccepted                0.0\n",
      "NewCellphoneUser                       0.0\n",
      "NotNewCellphoneUser                    0.0\n",
      "ReferralsMadeBySubscriber              0.0\n",
      "IncomeGroup                            0.0\n",
      "OwnsMotorcycle                         0.0\n",
      "AdjustmentsToCreditRating              0.0\n",
      "HandsetPrice                           0.0\n",
      "MadeCallToRetentionTeam                0.0\n",
      "CreditRating                           0.0\n",
      "PrizmCode                              0.0\n",
      "Occupation                             0.0\n",
      "MaritalStatus                          0.0\n"
     ]
    }
   ],
   "source": [
    "percent_missing = customer2.isnull().sum() * 100 / len(customer)\n",
    "missing_value_df = pd.DataFrame({'percent_missing': percent_missing})\n",
    "print(missing_value_df.to_string())"
   ]
  },
  {
   "cell_type": "code",
   "execution_count": 81,
   "id": "e9b01da8",
   "metadata": {},
   "outputs": [],
   "source": [
    "del customer2['CustomerID']"
   ]
  },
  {
   "cell_type": "code",
   "execution_count": 82,
   "id": "ef2d584b",
   "metadata": {},
   "outputs": [],
   "source": [
    "del customer2['ServiceArea']"
   ]
  },
  {
   "cell_type": "code",
   "execution_count": 83,
   "id": "caf486db",
   "metadata": {},
   "outputs": [],
   "source": [
    "train_label2=customer2['Churn']"
   ]
  },
  {
   "cell_type": "code",
   "execution_count": 84,
   "id": "6500fd27",
   "metadata": {},
   "outputs": [],
   "source": [
    "del customer2['Churn']"
   ]
  },
  {
   "cell_type": "code",
   "execution_count": 85,
   "id": "ad597665",
   "metadata": {},
   "outputs": [
    {
     "data": {
      "text/plain": [
       "0        Yes\n",
       "1        Yes\n",
       "2         No\n",
       "3         No\n",
       "4        Yes\n",
       "        ... \n",
       "51042    Yes\n",
       "51043     No\n",
       "51044    Yes\n",
       "51045     No\n",
       "51046     No\n",
       "Name: Churn, Length: 51047, dtype: object"
      ]
     },
     "execution_count": 85,
     "metadata": {},
     "output_type": "execute_result"
    }
   ],
   "source": [
    "train_label2"
   ]
  },
  {
   "cell_type": "code",
   "execution_count": 86,
   "id": "9d13fc6e",
   "metadata": {},
   "outputs": [],
   "source": [
    "train_label2=train_label2.replace('No',0)"
   ]
  },
  {
   "cell_type": "code",
   "execution_count": 87,
   "id": "45b4a320",
   "metadata": {},
   "outputs": [],
   "source": [
    "train_label2=train_label2.replace('Yes',1)"
   ]
  },
  {
   "cell_type": "code",
   "execution_count": 88,
   "id": "71e7e4d7",
   "metadata": {},
   "outputs": [
    {
     "data": {
      "text/plain": [
       "0        1\n",
       "1        1\n",
       "2        0\n",
       "3        0\n",
       "4        1\n",
       "        ..\n",
       "51042    1\n",
       "51043    0\n",
       "51044    1\n",
       "51045    0\n",
       "51046    0\n",
       "Name: Churn, Length: 51047, dtype: int64"
      ]
     },
     "execution_count": 88,
     "metadata": {},
     "output_type": "execute_result"
    }
   ],
   "source": [
    "train_label2"
   ]
  },
  {
   "cell_type": "code",
   "execution_count": 89,
   "id": "8b733fef",
   "metadata": {},
   "outputs": [],
   "source": [
    "cat_customer2= customer2.select_dtypes(include=['object']).columns\n",
    "customer_cat2=customer2[cat_customer2]\n",
    "num_customer2=customer2.select_dtypes(include=['float64', 'int64']).columns\n",
    "customer_num2=customer2[num_customer2]"
   ]
  },
  {
   "cell_type": "code",
   "execution_count": 90,
   "id": "7c1912b7",
   "metadata": {},
   "outputs": [
    {
     "data": {
      "text/html": [
       "<div>\n",
       "<style scoped>\n",
       "    .dataframe tbody tr th:only-of-type {\n",
       "        vertical-align: middle;\n",
       "    }\n",
       "\n",
       "    .dataframe tbody tr th {\n",
       "        vertical-align: top;\n",
       "    }\n",
       "\n",
       "    .dataframe thead th {\n",
       "        text-align: right;\n",
       "    }\n",
       "</style>\n",
       "<table border=\"1\" class=\"dataframe\">\n",
       "  <thead>\n",
       "    <tr style=\"text-align: right;\">\n",
       "      <th></th>\n",
       "      <th>MonthlyRevenue</th>\n",
       "      <th>MonthlyMinutes</th>\n",
       "      <th>TotalRecurringCharge</th>\n",
       "      <th>DirectorAssistedCalls</th>\n",
       "      <th>OverageMinutes</th>\n",
       "      <th>RoamingCalls</th>\n",
       "      <th>PercChangeMinutes</th>\n",
       "      <th>PercChangeRevenues</th>\n",
       "      <th>DroppedCalls</th>\n",
       "      <th>BlockedCalls</th>\n",
       "      <th>...</th>\n",
       "      <th>Handsets</th>\n",
       "      <th>HandsetModels</th>\n",
       "      <th>CurrentEquipmentDays</th>\n",
       "      <th>AgeHH1</th>\n",
       "      <th>AgeHH2</th>\n",
       "      <th>RetentionCalls</th>\n",
       "      <th>RetentionOffersAccepted</th>\n",
       "      <th>ReferralsMadeBySubscriber</th>\n",
       "      <th>IncomeGroup</th>\n",
       "      <th>AdjustmentsToCreditRating</th>\n",
       "    </tr>\n",
       "  </thead>\n",
       "  <tbody>\n",
       "    <tr>\n",
       "      <th>0</th>\n",
       "      <td>24.000000</td>\n",
       "      <td>219.000000</td>\n",
       "      <td>22.000000</td>\n",
       "      <td>0.250000</td>\n",
       "      <td>0.000000</td>\n",
       "      <td>0.000000</td>\n",
       "      <td>-157.000000</td>\n",
       "      <td>-19.000000</td>\n",
       "      <td>0.7</td>\n",
       "      <td>0.7</td>\n",
       "      <td>...</td>\n",
       "      <td>2.0</td>\n",
       "      <td>2.0</td>\n",
       "      <td>361.0</td>\n",
       "      <td>62.0</td>\n",
       "      <td>0.0</td>\n",
       "      <td>1</td>\n",
       "      <td>0</td>\n",
       "      <td>0</td>\n",
       "      <td>4</td>\n",
       "      <td>0</td>\n",
       "    </tr>\n",
       "    <tr>\n",
       "      <th>1</th>\n",
       "      <td>16.990000</td>\n",
       "      <td>10.000000</td>\n",
       "      <td>17.000000</td>\n",
       "      <td>0.000000</td>\n",
       "      <td>0.000000</td>\n",
       "      <td>0.000000</td>\n",
       "      <td>-4.000000</td>\n",
       "      <td>0.000000</td>\n",
       "      <td>0.3</td>\n",
       "      <td>0.0</td>\n",
       "      <td>...</td>\n",
       "      <td>2.0</td>\n",
       "      <td>1.0</td>\n",
       "      <td>1504.0</td>\n",
       "      <td>40.0</td>\n",
       "      <td>42.0</td>\n",
       "      <td>0</td>\n",
       "      <td>0</td>\n",
       "      <td>0</td>\n",
       "      <td>5</td>\n",
       "      <td>0</td>\n",
       "    </tr>\n",
       "    <tr>\n",
       "      <th>2</th>\n",
       "      <td>38.000000</td>\n",
       "      <td>8.000000</td>\n",
       "      <td>38.000000</td>\n",
       "      <td>0.000000</td>\n",
       "      <td>0.000000</td>\n",
       "      <td>0.000000</td>\n",
       "      <td>-2.000000</td>\n",
       "      <td>0.000000</td>\n",
       "      <td>0.0</td>\n",
       "      <td>0.0</td>\n",
       "      <td>...</td>\n",
       "      <td>1.0</td>\n",
       "      <td>1.0</td>\n",
       "      <td>1812.0</td>\n",
       "      <td>26.0</td>\n",
       "      <td>26.0</td>\n",
       "      <td>0</td>\n",
       "      <td>0</td>\n",
       "      <td>0</td>\n",
       "      <td>6</td>\n",
       "      <td>0</td>\n",
       "    </tr>\n",
       "    <tr>\n",
       "      <th>3</th>\n",
       "      <td>82.280000</td>\n",
       "      <td>1312.000000</td>\n",
       "      <td>75.000000</td>\n",
       "      <td>1.240000</td>\n",
       "      <td>0.000000</td>\n",
       "      <td>0.000000</td>\n",
       "      <td>157.000000</td>\n",
       "      <td>8.100000</td>\n",
       "      <td>52.0</td>\n",
       "      <td>7.7</td>\n",
       "      <td>...</td>\n",
       "      <td>9.0</td>\n",
       "      <td>4.0</td>\n",
       "      <td>458.0</td>\n",
       "      <td>30.0</td>\n",
       "      <td>0.0</td>\n",
       "      <td>0</td>\n",
       "      <td>0</td>\n",
       "      <td>0</td>\n",
       "      <td>6</td>\n",
       "      <td>0</td>\n",
       "    </tr>\n",
       "    <tr>\n",
       "      <th>4</th>\n",
       "      <td>17.140000</td>\n",
       "      <td>0.000000</td>\n",
       "      <td>17.000000</td>\n",
       "      <td>0.000000</td>\n",
       "      <td>0.000000</td>\n",
       "      <td>0.000000</td>\n",
       "      <td>0.000000</td>\n",
       "      <td>-0.200000</td>\n",
       "      <td>0.0</td>\n",
       "      <td>0.0</td>\n",
       "      <td>...</td>\n",
       "      <td>4.0</td>\n",
       "      <td>3.0</td>\n",
       "      <td>852.0</td>\n",
       "      <td>46.0</td>\n",
       "      <td>54.0</td>\n",
       "      <td>0</td>\n",
       "      <td>0</td>\n",
       "      <td>0</td>\n",
       "      <td>9</td>\n",
       "      <td>1</td>\n",
       "    </tr>\n",
       "    <tr>\n",
       "      <th>...</th>\n",
       "      <td>...</td>\n",
       "      <td>...</td>\n",
       "      <td>...</td>\n",
       "      <td>...</td>\n",
       "      <td>...</td>\n",
       "      <td>...</td>\n",
       "      <td>...</td>\n",
       "      <td>...</td>\n",
       "      <td>...</td>\n",
       "      <td>...</td>\n",
       "      <td>...</td>\n",
       "      <td>...</td>\n",
       "      <td>...</td>\n",
       "      <td>...</td>\n",
       "      <td>...</td>\n",
       "      <td>...</td>\n",
       "      <td>...</td>\n",
       "      <td>...</td>\n",
       "      <td>...</td>\n",
       "      <td>...</td>\n",
       "      <td>...</td>\n",
       "    </tr>\n",
       "    <tr>\n",
       "      <th>51042</th>\n",
       "      <td>58.834492</td>\n",
       "      <td>525.653416</td>\n",
       "      <td>46.830088</td>\n",
       "      <td>0.895229</td>\n",
       "      <td>40.027785</td>\n",
       "      <td>1.236244</td>\n",
       "      <td>-11.547908</td>\n",
       "      <td>-1.191985</td>\n",
       "      <td>9.3</td>\n",
       "      <td>2.7</td>\n",
       "      <td>...</td>\n",
       "      <td>2.0</td>\n",
       "      <td>2.0</td>\n",
       "      <td>526.0</td>\n",
       "      <td>68.0</td>\n",
       "      <td>64.0</td>\n",
       "      <td>0</td>\n",
       "      <td>0</td>\n",
       "      <td>0</td>\n",
       "      <td>6</td>\n",
       "      <td>0</td>\n",
       "    </tr>\n",
       "    <tr>\n",
       "      <th>51043</th>\n",
       "      <td>95.170000</td>\n",
       "      <td>1745.000000</td>\n",
       "      <td>85.000000</td>\n",
       "      <td>0.990000</td>\n",
       "      <td>45.000000</td>\n",
       "      <td>4.700000</td>\n",
       "      <td>122.000000</td>\n",
       "      <td>15.900000</td>\n",
       "      <td>16.7</td>\n",
       "      <td>0.7</td>\n",
       "      <td>...</td>\n",
       "      <td>2.0</td>\n",
       "      <td>2.0</td>\n",
       "      <td>464.0</td>\n",
       "      <td>48.0</td>\n",
       "      <td>48.0</td>\n",
       "      <td>0</td>\n",
       "      <td>0</td>\n",
       "      <td>0</td>\n",
       "      <td>9</td>\n",
       "      <td>1</td>\n",
       "    </tr>\n",
       "    <tr>\n",
       "      <th>51044</th>\n",
       "      <td>58.834492</td>\n",
       "      <td>525.653416</td>\n",
       "      <td>46.830088</td>\n",
       "      <td>0.895229</td>\n",
       "      <td>40.027785</td>\n",
       "      <td>1.236244</td>\n",
       "      <td>-11.547908</td>\n",
       "      <td>-1.191985</td>\n",
       "      <td>71.7</td>\n",
       "      <td>4.3</td>\n",
       "      <td>...</td>\n",
       "      <td>3.0</td>\n",
       "      <td>2.0</td>\n",
       "      <td>378.0</td>\n",
       "      <td>36.0</td>\n",
       "      <td>0.0</td>\n",
       "      <td>0</td>\n",
       "      <td>0</td>\n",
       "      <td>0</td>\n",
       "      <td>7</td>\n",
       "      <td>1</td>\n",
       "    </tr>\n",
       "    <tr>\n",
       "      <th>51045</th>\n",
       "      <td>58.834492</td>\n",
       "      <td>525.653416</td>\n",
       "      <td>46.830088</td>\n",
       "      <td>0.895229</td>\n",
       "      <td>40.027785</td>\n",
       "      <td>1.236244</td>\n",
       "      <td>-11.547908</td>\n",
       "      <td>-1.191985</td>\n",
       "      <td>0.0</td>\n",
       "      <td>0.0</td>\n",
       "      <td>...</td>\n",
       "      <td>2.0</td>\n",
       "      <td>2.0</td>\n",
       "      <td>433.0</td>\n",
       "      <td>32.0</td>\n",
       "      <td>0.0</td>\n",
       "      <td>0</td>\n",
       "      <td>0</td>\n",
       "      <td>0</td>\n",
       "      <td>9</td>\n",
       "      <td>0</td>\n",
       "    </tr>\n",
       "    <tr>\n",
       "      <th>51046</th>\n",
       "      <td>58.834492</td>\n",
       "      <td>525.653416</td>\n",
       "      <td>46.830088</td>\n",
       "      <td>0.895229</td>\n",
       "      <td>40.027785</td>\n",
       "      <td>1.236244</td>\n",
       "      <td>-11.547908</td>\n",
       "      <td>-1.191985</td>\n",
       "      <td>18.7</td>\n",
       "      <td>0.7</td>\n",
       "      <td>...</td>\n",
       "      <td>7.0</td>\n",
       "      <td>5.0</td>\n",
       "      <td>75.0</td>\n",
       "      <td>0.0</td>\n",
       "      <td>0.0</td>\n",
       "      <td>2</td>\n",
       "      <td>1</td>\n",
       "      <td>0</td>\n",
       "      <td>0</td>\n",
       "      <td>1</td>\n",
       "    </tr>\n",
       "  </tbody>\n",
       "</table>\n",
       "<p>51047 rows × 34 columns</p>\n",
       "</div>"
      ],
      "text/plain": [
       "       MonthlyRevenue  MonthlyMinutes  TotalRecurringCharge  \\\n",
       "0           24.000000      219.000000             22.000000   \n",
       "1           16.990000       10.000000             17.000000   \n",
       "2           38.000000        8.000000             38.000000   \n",
       "3           82.280000     1312.000000             75.000000   \n",
       "4           17.140000        0.000000             17.000000   \n",
       "...               ...             ...                   ...   \n",
       "51042       58.834492      525.653416             46.830088   \n",
       "51043       95.170000     1745.000000             85.000000   \n",
       "51044       58.834492      525.653416             46.830088   \n",
       "51045       58.834492      525.653416             46.830088   \n",
       "51046       58.834492      525.653416             46.830088   \n",
       "\n",
       "       DirectorAssistedCalls  OverageMinutes  RoamingCalls  PercChangeMinutes  \\\n",
       "0                   0.250000        0.000000      0.000000        -157.000000   \n",
       "1                   0.000000        0.000000      0.000000          -4.000000   \n",
       "2                   0.000000        0.000000      0.000000          -2.000000   \n",
       "3                   1.240000        0.000000      0.000000         157.000000   \n",
       "4                   0.000000        0.000000      0.000000           0.000000   \n",
       "...                      ...             ...           ...                ...   \n",
       "51042               0.895229       40.027785      1.236244         -11.547908   \n",
       "51043               0.990000       45.000000      4.700000         122.000000   \n",
       "51044               0.895229       40.027785      1.236244         -11.547908   \n",
       "51045               0.895229       40.027785      1.236244         -11.547908   \n",
       "51046               0.895229       40.027785      1.236244         -11.547908   \n",
       "\n",
       "       PercChangeRevenues  DroppedCalls  BlockedCalls  ...  Handsets  \\\n",
       "0              -19.000000           0.7           0.7  ...       2.0   \n",
       "1                0.000000           0.3           0.0  ...       2.0   \n",
       "2                0.000000           0.0           0.0  ...       1.0   \n",
       "3                8.100000          52.0           7.7  ...       9.0   \n",
       "4               -0.200000           0.0           0.0  ...       4.0   \n",
       "...                   ...           ...           ...  ...       ...   \n",
       "51042           -1.191985           9.3           2.7  ...       2.0   \n",
       "51043           15.900000          16.7           0.7  ...       2.0   \n",
       "51044           -1.191985          71.7           4.3  ...       3.0   \n",
       "51045           -1.191985           0.0           0.0  ...       2.0   \n",
       "51046           -1.191985          18.7           0.7  ...       7.0   \n",
       "\n",
       "       HandsetModels  CurrentEquipmentDays  AgeHH1  AgeHH2  RetentionCalls  \\\n",
       "0                2.0                 361.0    62.0     0.0               1   \n",
       "1                1.0                1504.0    40.0    42.0               0   \n",
       "2                1.0                1812.0    26.0    26.0               0   \n",
       "3                4.0                 458.0    30.0     0.0               0   \n",
       "4                3.0                 852.0    46.0    54.0               0   \n",
       "...              ...                   ...     ...     ...             ...   \n",
       "51042            2.0                 526.0    68.0    64.0               0   \n",
       "51043            2.0                 464.0    48.0    48.0               0   \n",
       "51044            2.0                 378.0    36.0     0.0               0   \n",
       "51045            2.0                 433.0    32.0     0.0               0   \n",
       "51046            5.0                  75.0     0.0     0.0               2   \n",
       "\n",
       "       RetentionOffersAccepted  ReferralsMadeBySubscriber  IncomeGroup  \\\n",
       "0                            0                          0            4   \n",
       "1                            0                          0            5   \n",
       "2                            0                          0            6   \n",
       "3                            0                          0            6   \n",
       "4                            0                          0            9   \n",
       "...                        ...                        ...          ...   \n",
       "51042                        0                          0            6   \n",
       "51043                        0                          0            9   \n",
       "51044                        0                          0            7   \n",
       "51045                        0                          0            9   \n",
       "51046                        1                          0            0   \n",
       "\n",
       "       AdjustmentsToCreditRating  \n",
       "0                              0  \n",
       "1                              0  \n",
       "2                              0  \n",
       "3                              0  \n",
       "4                              1  \n",
       "...                          ...  \n",
       "51042                          0  \n",
       "51043                          1  \n",
       "51044                          1  \n",
       "51045                          0  \n",
       "51046                          1  \n",
       "\n",
       "[51047 rows x 34 columns]"
      ]
     },
     "execution_count": 90,
     "metadata": {},
     "output_type": "execute_result"
    }
   ],
   "source": [
    "customer_num2"
   ]
  },
  {
   "cell_type": "code",
   "execution_count": 91,
   "id": "d561be18",
   "metadata": {},
   "outputs": [
    {
     "data": {
      "text/html": [
       "<div>\n",
       "<style scoped>\n",
       "    .dataframe tbody tr th:only-of-type {\n",
       "        vertical-align: middle;\n",
       "    }\n",
       "\n",
       "    .dataframe tbody tr th {\n",
       "        vertical-align: top;\n",
       "    }\n",
       "\n",
       "    .dataframe thead th {\n",
       "        text-align: right;\n",
       "    }\n",
       "</style>\n",
       "<table border=\"1\" class=\"dataframe\">\n",
       "  <thead>\n",
       "    <tr style=\"text-align: right;\">\n",
       "      <th></th>\n",
       "      <th>ChildrenInHH</th>\n",
       "      <th>HandsetRefurbished</th>\n",
       "      <th>HandsetWebCapable</th>\n",
       "      <th>TruckOwner</th>\n",
       "      <th>RVOwner</th>\n",
       "      <th>Homeownership</th>\n",
       "      <th>BuysViaMailOrder</th>\n",
       "      <th>RespondsToMailOffers</th>\n",
       "      <th>OptOutMailings</th>\n",
       "      <th>NonUSTravel</th>\n",
       "      <th>...</th>\n",
       "      <th>HasCreditCard</th>\n",
       "      <th>NewCellphoneUser</th>\n",
       "      <th>NotNewCellphoneUser</th>\n",
       "      <th>OwnsMotorcycle</th>\n",
       "      <th>HandsetPrice</th>\n",
       "      <th>MadeCallToRetentionTeam</th>\n",
       "      <th>CreditRating</th>\n",
       "      <th>PrizmCode</th>\n",
       "      <th>Occupation</th>\n",
       "      <th>MaritalStatus</th>\n",
       "    </tr>\n",
       "  </thead>\n",
       "  <tbody>\n",
       "    <tr>\n",
       "      <th>0</th>\n",
       "      <td>No</td>\n",
       "      <td>No</td>\n",
       "      <td>Yes</td>\n",
       "      <td>No</td>\n",
       "      <td>No</td>\n",
       "      <td>Known</td>\n",
       "      <td>Yes</td>\n",
       "      <td>Yes</td>\n",
       "      <td>No</td>\n",
       "      <td>No</td>\n",
       "      <td>...</td>\n",
       "      <td>Yes</td>\n",
       "      <td>No</td>\n",
       "      <td>No</td>\n",
       "      <td>No</td>\n",
       "      <td>30</td>\n",
       "      <td>Yes</td>\n",
       "      <td>1-Highest</td>\n",
       "      <td>Suburban</td>\n",
       "      <td>Professional</td>\n",
       "      <td>No</td>\n",
       "    </tr>\n",
       "    <tr>\n",
       "      <th>1</th>\n",
       "      <td>Yes</td>\n",
       "      <td>No</td>\n",
       "      <td>No</td>\n",
       "      <td>No</td>\n",
       "      <td>No</td>\n",
       "      <td>Known</td>\n",
       "      <td>Yes</td>\n",
       "      <td>Yes</td>\n",
       "      <td>No</td>\n",
       "      <td>No</td>\n",
       "      <td>...</td>\n",
       "      <td>Yes</td>\n",
       "      <td>Yes</td>\n",
       "      <td>No</td>\n",
       "      <td>No</td>\n",
       "      <td>30</td>\n",
       "      <td>No</td>\n",
       "      <td>4-Medium</td>\n",
       "      <td>Suburban</td>\n",
       "      <td>Professional</td>\n",
       "      <td>Yes</td>\n",
       "    </tr>\n",
       "    <tr>\n",
       "      <th>2</th>\n",
       "      <td>Yes</td>\n",
       "      <td>No</td>\n",
       "      <td>No</td>\n",
       "      <td>No</td>\n",
       "      <td>No</td>\n",
       "      <td>Unknown</td>\n",
       "      <td>No</td>\n",
       "      <td>No</td>\n",
       "      <td>No</td>\n",
       "      <td>No</td>\n",
       "      <td>...</td>\n",
       "      <td>Yes</td>\n",
       "      <td>Yes</td>\n",
       "      <td>No</td>\n",
       "      <td>No</td>\n",
       "      <td>Unknown</td>\n",
       "      <td>No</td>\n",
       "      <td>3-Good</td>\n",
       "      <td>Town</td>\n",
       "      <td>Crafts</td>\n",
       "      <td>Yes</td>\n",
       "    </tr>\n",
       "    <tr>\n",
       "      <th>3</th>\n",
       "      <td>No</td>\n",
       "      <td>No</td>\n",
       "      <td>Yes</td>\n",
       "      <td>No</td>\n",
       "      <td>No</td>\n",
       "      <td>Known</td>\n",
       "      <td>Yes</td>\n",
       "      <td>Yes</td>\n",
       "      <td>No</td>\n",
       "      <td>No</td>\n",
       "      <td>...</td>\n",
       "      <td>Yes</td>\n",
       "      <td>Yes</td>\n",
       "      <td>No</td>\n",
       "      <td>No</td>\n",
       "      <td>10</td>\n",
       "      <td>No</td>\n",
       "      <td>4-Medium</td>\n",
       "      <td>Other</td>\n",
       "      <td>Other</td>\n",
       "      <td>No</td>\n",
       "    </tr>\n",
       "    <tr>\n",
       "      <th>4</th>\n",
       "      <td>No</td>\n",
       "      <td>No</td>\n",
       "      <td>No</td>\n",
       "      <td>No</td>\n",
       "      <td>No</td>\n",
       "      <td>Known</td>\n",
       "      <td>Yes</td>\n",
       "      <td>Yes</td>\n",
       "      <td>No</td>\n",
       "      <td>No</td>\n",
       "      <td>...</td>\n",
       "      <td>Yes</td>\n",
       "      <td>No</td>\n",
       "      <td>Yes</td>\n",
       "      <td>No</td>\n",
       "      <td>10</td>\n",
       "      <td>No</td>\n",
       "      <td>1-Highest</td>\n",
       "      <td>Other</td>\n",
       "      <td>Professional</td>\n",
       "      <td>Yes</td>\n",
       "    </tr>\n",
       "    <tr>\n",
       "      <th>...</th>\n",
       "      <td>...</td>\n",
       "      <td>...</td>\n",
       "      <td>...</td>\n",
       "      <td>...</td>\n",
       "      <td>...</td>\n",
       "      <td>...</td>\n",
       "      <td>...</td>\n",
       "      <td>...</td>\n",
       "      <td>...</td>\n",
       "      <td>...</td>\n",
       "      <td>...</td>\n",
       "      <td>...</td>\n",
       "      <td>...</td>\n",
       "      <td>...</td>\n",
       "      <td>...</td>\n",
       "      <td>...</td>\n",
       "      <td>...</td>\n",
       "      <td>...</td>\n",
       "      <td>...</td>\n",
       "      <td>...</td>\n",
       "      <td>...</td>\n",
       "    </tr>\n",
       "    <tr>\n",
       "      <th>51042</th>\n",
       "      <td>No</td>\n",
       "      <td>Yes</td>\n",
       "      <td>Yes</td>\n",
       "      <td>No</td>\n",
       "      <td>No</td>\n",
       "      <td>Known</td>\n",
       "      <td>Yes</td>\n",
       "      <td>Yes</td>\n",
       "      <td>No</td>\n",
       "      <td>No</td>\n",
       "      <td>...</td>\n",
       "      <td>Yes</td>\n",
       "      <td>No</td>\n",
       "      <td>No</td>\n",
       "      <td>No</td>\n",
       "      <td>60</td>\n",
       "      <td>No</td>\n",
       "      <td>1-Highest</td>\n",
       "      <td>Suburban</td>\n",
       "      <td>Other</td>\n",
       "      <td>Yes</td>\n",
       "    </tr>\n",
       "    <tr>\n",
       "      <th>51043</th>\n",
       "      <td>Yes</td>\n",
       "      <td>No</td>\n",
       "      <td>Yes</td>\n",
       "      <td>No</td>\n",
       "      <td>No</td>\n",
       "      <td>Known</td>\n",
       "      <td>Yes</td>\n",
       "      <td>Yes</td>\n",
       "      <td>No</td>\n",
       "      <td>No</td>\n",
       "      <td>...</td>\n",
       "      <td>Yes</td>\n",
       "      <td>No</td>\n",
       "      <td>No</td>\n",
       "      <td>No</td>\n",
       "      <td>60</td>\n",
       "      <td>No</td>\n",
       "      <td>3-Good</td>\n",
       "      <td>Other</td>\n",
       "      <td>Other</td>\n",
       "      <td>No</td>\n",
       "    </tr>\n",
       "    <tr>\n",
       "      <th>51044</th>\n",
       "      <td>No</td>\n",
       "      <td>No</td>\n",
       "      <td>Yes</td>\n",
       "      <td>No</td>\n",
       "      <td>No</td>\n",
       "      <td>Known</td>\n",
       "      <td>No</td>\n",
       "      <td>No</td>\n",
       "      <td>No</td>\n",
       "      <td>No</td>\n",
       "      <td>...</td>\n",
       "      <td>Yes</td>\n",
       "      <td>No</td>\n",
       "      <td>No</td>\n",
       "      <td>No</td>\n",
       "      <td>80</td>\n",
       "      <td>No</td>\n",
       "      <td>5-Low</td>\n",
       "      <td>Other</td>\n",
       "      <td>Clerical</td>\n",
       "      <td>No</td>\n",
       "    </tr>\n",
       "    <tr>\n",
       "      <th>51045</th>\n",
       "      <td>Yes</td>\n",
       "      <td>No</td>\n",
       "      <td>Yes</td>\n",
       "      <td>No</td>\n",
       "      <td>No</td>\n",
       "      <td>Unknown</td>\n",
       "      <td>No</td>\n",
       "      <td>No</td>\n",
       "      <td>No</td>\n",
       "      <td>No</td>\n",
       "      <td>...</td>\n",
       "      <td>No</td>\n",
       "      <td>No</td>\n",
       "      <td>No</td>\n",
       "      <td>No</td>\n",
       "      <td>30</td>\n",
       "      <td>No</td>\n",
       "      <td>5-Low</td>\n",
       "      <td>Other</td>\n",
       "      <td>Other</td>\n",
       "      <td>No</td>\n",
       "    </tr>\n",
       "    <tr>\n",
       "      <th>51046</th>\n",
       "      <td>No</td>\n",
       "      <td>No</td>\n",
       "      <td>Yes</td>\n",
       "      <td>No</td>\n",
       "      <td>No</td>\n",
       "      <td>Unknown</td>\n",
       "      <td>No</td>\n",
       "      <td>No</td>\n",
       "      <td>No</td>\n",
       "      <td>No</td>\n",
       "      <td>...</td>\n",
       "      <td>No</td>\n",
       "      <td>No</td>\n",
       "      <td>No</td>\n",
       "      <td>No</td>\n",
       "      <td>60</td>\n",
       "      <td>Yes</td>\n",
       "      <td>5-Low</td>\n",
       "      <td>Other</td>\n",
       "      <td>Other</td>\n",
       "      <td>Unknown</td>\n",
       "    </tr>\n",
       "  </tbody>\n",
       "</table>\n",
       "<p>51047 rows × 21 columns</p>\n",
       "</div>"
      ],
      "text/plain": [
       "      ChildrenInHH HandsetRefurbished HandsetWebCapable TruckOwner RVOwner  \\\n",
       "0               No                 No               Yes         No      No   \n",
       "1              Yes                 No                No         No      No   \n",
       "2              Yes                 No                No         No      No   \n",
       "3               No                 No               Yes         No      No   \n",
       "4               No                 No                No         No      No   \n",
       "...            ...                ...               ...        ...     ...   \n",
       "51042           No                Yes               Yes         No      No   \n",
       "51043          Yes                 No               Yes         No      No   \n",
       "51044           No                 No               Yes         No      No   \n",
       "51045          Yes                 No               Yes         No      No   \n",
       "51046           No                 No               Yes         No      No   \n",
       "\n",
       "      Homeownership BuysViaMailOrder RespondsToMailOffers OptOutMailings  \\\n",
       "0             Known              Yes                  Yes             No   \n",
       "1             Known              Yes                  Yes             No   \n",
       "2           Unknown               No                   No             No   \n",
       "3             Known              Yes                  Yes             No   \n",
       "4             Known              Yes                  Yes             No   \n",
       "...             ...              ...                  ...            ...   \n",
       "51042         Known              Yes                  Yes             No   \n",
       "51043         Known              Yes                  Yes             No   \n",
       "51044         Known               No                   No             No   \n",
       "51045       Unknown               No                   No             No   \n",
       "51046       Unknown               No                   No             No   \n",
       "\n",
       "      NonUSTravel  ... HasCreditCard NewCellphoneUser NotNewCellphoneUser  \\\n",
       "0              No  ...           Yes               No                  No   \n",
       "1              No  ...           Yes              Yes                  No   \n",
       "2              No  ...           Yes              Yes                  No   \n",
       "3              No  ...           Yes              Yes                  No   \n",
       "4              No  ...           Yes               No                 Yes   \n",
       "...           ...  ...           ...              ...                 ...   \n",
       "51042          No  ...           Yes               No                  No   \n",
       "51043          No  ...           Yes               No                  No   \n",
       "51044          No  ...           Yes               No                  No   \n",
       "51045          No  ...            No               No                  No   \n",
       "51046          No  ...            No               No                  No   \n",
       "\n",
       "      OwnsMotorcycle HandsetPrice MadeCallToRetentionTeam CreditRating  \\\n",
       "0                 No           30                     Yes    1-Highest   \n",
       "1                 No           30                      No     4-Medium   \n",
       "2                 No      Unknown                      No       3-Good   \n",
       "3                 No           10                      No     4-Medium   \n",
       "4                 No           10                      No    1-Highest   \n",
       "...              ...          ...                     ...          ...   \n",
       "51042             No           60                      No    1-Highest   \n",
       "51043             No           60                      No       3-Good   \n",
       "51044             No           80                      No        5-Low   \n",
       "51045             No           30                      No        5-Low   \n",
       "51046             No           60                     Yes        5-Low   \n",
       "\n",
       "      PrizmCode    Occupation MaritalStatus  \n",
       "0      Suburban  Professional            No  \n",
       "1      Suburban  Professional           Yes  \n",
       "2          Town        Crafts           Yes  \n",
       "3         Other         Other            No  \n",
       "4         Other  Professional           Yes  \n",
       "...         ...           ...           ...  \n",
       "51042  Suburban         Other           Yes  \n",
       "51043     Other         Other            No  \n",
       "51044     Other      Clerical            No  \n",
       "51045     Other         Other            No  \n",
       "51046     Other         Other       Unknown  \n",
       "\n",
       "[51047 rows x 21 columns]"
      ]
     },
     "execution_count": 91,
     "metadata": {},
     "output_type": "execute_result"
    }
   ],
   "source": [
    "customer_cat2"
   ]
  },
  {
   "cell_type": "code",
   "execution_count": 92,
   "id": "8847cdb3",
   "metadata": {},
   "outputs": [],
   "source": [
    "z2=customer_cat2\n",
    "#label encoder\n",
    "from sklearn.preprocessing import LabelEncoder\n",
    "label=LabelEncoder()\n",
    "z2=z2.astype(str)\n",
    "z2[cat_customer2] = z2[cat_customer2].apply(lambda col: label.fit_transform(col))"
   ]
  },
  {
   "cell_type": "code",
   "execution_count": 93,
   "id": "40a6c941",
   "metadata": {},
   "outputs": [
    {
     "data": {
      "text/html": [
       "<div>\n",
       "<style scoped>\n",
       "    .dataframe tbody tr th:only-of-type {\n",
       "        vertical-align: middle;\n",
       "    }\n",
       "\n",
       "    .dataframe tbody tr th {\n",
       "        vertical-align: top;\n",
       "    }\n",
       "\n",
       "    .dataframe thead th {\n",
       "        text-align: right;\n",
       "    }\n",
       "</style>\n",
       "<table border=\"1\" class=\"dataframe\">\n",
       "  <thead>\n",
       "    <tr style=\"text-align: right;\">\n",
       "      <th></th>\n",
       "      <th>ChildrenInHH</th>\n",
       "      <th>HandsetRefurbished</th>\n",
       "      <th>HandsetWebCapable</th>\n",
       "      <th>TruckOwner</th>\n",
       "      <th>RVOwner</th>\n",
       "      <th>Homeownership</th>\n",
       "      <th>BuysViaMailOrder</th>\n",
       "      <th>RespondsToMailOffers</th>\n",
       "      <th>OptOutMailings</th>\n",
       "      <th>NonUSTravel</th>\n",
       "      <th>...</th>\n",
       "      <th>HasCreditCard</th>\n",
       "      <th>NewCellphoneUser</th>\n",
       "      <th>NotNewCellphoneUser</th>\n",
       "      <th>OwnsMotorcycle</th>\n",
       "      <th>HandsetPrice</th>\n",
       "      <th>MadeCallToRetentionTeam</th>\n",
       "      <th>CreditRating</th>\n",
       "      <th>PrizmCode</th>\n",
       "      <th>Occupation</th>\n",
       "      <th>MaritalStatus</th>\n",
       "    </tr>\n",
       "  </thead>\n",
       "  <tbody>\n",
       "    <tr>\n",
       "      <th>0</th>\n",
       "      <td>0</td>\n",
       "      <td>0</td>\n",
       "      <td>1</td>\n",
       "      <td>0</td>\n",
       "      <td>0</td>\n",
       "      <td>0</td>\n",
       "      <td>1</td>\n",
       "      <td>1</td>\n",
       "      <td>0</td>\n",
       "      <td>0</td>\n",
       "      <td>...</td>\n",
       "      <td>1</td>\n",
       "      <td>0</td>\n",
       "      <td>0</td>\n",
       "      <td>0</td>\n",
       "      <td>8</td>\n",
       "      <td>1</td>\n",
       "      <td>0</td>\n",
       "      <td>2</td>\n",
       "      <td>4</td>\n",
       "      <td>0</td>\n",
       "    </tr>\n",
       "    <tr>\n",
       "      <th>1</th>\n",
       "      <td>1</td>\n",
       "      <td>0</td>\n",
       "      <td>0</td>\n",
       "      <td>0</td>\n",
       "      <td>0</td>\n",
       "      <td>0</td>\n",
       "      <td>1</td>\n",
       "      <td>1</td>\n",
       "      <td>0</td>\n",
       "      <td>0</td>\n",
       "      <td>...</td>\n",
       "      <td>1</td>\n",
       "      <td>1</td>\n",
       "      <td>0</td>\n",
       "      <td>0</td>\n",
       "      <td>8</td>\n",
       "      <td>0</td>\n",
       "      <td>3</td>\n",
       "      <td>2</td>\n",
       "      <td>4</td>\n",
       "      <td>2</td>\n",
       "    </tr>\n",
       "    <tr>\n",
       "      <th>2</th>\n",
       "      <td>1</td>\n",
       "      <td>0</td>\n",
       "      <td>0</td>\n",
       "      <td>0</td>\n",
       "      <td>0</td>\n",
       "      <td>1</td>\n",
       "      <td>0</td>\n",
       "      <td>0</td>\n",
       "      <td>0</td>\n",
       "      <td>0</td>\n",
       "      <td>...</td>\n",
       "      <td>1</td>\n",
       "      <td>1</td>\n",
       "      <td>0</td>\n",
       "      <td>0</td>\n",
       "      <td>15</td>\n",
       "      <td>0</td>\n",
       "      <td>2</td>\n",
       "      <td>3</td>\n",
       "      <td>1</td>\n",
       "      <td>2</td>\n",
       "    </tr>\n",
       "    <tr>\n",
       "      <th>3</th>\n",
       "      <td>0</td>\n",
       "      <td>0</td>\n",
       "      <td>1</td>\n",
       "      <td>0</td>\n",
       "      <td>0</td>\n",
       "      <td>0</td>\n",
       "      <td>1</td>\n",
       "      <td>1</td>\n",
       "      <td>0</td>\n",
       "      <td>0</td>\n",
       "      <td>...</td>\n",
       "      <td>1</td>\n",
       "      <td>1</td>\n",
       "      <td>0</td>\n",
       "      <td>0</td>\n",
       "      <td>0</td>\n",
       "      <td>0</td>\n",
       "      <td>3</td>\n",
       "      <td>0</td>\n",
       "      <td>3</td>\n",
       "      <td>0</td>\n",
       "    </tr>\n",
       "    <tr>\n",
       "      <th>4</th>\n",
       "      <td>0</td>\n",
       "      <td>0</td>\n",
       "      <td>0</td>\n",
       "      <td>0</td>\n",
       "      <td>0</td>\n",
       "      <td>0</td>\n",
       "      <td>1</td>\n",
       "      <td>1</td>\n",
       "      <td>0</td>\n",
       "      <td>0</td>\n",
       "      <td>...</td>\n",
       "      <td>1</td>\n",
       "      <td>0</td>\n",
       "      <td>1</td>\n",
       "      <td>0</td>\n",
       "      <td>0</td>\n",
       "      <td>0</td>\n",
       "      <td>0</td>\n",
       "      <td>0</td>\n",
       "      <td>4</td>\n",
       "      <td>2</td>\n",
       "    </tr>\n",
       "    <tr>\n",
       "      <th>...</th>\n",
       "      <td>...</td>\n",
       "      <td>...</td>\n",
       "      <td>...</td>\n",
       "      <td>...</td>\n",
       "      <td>...</td>\n",
       "      <td>...</td>\n",
       "      <td>...</td>\n",
       "      <td>...</td>\n",
       "      <td>...</td>\n",
       "      <td>...</td>\n",
       "      <td>...</td>\n",
       "      <td>...</td>\n",
       "      <td>...</td>\n",
       "      <td>...</td>\n",
       "      <td>...</td>\n",
       "      <td>...</td>\n",
       "      <td>...</td>\n",
       "      <td>...</td>\n",
       "      <td>...</td>\n",
       "      <td>...</td>\n",
       "      <td>...</td>\n",
       "    </tr>\n",
       "    <tr>\n",
       "      <th>51042</th>\n",
       "      <td>0</td>\n",
       "      <td>1</td>\n",
       "      <td>1</td>\n",
       "      <td>0</td>\n",
       "      <td>0</td>\n",
       "      <td>0</td>\n",
       "      <td>1</td>\n",
       "      <td>1</td>\n",
       "      <td>0</td>\n",
       "      <td>0</td>\n",
       "      <td>...</td>\n",
       "      <td>1</td>\n",
       "      <td>0</td>\n",
       "      <td>0</td>\n",
       "      <td>0</td>\n",
       "      <td>13</td>\n",
       "      <td>0</td>\n",
       "      <td>0</td>\n",
       "      <td>2</td>\n",
       "      <td>3</td>\n",
       "      <td>2</td>\n",
       "    </tr>\n",
       "    <tr>\n",
       "      <th>51043</th>\n",
       "      <td>1</td>\n",
       "      <td>0</td>\n",
       "      <td>1</td>\n",
       "      <td>0</td>\n",
       "      <td>0</td>\n",
       "      <td>0</td>\n",
       "      <td>1</td>\n",
       "      <td>1</td>\n",
       "      <td>0</td>\n",
       "      <td>0</td>\n",
       "      <td>...</td>\n",
       "      <td>1</td>\n",
       "      <td>0</td>\n",
       "      <td>0</td>\n",
       "      <td>0</td>\n",
       "      <td>13</td>\n",
       "      <td>0</td>\n",
       "      <td>2</td>\n",
       "      <td>0</td>\n",
       "      <td>3</td>\n",
       "      <td>0</td>\n",
       "    </tr>\n",
       "    <tr>\n",
       "      <th>51044</th>\n",
       "      <td>0</td>\n",
       "      <td>0</td>\n",
       "      <td>1</td>\n",
       "      <td>0</td>\n",
       "      <td>0</td>\n",
       "      <td>0</td>\n",
       "      <td>0</td>\n",
       "      <td>0</td>\n",
       "      <td>0</td>\n",
       "      <td>0</td>\n",
       "      <td>...</td>\n",
       "      <td>1</td>\n",
       "      <td>0</td>\n",
       "      <td>0</td>\n",
       "      <td>0</td>\n",
       "      <td>14</td>\n",
       "      <td>0</td>\n",
       "      <td>4</td>\n",
       "      <td>0</td>\n",
       "      <td>0</td>\n",
       "      <td>0</td>\n",
       "    </tr>\n",
       "    <tr>\n",
       "      <th>51045</th>\n",
       "      <td>1</td>\n",
       "      <td>0</td>\n",
       "      <td>1</td>\n",
       "      <td>0</td>\n",
       "      <td>0</td>\n",
       "      <td>1</td>\n",
       "      <td>0</td>\n",
       "      <td>0</td>\n",
       "      <td>0</td>\n",
       "      <td>0</td>\n",
       "      <td>...</td>\n",
       "      <td>0</td>\n",
       "      <td>0</td>\n",
       "      <td>0</td>\n",
       "      <td>0</td>\n",
       "      <td>8</td>\n",
       "      <td>0</td>\n",
       "      <td>4</td>\n",
       "      <td>0</td>\n",
       "      <td>3</td>\n",
       "      <td>0</td>\n",
       "    </tr>\n",
       "    <tr>\n",
       "      <th>51046</th>\n",
       "      <td>0</td>\n",
       "      <td>0</td>\n",
       "      <td>1</td>\n",
       "      <td>0</td>\n",
       "      <td>0</td>\n",
       "      <td>1</td>\n",
       "      <td>0</td>\n",
       "      <td>0</td>\n",
       "      <td>0</td>\n",
       "      <td>0</td>\n",
       "      <td>...</td>\n",
       "      <td>0</td>\n",
       "      <td>0</td>\n",
       "      <td>0</td>\n",
       "      <td>0</td>\n",
       "      <td>13</td>\n",
       "      <td>1</td>\n",
       "      <td>4</td>\n",
       "      <td>0</td>\n",
       "      <td>3</td>\n",
       "      <td>1</td>\n",
       "    </tr>\n",
       "  </tbody>\n",
       "</table>\n",
       "<p>51047 rows × 21 columns</p>\n",
       "</div>"
      ],
      "text/plain": [
       "       ChildrenInHH  HandsetRefurbished  HandsetWebCapable  TruckOwner  \\\n",
       "0                 0                   0                  1           0   \n",
       "1                 1                   0                  0           0   \n",
       "2                 1                   0                  0           0   \n",
       "3                 0                   0                  1           0   \n",
       "4                 0                   0                  0           0   \n",
       "...             ...                 ...                ...         ...   \n",
       "51042             0                   1                  1           0   \n",
       "51043             1                   0                  1           0   \n",
       "51044             0                   0                  1           0   \n",
       "51045             1                   0                  1           0   \n",
       "51046             0                   0                  1           0   \n",
       "\n",
       "       RVOwner  Homeownership  BuysViaMailOrder  RespondsToMailOffers  \\\n",
       "0            0              0                 1                     1   \n",
       "1            0              0                 1                     1   \n",
       "2            0              1                 0                     0   \n",
       "3            0              0                 1                     1   \n",
       "4            0              0                 1                     1   \n",
       "...        ...            ...               ...                   ...   \n",
       "51042        0              0                 1                     1   \n",
       "51043        0              0                 1                     1   \n",
       "51044        0              0                 0                     0   \n",
       "51045        0              1                 0                     0   \n",
       "51046        0              1                 0                     0   \n",
       "\n",
       "       OptOutMailings  NonUSTravel  ...  HasCreditCard  NewCellphoneUser  \\\n",
       "0                   0            0  ...              1                 0   \n",
       "1                   0            0  ...              1                 1   \n",
       "2                   0            0  ...              1                 1   \n",
       "3                   0            0  ...              1                 1   \n",
       "4                   0            0  ...              1                 0   \n",
       "...               ...          ...  ...            ...               ...   \n",
       "51042               0            0  ...              1                 0   \n",
       "51043               0            0  ...              1                 0   \n",
       "51044               0            0  ...              1                 0   \n",
       "51045               0            0  ...              0                 0   \n",
       "51046               0            0  ...              0                 0   \n",
       "\n",
       "       NotNewCellphoneUser  OwnsMotorcycle  HandsetPrice  \\\n",
       "0                        0               0             8   \n",
       "1                        0               0             8   \n",
       "2                        0               0            15   \n",
       "3                        0               0             0   \n",
       "4                        1               0             0   \n",
       "...                    ...             ...           ...   \n",
       "51042                    0               0            13   \n",
       "51043                    0               0            13   \n",
       "51044                    0               0            14   \n",
       "51045                    0               0             8   \n",
       "51046                    0               0            13   \n",
       "\n",
       "       MadeCallToRetentionTeam  CreditRating  PrizmCode  Occupation  \\\n",
       "0                            1             0          2           4   \n",
       "1                            0             3          2           4   \n",
       "2                            0             2          3           1   \n",
       "3                            0             3          0           3   \n",
       "4                            0             0          0           4   \n",
       "...                        ...           ...        ...         ...   \n",
       "51042                        0             0          2           3   \n",
       "51043                        0             2          0           3   \n",
       "51044                        0             4          0           0   \n",
       "51045                        0             4          0           3   \n",
       "51046                        1             4          0           3   \n",
       "\n",
       "       MaritalStatus  \n",
       "0                  0  \n",
       "1                  2  \n",
       "2                  2  \n",
       "3                  0  \n",
       "4                  2  \n",
       "...              ...  \n",
       "51042              2  \n",
       "51043              0  \n",
       "51044              0  \n",
       "51045              0  \n",
       "51046              1  \n",
       "\n",
       "[51047 rows x 21 columns]"
      ]
     },
     "execution_count": 93,
     "metadata": {},
     "output_type": "execute_result"
    }
   ],
   "source": [
    "z2"
   ]
  },
  {
   "cell_type": "code",
   "execution_count": 94,
   "id": "92a1f371",
   "metadata": {},
   "outputs": [],
   "source": [
    "frames2 = [customer_num2, z2]\n",
    "customer_updated2=pd.concat(frames2,axis=1)"
   ]
  },
  {
   "cell_type": "code",
   "execution_count": 95,
   "id": "7149a3af",
   "metadata": {},
   "outputs": [
    {
     "data": {
      "text/plain": [
       "MonthlyRevenue               0\n",
       "MonthlyMinutes               0\n",
       "TotalRecurringCharge         0\n",
       "DirectorAssistedCalls        0\n",
       "OverageMinutes               0\n",
       "RoamingCalls                 0\n",
       "PercChangeMinutes            0\n",
       "PercChangeRevenues           0\n",
       "DroppedCalls                 0\n",
       "BlockedCalls                 0\n",
       "UnansweredCalls              0\n",
       "CustomerCareCalls            0\n",
       "ThreewayCalls                0\n",
       "ReceivedCalls                0\n",
       "OutboundCalls                0\n",
       "InboundCalls                 0\n",
       "PeakCallsInOut               0\n",
       "OffPeakCallsInOut            0\n",
       "DroppedBlockedCalls          0\n",
       "CallForwardingCalls          0\n",
       "CallWaitingCalls             0\n",
       "MonthsInService              0\n",
       "UniqueSubs                   0\n",
       "ActiveSubs                   0\n",
       "Handsets                     0\n",
       "HandsetModels                0\n",
       "CurrentEquipmentDays         0\n",
       "AgeHH1                       0\n",
       "AgeHH2                       0\n",
       "RetentionCalls               0\n",
       "RetentionOffersAccepted      0\n",
       "ReferralsMadeBySubscriber    0\n",
       "IncomeGroup                  0\n",
       "AdjustmentsToCreditRating    0\n",
       "ChildrenInHH                 0\n",
       "HandsetRefurbished           0\n",
       "HandsetWebCapable            0\n",
       "TruckOwner                   0\n",
       "RVOwner                      0\n",
       "Homeownership                0\n",
       "BuysViaMailOrder             0\n",
       "RespondsToMailOffers         0\n",
       "OptOutMailings               0\n",
       "NonUSTravel                  0\n",
       "OwnsComputer                 0\n",
       "HasCreditCard                0\n",
       "NewCellphoneUser             0\n",
       "NotNewCellphoneUser          0\n",
       "OwnsMotorcycle               0\n",
       "HandsetPrice                 0\n",
       "MadeCallToRetentionTeam      0\n",
       "CreditRating                 0\n",
       "PrizmCode                    0\n",
       "Occupation                   0\n",
       "MaritalStatus                0\n",
       "dtype: int64"
      ]
     },
     "execution_count": 95,
     "metadata": {},
     "output_type": "execute_result"
    }
   ],
   "source": [
    "customer_updated2.isnull().sum()"
   ]
  },
  {
   "cell_type": "code",
   "execution_count": 96,
   "id": "41135168",
   "metadata": {},
   "outputs": [
    {
     "data": {
      "text/plain": [
       "0    36336\n",
       "1    14711\n",
       "Name: Churn, dtype: int64"
      ]
     },
     "execution_count": 96,
     "metadata": {},
     "output_type": "execute_result"
    }
   ],
   "source": [
    "train_label2.value_counts()"
   ]
  },
  {
   "cell_type": "code",
   "execution_count": 97,
   "id": "bb543712",
   "metadata": {},
   "outputs": [],
   "source": [
    "#applying SVM smote \n",
    "oversampler=SMOTE()\n",
    "customer_updated2,train_label2=oversampler.fit_resample(customer_updated2,train_label2)"
   ]
  },
  {
   "cell_type": "code",
   "execution_count": 98,
   "id": "b1f34ee3",
   "metadata": {},
   "outputs": [
    {
     "data": {
      "text/plain": [
       "1    36336\n",
       "0    36336\n",
       "Name: Churn, dtype: int64"
      ]
     },
     "execution_count": 98,
     "metadata": {},
     "output_type": "execute_result"
    }
   ],
   "source": [
    "train_label2.value_counts()"
   ]
  },
  {
   "cell_type": "code",
   "execution_count": 99,
   "id": "58666c43",
   "metadata": {},
   "outputs": [],
   "source": [
    "#Method2: on second dataset.\n",
    "corr2=customer_updated2.corr(method='spearman')"
   ]
  },
  {
   "cell_type": "code",
   "execution_count": 100,
   "id": "defc7347",
   "metadata": {},
   "outputs": [],
   "source": [
    "data2=customer_updated2"
   ]
  },
  {
   "cell_type": "code",
   "execution_count": 101,
   "id": "85284cfd",
   "metadata": {},
   "outputs": [
    {
     "data": {
      "image/png": "[encoded data removed]",
      "text/plain": [
       "<Figure size 864x576 with 2 Axes>"
      ]
     },
     "metadata": {
      "needs_background": "light"
     },
     "output_type": "display_data"
    }
   ],
   "source": [
    "fig, (ax1, ax2) = plt.subplots(1, 2, figsize=(12, 8))\n",
    "\n",
    "distance_matrix = 1 - np.abs(corr2)\n",
    "dist_linkage = hierarchy.ward(squareform(distance_matrix))\n",
    "dendro = hierarchy.dendrogram(\n",
    "    dist_linkage, labels=data2.columns.tolist(), ax=ax1, leaf_rotation=90\n",
    ")\n",
    "dendro_idx = np.arange(0, len(dendro[\"ivl\"]))"
   ]
  },
  {
   "cell_type": "code",
   "execution_count": 102,
   "id": "ef286922",
   "metadata": {},
   "outputs": [],
   "source": [
    "cluster_ids = hierarchy.fcluster(dist_linkage, 1, criterion=\"distance\")\n",
    "cluster_id_to_feature_ids = defaultdict(list)\n",
    "for idx, cluster_id in enumerate(cluster_ids):\n",
    "    cluster_id_to_feature_ids[cluster_id].append(idx)\n",
    "selected_features2 = [v[0] for v in cluster_id_to_feature_ids.values()]"
   ]
  },
  {
   "cell_type": "code",
   "execution_count": 103,
   "id": "0dc8535c",
   "metadata": {},
   "outputs": [
    {
     "data": {
      "text/plain": [
       "[0, 5, 6, 19, 21, 22, 24, 27, 29, 33, 34, 37]"
      ]
     },
     "execution_count": 103,
     "metadata": {},
     "output_type": "execute_result"
    }
   ],
   "source": [
    "selected_features2"
   ]
  },
  {
   "cell_type": "code",
   "execution_count": 104,
   "id": "d2d5239b",
   "metadata": {},
   "outputs": [],
   "source": [
    "r2=customer_updated2.columns"
   ]
  },
  {
   "cell_type": "code",
   "execution_count": 105,
   "id": "0911c12d",
   "metadata": {},
   "outputs": [],
   "source": [
    "r2=r2[selected_features2]"
   ]
  },
  {
   "cell_type": "code",
   "execution_count": 106,
   "id": "79e57067",
   "metadata": {},
   "outputs": [],
   "source": [
    "z2=customer_updated2"
   ]
  },
  {
   "cell_type": "code",
   "execution_count": 107,
   "id": "d42b7fbf",
   "metadata": {},
   "outputs": [],
   "source": [
    "z2=z2[r2]"
   ]
  },
  {
   "cell_type": "code",
   "execution_count": 108,
   "id": "bccc1861",
   "metadata": {},
   "outputs": [],
   "source": [
    "from sklearn.model_selection import train_test_split\n",
    "X_train2, X_test2, y_train2, y_test2 = train_test_split(z2, train_label2, test_size=0.3, random_state=42)"
   ]
  },
  {
   "cell_type": "code",
   "execution_count": 109,
   "id": "b91450cf",
   "metadata": {},
   "outputs": [
    {
     "name": "stdout",
     "output_type": "stream",
     "text": [
      "0.3797758064063115\n"
     ]
    }
   ],
   "source": [
    "#Implementing the models after Hirarchial feature selection on dataset 2.\n",
    "xg=xgboost.XGBRegressor()\n",
    "xg.fit(X_train2,y_train2)\n",
    "k_folds = KFold(n_splits = 10)\n",
    "print(cross_val_score(xg, X_train2, y_train2, cv=k_folds).mean())"
   ]
  },
  {
   "cell_type": "code",
   "execution_count": 110,
   "id": "d197a6e9",
   "metadata": {},
   "outputs": [
    {
     "data": {
      "text/plain": [
       "0.8357970901469832"
      ]
     },
     "execution_count": 110,
     "metadata": {},
     "output_type": "execute_result"
    }
   ],
   "source": [
    "from sklearn.metrics import classification_report\n",
    "pred_xg=xg.predict(X_test2)\n",
    "fpr, tpr, thresholds = metrics.roc_curve(y_test2, pred_xg)\n",
    "#r=classification_report(y_test2, pred_xg)\n",
    "xg_m=metrics.auc(fpr, tpr)\n",
    "xg_m"
   ]
  },
  {
   "cell_type": "code",
   "execution_count": 111,
   "id": "a2f94211",
   "metadata": {},
   "outputs": [
    {
     "name": "stdout",
     "output_type": "stream",
     "text": [
      "0.5318428571428572\n"
     ]
    }
   ],
   "source": [
    "#decision treee\n",
    "dt=DecisionTreeClassifier()\n",
    "dt.fit(X_train2,y_train2)\n",
    "k_folds = KFold(n_splits = 10)\n",
    "print(cross_val_score(dt, X_train, y_train, cv=k_folds).mean())"
   ]
  },
  {
   "cell_type": "code",
   "execution_count": 112,
   "id": "51c08ba2",
   "metadata": {},
   "outputs": [
    {
     "data": {
      "text/plain": [
       "0.6754511540886704"
      ]
     },
     "execution_count": 112,
     "metadata": {},
     "output_type": "execute_result"
    }
   ],
   "source": [
    "pred2=dt.predict(X_test2)\n",
    "fpr, tpr, thresholds = metrics.roc_curve(y_test2, pred2)\n",
    "dt_m=metrics.auc(fpr, tpr)\n",
    "dt_m"
   ]
  },
  {
   "cell_type": "code",
   "execution_count": 113,
   "id": "d460ef1a",
   "metadata": {},
   "outputs": [
    {
     "name": "stdout",
     "output_type": "stream",
     "text": [
      "0.7327698053862787\n"
     ]
    }
   ],
   "source": [
    "#random Forest\n",
    "rf=RandomForestClassifier()\n",
    "rf.fit(X_train2,y_train2)\n",
    "k_folds = KFold(n_splits = 10)\n",
    "print(cross_val_score(rf, X_train2, y_train2, cv=k_folds).mean())"
   ]
  },
  {
   "cell_type": "code",
   "execution_count": 114,
   "id": "52684a91",
   "metadata": {},
   "outputs": [
    {
     "data": {
      "text/plain": [
       "0.7378061493435866"
      ]
     },
     "execution_count": 114,
     "metadata": {},
     "output_type": "execute_result"
    }
   ],
   "source": [
    "pred_rf=rf.predict(X_test2)\n",
    "fpr, tpr, thresholds = metrics.roc_curve(y_test2, pred_rf)\n",
    "rf_m=metrics.auc(fpr, tpr)\n",
    "rf_m"
   ]
  },
  {
   "cell_type": "code",
   "execution_count": 115,
   "id": "2690be85",
   "metadata": {},
   "outputs": [
    {
     "name": "stdout",
     "output_type": "stream",
     "text": [
      "0.774071161784942\n"
     ]
    }
   ],
   "source": [
    "gbm=lightgbm.LGBMClassifier()\n",
    "gbm.fit(X_train2,y_train2)\n",
    "k_folds = KFold(n_splits = 10)\n",
    "print(cross_val_score(gbm, X_train2, y_train2, cv=k_folds).mean())"
   ]
  },
  {
   "cell_type": "code",
   "execution_count": 116,
   "id": "953d3b6d",
   "metadata": {},
   "outputs": [
    {
     "data": {
      "text/plain": [
       "0.7758557798804185"
      ]
     },
     "execution_count": 116,
     "metadata": {},
     "output_type": "execute_result"
    }
   ],
   "source": [
    "pred_gbm=gbm.predict(X_test2)\n",
    "fpr, tpr, thresholds = metrics.roc_curve(y_test2, pred_gbm)\n",
    "gbm_m=metrics.auc(fpr, tpr)\n",
    "gbm_m"
   ]
  },
  {
   "cell_type": "code",
   "execution_count": 117,
   "id": "8ae12533",
   "metadata": {},
   "outputs": [
    {
     "data": {
      "text/html": [
       "<div>\n",
       "<style scoped>\n",
       "    .dataframe tbody tr th:only-of-type {\n",
       "        vertical-align: middle;\n",
       "    }\n",
       "\n",
       "    .dataframe tbody tr th {\n",
       "        vertical-align: top;\n",
       "    }\n",
       "\n",
       "    .dataframe thead th {\n",
       "        text-align: right;\n",
       "    }\n",
       "</style>\n",
       "<table border=\"1\" class=\"dataframe\">\n",
       "  <thead>\n",
       "    <tr style=\"text-align: right;\">\n",
       "      <th></th>\n",
       "      <th>MonthlyRevenue</th>\n",
       "      <th>MonthlyMinutes</th>\n",
       "      <th>TotalRecurringCharge</th>\n",
       "      <th>DirectorAssistedCalls</th>\n",
       "      <th>OverageMinutes</th>\n",
       "      <th>RoamingCalls</th>\n",
       "      <th>PercChangeMinutes</th>\n",
       "      <th>PercChangeRevenues</th>\n",
       "      <th>DroppedCalls</th>\n",
       "      <th>BlockedCalls</th>\n",
       "      <th>...</th>\n",
       "      <th>HasCreditCard</th>\n",
       "      <th>NewCellphoneUser</th>\n",
       "      <th>NotNewCellphoneUser</th>\n",
       "      <th>OwnsMotorcycle</th>\n",
       "      <th>HandsetPrice</th>\n",
       "      <th>MadeCallToRetentionTeam</th>\n",
       "      <th>CreditRating</th>\n",
       "      <th>PrizmCode</th>\n",
       "      <th>Occupation</th>\n",
       "      <th>MaritalStatus</th>\n",
       "    </tr>\n",
       "  </thead>\n",
       "  <tbody>\n",
       "    <tr>\n",
       "      <th>0</th>\n",
       "      <td>24.000000</td>\n",
       "      <td>219.000000</td>\n",
       "      <td>22.000000</td>\n",
       "      <td>0.250000</td>\n",
       "      <td>0.000000</td>\n",
       "      <td>0.000000</td>\n",
       "      <td>-157.000000</td>\n",
       "      <td>-19.000000</td>\n",
       "      <td>0.700000</td>\n",
       "      <td>0.700000</td>\n",
       "      <td>...</td>\n",
       "      <td>1</td>\n",
       "      <td>0</td>\n",
       "      <td>0</td>\n",
       "      <td>0</td>\n",
       "      <td>8</td>\n",
       "      <td>1</td>\n",
       "      <td>0</td>\n",
       "      <td>2</td>\n",
       "      <td>4</td>\n",
       "      <td>0</td>\n",
       "    </tr>\n",
       "    <tr>\n",
       "      <th>1</th>\n",
       "      <td>16.990000</td>\n",
       "      <td>10.000000</td>\n",
       "      <td>17.000000</td>\n",
       "      <td>0.000000</td>\n",
       "      <td>0.000000</td>\n",
       "      <td>0.000000</td>\n",
       "      <td>-4.000000</td>\n",
       "      <td>0.000000</td>\n",
       "      <td>0.300000</td>\n",
       "      <td>0.000000</td>\n",
       "      <td>...</td>\n",
       "      <td>1</td>\n",
       "      <td>1</td>\n",
       "      <td>0</td>\n",
       "      <td>0</td>\n",
       "      <td>8</td>\n",
       "      <td>0</td>\n",
       "      <td>3</td>\n",
       "      <td>2</td>\n",
       "      <td>4</td>\n",
       "      <td>2</td>\n",
       "    </tr>\n",
       "    <tr>\n",
       "      <th>2</th>\n",
       "      <td>38.000000</td>\n",
       "      <td>8.000000</td>\n",
       "      <td>38.000000</td>\n",
       "      <td>0.000000</td>\n",
       "      <td>0.000000</td>\n",
       "      <td>0.000000</td>\n",
       "      <td>-2.000000</td>\n",
       "      <td>0.000000</td>\n",
       "      <td>0.000000</td>\n",
       "      <td>0.000000</td>\n",
       "      <td>...</td>\n",
       "      <td>1</td>\n",
       "      <td>1</td>\n",
       "      <td>0</td>\n",
       "      <td>0</td>\n",
       "      <td>15</td>\n",
       "      <td>0</td>\n",
       "      <td>2</td>\n",
       "      <td>3</td>\n",
       "      <td>1</td>\n",
       "      <td>2</td>\n",
       "    </tr>\n",
       "    <tr>\n",
       "      <th>3</th>\n",
       "      <td>82.280000</td>\n",
       "      <td>1312.000000</td>\n",
       "      <td>75.000000</td>\n",
       "      <td>1.240000</td>\n",
       "      <td>0.000000</td>\n",
       "      <td>0.000000</td>\n",
       "      <td>157.000000</td>\n",
       "      <td>8.100000</td>\n",
       "      <td>52.000000</td>\n",
       "      <td>7.700000</td>\n",
       "      <td>...</td>\n",
       "      <td>1</td>\n",
       "      <td>1</td>\n",
       "      <td>0</td>\n",
       "      <td>0</td>\n",
       "      <td>0</td>\n",
       "      <td>0</td>\n",
       "      <td>3</td>\n",
       "      <td>0</td>\n",
       "      <td>3</td>\n",
       "      <td>0</td>\n",
       "    </tr>\n",
       "    <tr>\n",
       "      <th>4</th>\n",
       "      <td>17.140000</td>\n",
       "      <td>0.000000</td>\n",
       "      <td>17.000000</td>\n",
       "      <td>0.000000</td>\n",
       "      <td>0.000000</td>\n",
       "      <td>0.000000</td>\n",
       "      <td>0.000000</td>\n",
       "      <td>-0.200000</td>\n",
       "      <td>0.000000</td>\n",
       "      <td>0.000000</td>\n",
       "      <td>...</td>\n",
       "      <td>1</td>\n",
       "      <td>0</td>\n",
       "      <td>1</td>\n",
       "      <td>0</td>\n",
       "      <td>0</td>\n",
       "      <td>0</td>\n",
       "      <td>0</td>\n",
       "      <td>0</td>\n",
       "      <td>4</td>\n",
       "      <td>2</td>\n",
       "    </tr>\n",
       "    <tr>\n",
       "      <th>...</th>\n",
       "      <td>...</td>\n",
       "      <td>...</td>\n",
       "      <td>...</td>\n",
       "      <td>...</td>\n",
       "      <td>...</td>\n",
       "      <td>...</td>\n",
       "      <td>...</td>\n",
       "      <td>...</td>\n",
       "      <td>...</td>\n",
       "      <td>...</td>\n",
       "      <td>...</td>\n",
       "      <td>...</td>\n",
       "      <td>...</td>\n",
       "      <td>...</td>\n",
       "      <td>...</td>\n",
       "      <td>...</td>\n",
       "      <td>...</td>\n",
       "      <td>...</td>\n",
       "      <td>...</td>\n",
       "      <td>...</td>\n",
       "      <td>...</td>\n",
       "    </tr>\n",
       "    <tr>\n",
       "      <th>72667</th>\n",
       "      <td>76.406716</td>\n",
       "      <td>246.569562</td>\n",
       "      <td>30.403581</td>\n",
       "      <td>0.199552</td>\n",
       "      <td>124.726590</td>\n",
       "      <td>0.558747</td>\n",
       "      <td>125.017905</td>\n",
       "      <td>39.506267</td>\n",
       "      <td>2.703581</td>\n",
       "      <td>4.610331</td>\n",
       "      <td>...</td>\n",
       "      <td>1</td>\n",
       "      <td>0</td>\n",
       "      <td>0</td>\n",
       "      <td>0</td>\n",
       "      <td>15</td>\n",
       "      <td>0</td>\n",
       "      <td>0</td>\n",
       "      <td>0</td>\n",
       "      <td>3</td>\n",
       "      <td>0</td>\n",
       "    </tr>\n",
       "    <tr>\n",
       "      <th>72668</th>\n",
       "      <td>76.070898</td>\n",
       "      <td>1263.891883</td>\n",
       "      <td>58.674397</td>\n",
       "      <td>0.500000</td>\n",
       "      <td>59.194294</td>\n",
       "      <td>0.260232</td>\n",
       "      <td>-322.530241</td>\n",
       "      <td>-20.362017</td>\n",
       "      <td>10.473488</td>\n",
       "      <td>3.172328</td>\n",
       "      <td>...</td>\n",
       "      <td>0</td>\n",
       "      <td>0</td>\n",
       "      <td>0</td>\n",
       "      <td>0</td>\n",
       "      <td>8</td>\n",
       "      <td>0</td>\n",
       "      <td>2</td>\n",
       "      <td>3</td>\n",
       "      <td>3</td>\n",
       "      <td>0</td>\n",
       "    </tr>\n",
       "    <tr>\n",
       "      <th>72669</th>\n",
       "      <td>37.296536</td>\n",
       "      <td>459.694376</td>\n",
       "      <td>38.842706</td>\n",
       "      <td>0.096068</td>\n",
       "      <td>0.000000</td>\n",
       "      <td>0.000000</td>\n",
       "      <td>45.296661</td>\n",
       "      <td>-0.323146</td>\n",
       "      <td>6.541564</td>\n",
       "      <td>6.378647</td>\n",
       "      <td>...</td>\n",
       "      <td>0</td>\n",
       "      <td>0</td>\n",
       "      <td>1</td>\n",
       "      <td>0</td>\n",
       "      <td>12</td>\n",
       "      <td>0</td>\n",
       "      <td>1</td>\n",
       "      <td>1</td>\n",
       "      <td>3</td>\n",
       "      <td>1</td>\n",
       "    </tr>\n",
       "    <tr>\n",
       "      <th>72670</th>\n",
       "      <td>67.966507</td>\n",
       "      <td>293.651909</td>\n",
       "      <td>27.652127</td>\n",
       "      <td>2.393919</td>\n",
       "      <td>101.565176</td>\n",
       "      <td>0.000000</td>\n",
       "      <td>-288.652272</td>\n",
       "      <td>-47.091327</td>\n",
       "      <td>5.839142</td>\n",
       "      <td>0.460858</td>\n",
       "      <td>...</td>\n",
       "      <td>1</td>\n",
       "      <td>0</td>\n",
       "      <td>0</td>\n",
       "      <td>0</td>\n",
       "      <td>14</td>\n",
       "      <td>0</td>\n",
       "      <td>2</td>\n",
       "      <td>1</td>\n",
       "      <td>2</td>\n",
       "      <td>0</td>\n",
       "    </tr>\n",
       "    <tr>\n",
       "      <th>72671</th>\n",
       "      <td>40.695022</td>\n",
       "      <td>377.856819</td>\n",
       "      <td>32.000000</td>\n",
       "      <td>0.000000</td>\n",
       "      <td>20.000000</td>\n",
       "      <td>0.257892</td>\n",
       "      <td>25.008458</td>\n",
       "      <td>18.624241</td>\n",
       "      <td>1.380834</td>\n",
       "      <td>9.008851</td>\n",
       "      <td>...</td>\n",
       "      <td>0</td>\n",
       "      <td>0</td>\n",
       "      <td>0</td>\n",
       "      <td>0</td>\n",
       "      <td>14</td>\n",
       "      <td>0</td>\n",
       "      <td>1</td>\n",
       "      <td>0</td>\n",
       "      <td>3</td>\n",
       "      <td>1</td>\n",
       "    </tr>\n",
       "  </tbody>\n",
       "</table>\n",
       "<p>72672 rows × 55 columns</p>\n",
       "</div>"
      ],
      "text/plain": [
       "       MonthlyRevenue  MonthlyMinutes  TotalRecurringCharge  \\\n",
       "0           24.000000      219.000000             22.000000   \n",
       "1           16.990000       10.000000             17.000000   \n",
       "2           38.000000        8.000000             38.000000   \n",
       "3           82.280000     1312.000000             75.000000   \n",
       "4           17.140000        0.000000             17.000000   \n",
       "...               ...             ...                   ...   \n",
       "72667       76.406716      246.569562             30.403581   \n",
       "72668       76.070898     1263.891883             58.674397   \n",
       "72669       37.296536      459.694376             38.842706   \n",
       "72670       67.966507      293.651909             27.652127   \n",
       "72671       40.695022      377.856819             32.000000   \n",
       "\n",
       "       DirectorAssistedCalls  OverageMinutes  RoamingCalls  PercChangeMinutes  \\\n",
       "0                   0.250000        0.000000      0.000000        -157.000000   \n",
       "1                   0.000000        0.000000      0.000000          -4.000000   \n",
       "2                   0.000000        0.000000      0.000000          -2.000000   \n",
       "3                   1.240000        0.000000      0.000000         157.000000   \n",
       "4                   0.000000        0.000000      0.000000           0.000000   \n",
       "...                      ...             ...           ...                ...   \n",
       "72667               0.199552      124.726590      0.558747         125.017905   \n",
       "72668               0.500000       59.194294      0.260232        -322.530241   \n",
       "72669               0.096068        0.000000      0.000000          45.296661   \n",
       "72670               2.393919      101.565176      0.000000        -288.652272   \n",
       "72671               0.000000       20.000000      0.257892          25.008458   \n",
       "\n",
       "       PercChangeRevenues  DroppedCalls  BlockedCalls  ...  HasCreditCard  \\\n",
       "0              -19.000000      0.700000      0.700000  ...              1   \n",
       "1                0.000000      0.300000      0.000000  ...              1   \n",
       "2                0.000000      0.000000      0.000000  ...              1   \n",
       "3                8.100000     52.000000      7.700000  ...              1   \n",
       "4               -0.200000      0.000000      0.000000  ...              1   \n",
       "...                   ...           ...           ...  ...            ...   \n",
       "72667           39.506267      2.703581      4.610331  ...              1   \n",
       "72668          -20.362017     10.473488      3.172328  ...              0   \n",
       "72669           -0.323146      6.541564      6.378647  ...              0   \n",
       "72670          -47.091327      5.839142      0.460858  ...              1   \n",
       "72671           18.624241      1.380834      9.008851  ...              0   \n",
       "\n",
       "       NewCellphoneUser  NotNewCellphoneUser  OwnsMotorcycle  HandsetPrice  \\\n",
       "0                     0                    0               0             8   \n",
       "1                     1                    0               0             8   \n",
       "2                     1                    0               0            15   \n",
       "3                     1                    0               0             0   \n",
       "4                     0                    1               0             0   \n",
       "...                 ...                  ...             ...           ...   \n",
       "72667                 0                    0               0            15   \n",
       "72668                 0                    0               0             8   \n",
       "72669                 0                    1               0            12   \n",
       "72670                 0                    0               0            14   \n",
       "72671                 0                    0               0            14   \n",
       "\n",
       "       MadeCallToRetentionTeam  CreditRating  PrizmCode  Occupation  \\\n",
       "0                            1             0          2           4   \n",
       "1                            0             3          2           4   \n",
       "2                            0             2          3           1   \n",
       "3                            0             3          0           3   \n",
       "4                            0             0          0           4   \n",
       "...                        ...           ...        ...         ...   \n",
       "72667                        0             0          0           3   \n",
       "72668                        0             2          3           3   \n",
       "72669                        0             1          1           3   \n",
       "72670                        0             2          1           2   \n",
       "72671                        0             1          0           3   \n",
       "\n",
       "       MaritalStatus  \n",
       "0                  0  \n",
       "1                  2  \n",
       "2                  2  \n",
       "3                  0  \n",
       "4                  2  \n",
       "...              ...  \n",
       "72667              0  \n",
       "72668              0  \n",
       "72669              1  \n",
       "72670              0  \n",
       "72671              1  \n",
       "\n",
       "[72672 rows x 55 columns]"
      ]
     },
     "execution_count": 117,
     "metadata": {},
     "output_type": "execute_result"
    }
   ],
   "source": [
    "customer_updated2"
   ]
  },
  {
   "cell_type": "code",
   "execution_count": 118,
   "id": "31623c00",
   "metadata": {},
   "outputs": [],
   "source": [
    "p2 = customer_updated2"
   ]
  },
  {
   "cell_type": "code",
   "execution_count": 119,
   "id": "041f6150",
   "metadata": {},
   "outputs": [],
   "source": [
    "pca_2 = PCA(n_components=51)"
   ]
  },
  {
   "cell_type": "code",
   "execution_count": 120,
   "id": "dbcb8b92",
   "metadata": {},
   "outputs": [
    {
     "data": {
      "text/plain": [
       "PCA(n_components=51)"
      ]
     },
     "execution_count": 120,
     "metadata": {},
     "output_type": "execute_result"
    }
   ],
   "source": [
    "pca_2.fit(p2)"
   ]
  },
  {
   "cell_type": "code",
   "execution_count": 121,
   "id": "6eeaa3af",
   "metadata": {},
   "outputs": [],
   "source": [
    "y_pca2 = pca_2.transform(p2)"
   ]
  },
  {
   "cell_type": "code",
   "execution_count": 122,
   "id": "e4cfd6c9",
   "metadata": {},
   "outputs": [
    {
     "data": {
      "text/plain": [
       "(72672, 51)"
      ]
     },
     "execution_count": 122,
     "metadata": {},
     "output_type": "execute_result"
    }
   ],
   "source": [
    "y_pca2.shape"
   ]
  },
  {
   "cell_type": "code",
   "execution_count": 123,
   "id": "19427da3",
   "metadata": {},
   "outputs": [],
   "source": [
    "from sklearn.model_selection import train_test_split\n",
    "X_train, X_test, y_train, y_test = train_test_split(y_pca2, train_label2, test_size=0.3, random_state=42)"
   ]
  },
  {
   "cell_type": "code",
   "execution_count": 124,
   "id": "b905dc9e",
   "metadata": {},
   "outputs": [
    {
     "name": "stdout",
     "output_type": "stream",
     "text": [
      "0.6304501670925889\n"
     ]
    }
   ],
   "source": [
    "#1.desicion tree. \n",
    "dt.fit(X_train,y_train)\n",
    "k_folds = KFold(n_splits = 10)\n",
    "print(cross_val_score(dt, X_train, y_train, cv=k_folds).mean())"
   ]
  },
  {
   "cell_type": "code",
   "execution_count": 125,
   "id": "12565114",
   "metadata": {},
   "outputs": [
    {
     "data": {
      "text/plain": [
       "0.6354857544773406"
      ]
     },
     "execution_count": 125,
     "metadata": {},
     "output_type": "execute_result"
    }
   ],
   "source": [
    "pred_dt = dt.predict(X_test)\n",
    "fpr_dt, tpr_dt, thresholds_dt = metrics.roc_curve(y_test, pred_dt)\n",
    "dt_m = metrics.auc(fpr_dt, tpr_dt)\n",
    "dt_m"
   ]
  },
  {
   "cell_type": "code",
   "execution_count": 126,
   "id": "9f7a8739",
   "metadata": {},
   "outputs": [
    {
     "name": "stdout",
     "output_type": "stream",
     "text": [
      "0.7383723216040889\n"
     ]
    }
   ],
   "source": [
    "#2.Random Forest.\n",
    "rf.fit(X_train,y_train)\n",
    "k_folds = KFold(n_splits = 10)\n",
    "print(cross_val_score(rf, X_train,y_train, cv=k_folds).mean())"
   ]
  },
  {
   "cell_type": "code",
   "execution_count": 127,
   "id": "105e927f",
   "metadata": {},
   "outputs": [
    {
     "data": {
      "text/plain": [
       "0.740700683748026"
      ]
     },
     "execution_count": 127,
     "metadata": {},
     "output_type": "execute_result"
    }
   ],
   "source": [
    "pred_rf = rf.predict(X_test)\n",
    "fpr_rf, tpr_rf, thresholds_rf = metrics.roc_curve(y_test, pred_rf)\n",
    "rf_m = metrics.auc(fpr_rf, tpr_rf)\n",
    "rf_m"
   ]
  },
  {
   "cell_type": "code",
   "execution_count": 128,
   "id": "12dd0a1d",
   "metadata": {},
   "outputs": [
    {
     "name": "stdout",
     "output_type": "stream",
     "text": [
      "0.2634059777432035\n"
     ]
    }
   ],
   "source": [
    "#3.XGBoost.\n",
    "xg.fit(X_train,y_train)\n",
    "k_folds = KFold(n_splits = 10)\n",
    "print(cross_val_score(xg, X_train,y_train, cv=k_folds).mean())"
   ]
  },
  {
   "cell_type": "code",
   "execution_count": 129,
   "id": "641aa2dc",
   "metadata": {},
   "outputs": [
    {
     "data": {
      "text/plain": [
       "0.8026886735620872"
      ]
     },
     "execution_count": 129,
     "metadata": {},
     "output_type": "execute_result"
    }
   ],
   "source": [
    "pred_xg = xg.predict(X_test)\n",
    "fpr_xg, tpr_xg, thresholds_xg = metrics.roc_curve(y_test, pred_xg)\n",
    "xg_m = metrics.auc(fpr_xg, tpr_xg)\n",
    "xg_m"
   ]
  },
  {
   "cell_type": "code",
   "execution_count": 130,
   "id": "eb9d81ab",
   "metadata": {},
   "outputs": [
    {
     "name": "stdout",
     "output_type": "stream",
     "text": [
      "0.7287202673481423\n"
     ]
    }
   ],
   "source": [
    "#4.Light GBM.\n",
    "gbm.fit(X_train,y_train)\n",
    "k_folds = KFold(n_splits = 10)\n",
    "print(cross_val_score(gbm, X_train,y_train, cv=k_folds).mean())"
   ]
  },
  {
   "cell_type": "code",
   "execution_count": 131,
   "id": "d17f7d42",
   "metadata": {},
   "outputs": [
    {
     "data": {
      "text/plain": [
       "0.7282947873269069"
      ]
     },
     "execution_count": 131,
     "metadata": {},
     "output_type": "execute_result"
    }
   ],
   "source": [
    "pred_gbm = gbm.predict(X_test)\n",
    "fpr_gbm, tpr_gbm, thresholds_gbm = metrics.roc_curve(y_test, pred_gbm)\n",
    "gbm_m = metrics.auc(fpr_gbm, tpr_gbm)\n",
    "gbm_m"
   ]
  },
  {
   "cell_type": "code",
   "execution_count": null,
   "id": "409ece6f",
   "metadata": {},
   "outputs": [],
   "source": []
  },
  {
   "cell_type": "code",
   "execution_count": null,
   "id": "6efe3941",
   "metadata": {},
   "outputs": [],
   "source": []
  },
  {
   "cell_type": "code",
   "execution_count": null,
   "id": "c17065da",
   "metadata": {},
   "outputs": [],
   "source": []
  },
  {
   "cell_type": "code",
   "execution_count": 132,
   "id": "ef84377a",
   "metadata": {},
   "outputs": [
    {
     "data": {
      "text/html": [
       "<div>\n",
       "<style scoped>\n",
       "    .dataframe tbody tr th:only-of-type {\n",
       "        vertical-align: middle;\n",
       "    }\n",
       "\n",
       "    .dataframe tbody tr th {\n",
       "        vertical-align: top;\n",
       "    }\n",
       "\n",
       "    .dataframe thead th {\n",
       "        text-align: right;\n",
       "    }\n",
       "</style>\n",
       "<table border=\"1\" class=\"dataframe\">\n",
       "  <thead>\n",
       "    <tr style=\"text-align: right;\">\n",
       "      <th></th>\n",
       "      <th>rev_Mean</th>\n",
       "      <th>mou_Mean</th>\n",
       "      <th>totmrc_Mean</th>\n",
       "      <th>da_Mean</th>\n",
       "      <th>ovrmou_Mean</th>\n",
       "      <th>ovrrev_Mean</th>\n",
       "      <th>vceovr_Mean</th>\n",
       "      <th>datovr_Mean</th>\n",
       "      <th>roam_Mean</th>\n",
       "      <th>drop_vce_Mean</th>\n",
       "      <th>...</th>\n",
       "      <th>infobase</th>\n",
       "      <th>HHstatin</th>\n",
       "      <th>dwllsize</th>\n",
       "      <th>ethnic</th>\n",
       "      <th>kid0_2</th>\n",
       "      <th>kid3_5</th>\n",
       "      <th>kid6_10</th>\n",
       "      <th>kid11_15</th>\n",
       "      <th>kid16_17</th>\n",
       "      <th>creditcd</th>\n",
       "    </tr>\n",
       "  </thead>\n",
       "  <tbody>\n",
       "    <tr>\n",
       "      <th>0</th>\n",
       "      <td>0.000000</td>\n",
       "      <td>0.556517</td>\n",
       "      <td>0.017520</td>\n",
       "      <td>-0.02246</td>\n",
       "      <td>-0.021778</td>\n",
       "      <td>-0.021308</td>\n",
       "      <td>-0.039820</td>\n",
       "      <td>0.015799</td>\n",
       "      <td>0.010703</td>\n",
       "      <td>-0.011647</td>\n",
       "      <td>...</td>\n",
       "      <td>0.001484</td>\n",
       "      <td>0.009292</td>\n",
       "      <td>0.001218</td>\n",
       "      <td>-0.030494</td>\n",
       "      <td>-0.003983</td>\n",
       "      <td>-0.002123</td>\n",
       "      <td>0.001138</td>\n",
       "      <td>0.002035</td>\n",
       "      <td>-0.002917</td>\n",
       "      <td>-0.022795</td>\n",
       "    </tr>\n",
       "    <tr>\n",
       "      <th>1</th>\n",
       "      <td>0.017520</td>\n",
       "      <td>-0.164801</td>\n",
       "      <td>0.000000</td>\n",
       "      <td>-0.02246</td>\n",
       "      <td>0.045300</td>\n",
       "      <td>-0.107643</td>\n",
       "      <td>-0.112533</td>\n",
       "      <td>0.015799</td>\n",
       "      <td>0.010703</td>\n",
       "      <td>-0.060797</td>\n",
       "      <td>...</td>\n",
       "      <td>0.001484</td>\n",
       "      <td>0.009292</td>\n",
       "      <td>0.001218</td>\n",
       "      <td>-0.400201</td>\n",
       "      <td>-0.003983</td>\n",
       "      <td>-0.002123</td>\n",
       "      <td>0.001138</td>\n",
       "      <td>0.002035</td>\n",
       "      <td>-0.002917</td>\n",
       "      <td>-0.022795</td>\n",
       "    </tr>\n",
       "    <tr>\n",
       "      <th>2</th>\n",
       "      <td>-0.015816</td>\n",
       "      <td>0.751490</td>\n",
       "      <td>0.094113</td>\n",
       "      <td>0.04202</td>\n",
       "      <td>-0.021778</td>\n",
       "      <td>-0.021308</td>\n",
       "      <td>-0.039820</td>\n",
       "      <td>0.015799</td>\n",
       "      <td>0.010703</td>\n",
       "      <td>-0.028216</td>\n",
       "      <td>...</td>\n",
       "      <td>0.001484</td>\n",
       "      <td>0.009292</td>\n",
       "      <td>0.001218</td>\n",
       "      <td>-0.030494</td>\n",
       "      <td>-0.003983</td>\n",
       "      <td>0.043076</td>\n",
       "      <td>0.001138</td>\n",
       "      <td>0.002035</td>\n",
       "      <td>-0.002917</td>\n",
       "      <td>-0.022795</td>\n",
       "    </tr>\n",
       "    <tr>\n",
       "      <th>3</th>\n",
       "      <td>-1.081092</td>\n",
       "      <td>0.199842</td>\n",
       "      <td>0.017520</td>\n",
       "      <td>0.04202</td>\n",
       "      <td>-0.021778</td>\n",
       "      <td>-0.021308</td>\n",
       "      <td>-0.039820</td>\n",
       "      <td>0.015799</td>\n",
       "      <td>0.010703</td>\n",
       "      <td>0.175511</td>\n",
       "      <td>...</td>\n",
       "      <td>0.001484</td>\n",
       "      <td>0.009292</td>\n",
       "      <td>0.052330</td>\n",
       "      <td>0.018434</td>\n",
       "      <td>0.095326</td>\n",
       "      <td>-0.002123</td>\n",
       "      <td>0.001138</td>\n",
       "      <td>0.002035</td>\n",
       "      <td>-0.002917</td>\n",
       "      <td>-0.022795</td>\n",
       "    </tr>\n",
       "    <tr>\n",
       "      <th>4</th>\n",
       "      <td>-0.270162</td>\n",
       "      <td>-0.339154</td>\n",
       "      <td>-0.136630</td>\n",
       "      <td>0.04202</td>\n",
       "      <td>-0.021778</td>\n",
       "      <td>-0.021308</td>\n",
       "      <td>-0.039820</td>\n",
       "      <td>0.015799</td>\n",
       "      <td>0.010703</td>\n",
       "      <td>0.063701</td>\n",
       "      <td>...</td>\n",
       "      <td>0.001484</td>\n",
       "      <td>0.009292</td>\n",
       "      <td>-0.037101</td>\n",
       "      <td>0.066336</td>\n",
       "      <td>-0.003983</td>\n",
       "      <td>-0.002123</td>\n",
       "      <td>0.001138</td>\n",
       "      <td>0.002035</td>\n",
       "      <td>-0.002917</td>\n",
       "      <td>-0.022795</td>\n",
       "    </tr>\n",
       "  </tbody>\n",
       "</table>\n",
       "<p>5 rows × 96 columns</p>\n",
       "</div>"
      ],
      "text/plain": [
       "   rev_Mean  mou_Mean  totmrc_Mean  da_Mean  ovrmou_Mean  ovrrev_Mean  \\\n",
       "0  0.000000  0.556517     0.017520 -0.02246    -0.021778    -0.021308   \n",
       "1  0.017520 -0.164801     0.000000 -0.02246     0.045300    -0.107643   \n",
       "2 -0.015816  0.751490     0.094113  0.04202    -0.021778    -0.021308   \n",
       "3 -1.081092  0.199842     0.017520  0.04202    -0.021778    -0.021308   \n",
       "4 -0.270162 -0.339154    -0.136630  0.04202    -0.021778    -0.021308   \n",
       "\n",
       "   vceovr_Mean  datovr_Mean  roam_Mean  drop_vce_Mean  ...  infobase  \\\n",
       "0    -0.039820     0.015799   0.010703      -0.011647  ...  0.001484   \n",
       "1    -0.112533     0.015799   0.010703      -0.060797  ...  0.001484   \n",
       "2    -0.039820     0.015799   0.010703      -0.028216  ...  0.001484   \n",
       "3    -0.039820     0.015799   0.010703       0.175511  ...  0.001484   \n",
       "4    -0.039820     0.015799   0.010703       0.063701  ...  0.001484   \n",
       "\n",
       "   HHstatin  dwllsize    ethnic    kid0_2    kid3_5   kid6_10  kid11_15  \\\n",
       "0  0.009292  0.001218 -0.030494 -0.003983 -0.002123  0.001138  0.002035   \n",
       "1  0.009292  0.001218 -0.400201 -0.003983 -0.002123  0.001138  0.002035   \n",
       "2  0.009292  0.001218 -0.030494 -0.003983  0.043076  0.001138  0.002035   \n",
       "3  0.009292  0.052330  0.018434  0.095326 -0.002123  0.001138  0.002035   \n",
       "4  0.009292 -0.037101  0.066336 -0.003983 -0.002123  0.001138  0.002035   \n",
       "\n",
       "   kid16_17  creditcd  \n",
       "0 -0.002917 -0.022795  \n",
       "1 -0.002917 -0.022795  \n",
       "2 -0.002917 -0.022795  \n",
       "3 -0.002917 -0.022795  \n",
       "4 -0.002917 -0.022795  \n",
       "\n",
       "[5 rows x 96 columns]"
      ]
     },
     "execution_count": 132,
     "metadata": {},
     "output_type": "execute_result"
    }
   ],
   "source": [
    "#Method 3: Weight of evidence (best method ) for first dataset\n",
    "from mlencoders.weight_of_evidence_encoder import WeightOfEvidenceEncoder\n",
    "\n",
    "enc = WeightOfEvidenceEncoder(cols=customer_updated.columns)\n",
    "customer_updated = enc.fit_transform(customer_updated, train_label)\n",
    "customer_updated.head()"
   ]
  },
  {
   "cell_type": "code",
   "execution_count": 133,
   "id": "36d2be05",
   "metadata": {},
   "outputs": [
    {
     "data": {
      "text/html": [
       "<div>\n",
       "<style scoped>\n",
       "    .dataframe tbody tr th:only-of-type {\n",
       "        vertical-align: middle;\n",
       "    }\n",
       "\n",
       "    .dataframe tbody tr th {\n",
       "        vertical-align: top;\n",
       "    }\n",
       "\n",
       "    .dataframe thead th {\n",
       "        text-align: right;\n",
       "    }\n",
       "</style>\n",
       "<table border=\"1\" class=\"dataframe\">\n",
       "  <thead>\n",
       "    <tr style=\"text-align: right;\">\n",
       "      <th></th>\n",
       "      <th>rev_Mean</th>\n",
       "      <th>mou_Mean</th>\n",
       "      <th>totmrc_Mean</th>\n",
       "      <th>da_Mean</th>\n",
       "      <th>ovrmou_Mean</th>\n",
       "      <th>ovrrev_Mean</th>\n",
       "      <th>vceovr_Mean</th>\n",
       "      <th>datovr_Mean</th>\n",
       "      <th>roam_Mean</th>\n",
       "      <th>drop_vce_Mean</th>\n",
       "      <th>...</th>\n",
       "      <th>infobase</th>\n",
       "      <th>HHstatin</th>\n",
       "      <th>dwllsize</th>\n",
       "      <th>ethnic</th>\n",
       "      <th>kid0_2</th>\n",
       "      <th>kid3_5</th>\n",
       "      <th>kid6_10</th>\n",
       "      <th>kid11_15</th>\n",
       "      <th>kid16_17</th>\n",
       "      <th>creditcd</th>\n",
       "    </tr>\n",
       "  </thead>\n",
       "  <tbody>\n",
       "    <tr>\n",
       "      <th>0</th>\n",
       "      <td>0.00000</td>\n",
       "      <td>0.556517</td>\n",
       "      <td>0.017520</td>\n",
       "      <td>0.00000</td>\n",
       "      <td>0.0000</td>\n",
       "      <td>0.0</td>\n",
       "      <td>0.0</td>\n",
       "      <td>0.015799</td>\n",
       "      <td>0.010703</td>\n",
       "      <td>0.000000</td>\n",
       "      <td>...</td>\n",
       "      <td>0.001484</td>\n",
       "      <td>0.009292</td>\n",
       "      <td>0.001218</td>\n",
       "      <td>0.000000</td>\n",
       "      <td>0.000000</td>\n",
       "      <td>0.000000</td>\n",
       "      <td>0.001138</td>\n",
       "      <td>0.002035</td>\n",
       "      <td>0.0</td>\n",
       "      <td>0.0</td>\n",
       "    </tr>\n",
       "    <tr>\n",
       "      <th>1</th>\n",
       "      <td>0.01752</td>\n",
       "      <td>0.000000</td>\n",
       "      <td>0.000000</td>\n",
       "      <td>0.00000</td>\n",
       "      <td>0.0453</td>\n",
       "      <td>0.0</td>\n",
       "      <td>0.0</td>\n",
       "      <td>0.015799</td>\n",
       "      <td>0.010703</td>\n",
       "      <td>0.000000</td>\n",
       "      <td>...</td>\n",
       "      <td>0.001484</td>\n",
       "      <td>0.009292</td>\n",
       "      <td>0.001218</td>\n",
       "      <td>0.000000</td>\n",
       "      <td>0.000000</td>\n",
       "      <td>0.000000</td>\n",
       "      <td>0.001138</td>\n",
       "      <td>0.002035</td>\n",
       "      <td>0.0</td>\n",
       "      <td>0.0</td>\n",
       "    </tr>\n",
       "    <tr>\n",
       "      <th>2</th>\n",
       "      <td>0.00000</td>\n",
       "      <td>0.751490</td>\n",
       "      <td>0.094113</td>\n",
       "      <td>0.04202</td>\n",
       "      <td>0.0000</td>\n",
       "      <td>0.0</td>\n",
       "      <td>0.0</td>\n",
       "      <td>0.015799</td>\n",
       "      <td>0.010703</td>\n",
       "      <td>0.000000</td>\n",
       "      <td>...</td>\n",
       "      <td>0.001484</td>\n",
       "      <td>0.009292</td>\n",
       "      <td>0.001218</td>\n",
       "      <td>0.000000</td>\n",
       "      <td>0.000000</td>\n",
       "      <td>0.043076</td>\n",
       "      <td>0.001138</td>\n",
       "      <td>0.002035</td>\n",
       "      <td>0.0</td>\n",
       "      <td>0.0</td>\n",
       "    </tr>\n",
       "    <tr>\n",
       "      <th>3</th>\n",
       "      <td>0.00000</td>\n",
       "      <td>0.199842</td>\n",
       "      <td>0.017520</td>\n",
       "      <td>0.04202</td>\n",
       "      <td>0.0000</td>\n",
       "      <td>0.0</td>\n",
       "      <td>0.0</td>\n",
       "      <td>0.015799</td>\n",
       "      <td>0.010703</td>\n",
       "      <td>0.175511</td>\n",
       "      <td>...</td>\n",
       "      <td>0.001484</td>\n",
       "      <td>0.009292</td>\n",
       "      <td>0.052330</td>\n",
       "      <td>0.018434</td>\n",
       "      <td>0.095326</td>\n",
       "      <td>0.000000</td>\n",
       "      <td>0.001138</td>\n",
       "      <td>0.002035</td>\n",
       "      <td>0.0</td>\n",
       "      <td>0.0</td>\n",
       "    </tr>\n",
       "    <tr>\n",
       "      <th>4</th>\n",
       "      <td>0.00000</td>\n",
       "      <td>0.000000</td>\n",
       "      <td>0.000000</td>\n",
       "      <td>0.04202</td>\n",
       "      <td>0.0000</td>\n",
       "      <td>0.0</td>\n",
       "      <td>0.0</td>\n",
       "      <td>0.015799</td>\n",
       "      <td>0.010703</td>\n",
       "      <td>0.063701</td>\n",
       "      <td>...</td>\n",
       "      <td>0.001484</td>\n",
       "      <td>0.009292</td>\n",
       "      <td>0.000000</td>\n",
       "      <td>0.066336</td>\n",
       "      <td>0.000000</td>\n",
       "      <td>0.000000</td>\n",
       "      <td>0.001138</td>\n",
       "      <td>0.002035</td>\n",
       "      <td>0.0</td>\n",
       "      <td>0.0</td>\n",
       "    </tr>\n",
       "  </tbody>\n",
       "</table>\n",
       "<p>5 rows × 96 columns</p>\n",
       "</div>"
      ],
      "text/plain": [
       "   rev_Mean  mou_Mean  totmrc_Mean  da_Mean  ovrmou_Mean  ovrrev_Mean  \\\n",
       "0   0.00000  0.556517     0.017520  0.00000       0.0000          0.0   \n",
       "1   0.01752  0.000000     0.000000  0.00000       0.0453          0.0   \n",
       "2   0.00000  0.751490     0.094113  0.04202       0.0000          0.0   \n",
       "3   0.00000  0.199842     0.017520  0.04202       0.0000          0.0   \n",
       "4   0.00000  0.000000     0.000000  0.04202       0.0000          0.0   \n",
       "\n",
       "   vceovr_Mean  datovr_Mean  roam_Mean  drop_vce_Mean  ...  infobase  \\\n",
       "0          0.0     0.015799   0.010703       0.000000  ...  0.001484   \n",
       "1          0.0     0.015799   0.010703       0.000000  ...  0.001484   \n",
       "2          0.0     0.015799   0.010703       0.000000  ...  0.001484   \n",
       "3          0.0     0.015799   0.010703       0.175511  ...  0.001484   \n",
       "4          0.0     0.015799   0.010703       0.063701  ...  0.001484   \n",
       "\n",
       "   HHstatin  dwllsize    ethnic    kid0_2    kid3_5   kid6_10  kid11_15  \\\n",
       "0  0.009292  0.001218  0.000000  0.000000  0.000000  0.001138  0.002035   \n",
       "1  0.009292  0.001218  0.000000  0.000000  0.000000  0.001138  0.002035   \n",
       "2  0.009292  0.001218  0.000000  0.000000  0.043076  0.001138  0.002035   \n",
       "3  0.009292  0.052330  0.018434  0.095326  0.000000  0.001138  0.002035   \n",
       "4  0.009292  0.000000  0.066336  0.000000  0.000000  0.001138  0.002035   \n",
       "\n",
       "   kid16_17  creditcd  \n",
       "0       0.0       0.0  \n",
       "1       0.0       0.0  \n",
       "2       0.0       0.0  \n",
       "3       0.0       0.0  \n",
       "4       0.0       0.0  \n",
       "\n",
       "[5 rows x 96 columns]"
      ]
     },
     "execution_count": 133,
     "metadata": {},
     "output_type": "execute_result"
    }
   ],
   "source": [
    "customer_updated[customer_updated < 0]=0\n",
    "customer_updated.head()"
   ]
  },
  {
   "cell_type": "code",
   "execution_count": 134,
   "id": "8e5ab8b4",
   "metadata": {},
   "outputs": [
    {
     "data": {
      "text/plain": [
       "0    50438\n",
       "1    49562\n",
       "Name: churn, dtype: int64"
      ]
     },
     "execution_count": 134,
     "metadata": {},
     "output_type": "execute_result"
    }
   ],
   "source": [
    "train_label.value_counts()"
   ]
  },
  {
   "cell_type": "code",
   "execution_count": 135,
   "id": "addb25f1",
   "metadata": {},
   "outputs": [],
   "source": [
    "#applying SVM smote \n",
    "oversampler=SMOTE()\n",
    "customer_updated,train_label=oversampler.fit_resample(customer_updated,train_label)"
   ]
  },
  {
   "cell_type": "code",
   "execution_count": 136,
   "id": "e220f20f",
   "metadata": {},
   "outputs": [
    {
     "data": {
      "text/plain": [
       "1    50438\n",
       "0    50438\n",
       "Name: churn, dtype: int64"
      ]
     },
     "execution_count": 136,
     "metadata": {},
     "output_type": "execute_result"
    }
   ],
   "source": [
    "train_label.value_counts()"
   ]
  },
  {
   "cell_type": "code",
   "execution_count": 137,
   "id": "76c17c24",
   "metadata": {},
   "outputs": [
    {
     "data": {
      "text/plain": [
       "(100876, 57)"
      ]
     },
     "execution_count": 137,
     "metadata": {},
     "output_type": "execute_result"
    }
   ],
   "source": [
    "#feature Selection\n",
    "from sklearn.feature_selection import SelectPercentile, chi2\n",
    "customer_updated = SelectPercentile(chi2, percentile=60).fit_transform(customer_updated, train_label)\n",
    "customer_updated.shape"
   ]
  },
  {
   "cell_type": "code",
   "execution_count": 138,
   "id": "eafe42b5",
   "metadata": {},
   "outputs": [],
   "source": [
    "from sklearn.model_selection import train_test_split\n",
    "X_train, X_test, y_train, y_test = train_test_split(customer_updated, train_label, test_size=0.3, random_state=42)"
   ]
  },
  {
   "cell_type": "code",
   "execution_count": 139,
   "id": "d57a0faf",
   "metadata": {},
   "outputs": [],
   "source": [
    "from sklearn.tree import DecisionTreeClassifier\n",
    "from sklearn.metrics import roc_auc_score\n",
    "from sklearn.model_selection import KFold\n",
    "from sklearn.model_selection import cross_val_score"
   ]
  },
  {
   "cell_type": "code",
   "execution_count": 140,
   "id": "29b39462",
   "metadata": {},
   "outputs": [
    {
     "name": "stdout",
     "output_type": "stream",
     "text": [
      "0.8118334880116391\n"
     ]
    }
   ],
   "source": [
    "xg=xgboost.XGBClassifier()\n",
    "xg.fit(X_train,y_train)\n",
    "k_folds = KFold(n_splits = 10)\n",
    "print(cross_val_score(xg, X_train, y_train, cv=k_folds).mean())"
   ]
  },
  {
   "cell_type": "code",
   "execution_count": 141,
   "id": "2869d6cd",
   "metadata": {},
   "outputs": [
    {
     "data": {
      "text/plain": [
       "0.8137283310890652"
      ]
     },
     "execution_count": 141,
     "metadata": {},
     "output_type": "execute_result"
    }
   ],
   "source": [
    "pred_xg=xg.predict(X_test)\n",
    "fpr_x1, tpr_x1, thresholds_x1 = metrics.roc_curve(y_test, pred_xg)\n",
    "xg_m=metrics.auc(fpr_x1, tpr_x1)\n",
    "xg_m"
   ]
  },
  {
   "cell_type": "code",
   "execution_count": 142,
   "id": "e3054f21",
   "metadata": {},
   "outputs": [
    {
     "name": "stdout",
     "output_type": "stream",
     "text": [
      "0.6820414195333291\n"
     ]
    }
   ],
   "source": [
    "dt=DecisionTreeClassifier()\n",
    "dt.fit(X_train,y_train)\n",
    "k_folds = KFold(n_splits = 10)\n",
    "print(cross_val_score(dt, X_train, y_train, cv=k_folds).mean())"
   ]
  },
  {
   "cell_type": "code",
   "execution_count": 143,
   "id": "eef80f2b",
   "metadata": {},
   "outputs": [
    {
     "data": {
      "text/plain": [
       "0.6844271205783846"
      ]
     },
     "execution_count": 143,
     "metadata": {},
     "output_type": "execute_result"
    }
   ],
   "source": [
    "pred=dt.predict(X_test)\n",
    "fpr_d1, tpr_d1, thresholds_d1 = metrics.roc_curve(y_test, pred)\n",
    "dt_m=metrics.auc(fpr_d1, tpr_d1)\n",
    "dt_m"
   ]
  },
  {
   "cell_type": "code",
   "execution_count": 144,
   "id": "2ff30ff9",
   "metadata": {},
   "outputs": [
    {
     "name": "stdout",
     "output_type": "stream",
     "text": [
      "0.7988331263535856\n"
     ]
    }
   ],
   "source": [
    "#random Forest\n",
    "rf=RandomForestClassifier()\n",
    "rf.fit(X_train,y_train)\n",
    "k_folds = KFold(n_splits = 10)\n",
    "print(cross_val_score(rf, X_train, y_train, cv=k_folds).mean())"
   ]
  },
  {
   "cell_type": "code",
   "execution_count": 145,
   "id": "31207286",
   "metadata": {},
   "outputs": [
    {
     "data": {
      "text/plain": [
       "0.8002121249254094"
      ]
     },
     "execution_count": 145,
     "metadata": {},
     "output_type": "execute_result"
    }
   ],
   "source": [
    "pred_rf=rf.predict(X_test)\n",
    "fpr_r1, tpr_r1, thresholds_r1 = metrics.roc_curve(y_test, pred_rf)\n",
    "rf_m=metrics.auc(fpr_r1, tpr_r1)\n",
    "rf_m"
   ]
  },
  {
   "cell_type": "code",
   "execution_count": 146,
   "id": "84783ee8",
   "metadata": {},
   "outputs": [
    {
     "name": "stdout",
     "output_type": "stream",
     "text": [
      "0.8144675494620633\n"
     ]
    }
   ],
   "source": [
    "#lightbgm\n",
    "gbm=lightgbm.LGBMClassifier()\n",
    "gbm.fit(X_train,y_train)\n",
    "k_folds = KFold(n_splits = 10)\n",
    "print(cross_val_score(gbm, X_train, y_train, cv=k_folds).mean())"
   ]
  },
  {
   "cell_type": "code",
   "execution_count": 147,
   "id": "85dd8479",
   "metadata": {},
   "outputs": [
    {
     "data": {
      "text/plain": [
       "0.8125740555222799"
      ]
     },
     "execution_count": 147,
     "metadata": {},
     "output_type": "execute_result"
    }
   ],
   "source": [
    "pred_gbm=gbm.predict(X_test)\n",
    "fpr_l1, tpr_l1, thresholds_l1 = metrics.roc_curve(y_test, pred_gbm)\n",
    "gbm_m=metrics.auc(fpr_l1, tpr_l1)\n",
    "gbm_m"
   ]
  },
  {
   "cell_type": "code",
   "execution_count": 148,
   "id": "8fe9e775",
   "metadata": {},
   "outputs": [
    {
     "data": {
      "text/plain": [
       "StackingClassifier(estimators=[('xg',\n",
       "                                XGBClassifier(base_score=None, booster=None,\n",
       "                                              callbacks=None,\n",
       "                                              colsample_bylevel=None,\n",
       "                                              colsample_bynode=None,\n",
       "                                              colsample_bytree=None,\n",
       "                                              early_stopping_rounds=None,\n",
       "                                              enable_categorical=False,\n",
       "                                              eval_metric=None,\n",
       "                                              feature_types=None, gamma=None,\n",
       "                                              gpu_id=None, grow_policy=None,\n",
       "                                              importance_type=None,\n",
       "                                              interaction_constraints=None,\n",
       "                                              learning_r...\n",
       "                                              max_cat_to_onehot=None,\n",
       "                                              max_delta_step=None,\n",
       "                                              max_depth=None, max_leaves=None,\n",
       "                                              min_child_weight=None,\n",
       "                                              missing=nan,\n",
       "                                              monotone_constraints=None,\n",
       "                                              n_estimators=100, n_jobs=None,\n",
       "                                              num_parallel_tree=None,\n",
       "                                              predictor=None, random_state=None, ...)),\n",
       "                               ('dt', DecisionTreeClassifier()),\n",
       "                               ('rf', RandomForestClassifier()),\n",
       "                               ('gbm', LGBMClassifier())],\n",
       "                   final_estimator=LogisticRegression())"
      ]
     },
     "execution_count": 148,
     "metadata": {},
     "output_type": "execute_result"
    }
   ],
   "source": [
    "#Implementing the stacking Ensemble for the first dataset.\n",
    "from sklearn.ensemble import StackingClassifier\n",
    "estimators = [('xg',xgboost.XGBClassifier()),('dt',DecisionTreeClassifier()),('rf',RandomForestClassifier()),('gbm',lightgbm.LGBMClassifier())]\n",
    "sc=StackingClassifier(estimators=estimators, final_estimator=LogisticRegression())\n",
    "sc.fit(X_train, y_train)"
   ]
  },
  {
   "cell_type": "code",
   "execution_count": 149,
   "id": "2367217a",
   "metadata": {},
   "outputs": [
    {
     "data": {
      "text/plain": [
       "0.5"
      ]
     },
     "execution_count": 149,
     "metadata": {},
     "output_type": "execute_result"
    }
   ],
   "source": [
    "pred_sc=sc.predict(X_test)\n",
    "fpr_s1, tpr_s1, thresholds_s1 = metrics.roc_curve(y_test, pred_sc)\n",
    "sc_m=metrics.auc(fpr_s1, fpr_s1)\n",
    "sc_m"
   ]
  },
  {
   "cell_type": "code",
   "execution_count": 150,
   "id": "60a43f29",
   "metadata": {},
   "outputs": [
    {
     "name": "stdout",
     "output_type": "stream",
     "text": [
      "              precision    recall  f1-score   support\n",
      "\n",
      "           0       0.81      0.82      0.81     15056\n",
      "           1       0.82      0.82      0.82     15207\n",
      "\n",
      "    accuracy                           0.82     30263\n",
      "   macro avg       0.82      0.82      0.82     30263\n",
      "weighted avg       0.82      0.82      0.82     30263\n",
      "\n"
     ]
    }
   ],
   "source": [
    "r=classification_report(y_test, pred_sc)\n",
    "print(r)"
   ]
  },
  {
   "cell_type": "code",
   "execution_count": 151,
   "id": "5ef51d62",
   "metadata": {},
   "outputs": [
    {
     "data": {
      "text/plain": [
       "[(('xg',\n",
       "   XGBClassifier(base_score=None, booster=None, callbacks=None,\n",
       "                 colsample_bylevel=None, colsample_bynode=None,\n",
       "                 colsample_bytree=None, early_stopping_rounds=None,\n",
       "                 enable_categorical=False, eval_metric=None, feature_types=None,\n",
       "                 gamma=None, gpu_id=None, grow_policy=None, importance_type=None,\n",
       "                 interaction_constraints=None, learning_rate=None, max_bin=None,\n",
       "                 max_cat_threshold=None, max_cat_to_onehot=None,\n",
       "                 max_delta_step=None, max_depth=None, max_leaves=None,\n",
       "                 min_child_weight=None, missing=nan, monotone_constraints=None,\n",
       "                 n_estimators=100, n_jobs=None, num_parallel_tree=None,\n",
       "                 predictor=None, random_state=None, ...)),\n",
       "  ('dt', DecisionTreeClassifier())),\n",
       " (('xg',\n",
       "   XGBClassifier(base_score=None, booster=None, callbacks=None,\n",
       "                 colsample_bylevel=None, colsample_bynode=None,\n",
       "                 colsample_bytree=None, early_stopping_rounds=None,\n",
       "                 enable_categorical=False, eval_metric=None, feature_types=None,\n",
       "                 gamma=None, gpu_id=None, grow_policy=None, importance_type=None,\n",
       "                 interaction_constraints=None, learning_rate=None, max_bin=None,\n",
       "                 max_cat_threshold=None, max_cat_to_onehot=None,\n",
       "                 max_delta_step=None, max_depth=None, max_leaves=None,\n",
       "                 min_child_weight=None, missing=nan, monotone_constraints=None,\n",
       "                 n_estimators=100, n_jobs=None, num_parallel_tree=None,\n",
       "                 predictor=None, random_state=None, ...)),\n",
       "  ('rf', RandomForestClassifier())),\n",
       " (('xg',\n",
       "   XGBClassifier(base_score=None, booster=None, callbacks=None,\n",
       "                 colsample_bylevel=None, colsample_bynode=None,\n",
       "                 colsample_bytree=None, early_stopping_rounds=None,\n",
       "                 enable_categorical=False, eval_metric=None, feature_types=None,\n",
       "                 gamma=None, gpu_id=None, grow_policy=None, importance_type=None,\n",
       "                 interaction_constraints=None, learning_rate=None, max_bin=None,\n",
       "                 max_cat_threshold=None, max_cat_to_onehot=None,\n",
       "                 max_delta_step=None, max_depth=None, max_leaves=None,\n",
       "                 min_child_weight=None, missing=nan, monotone_constraints=None,\n",
       "                 n_estimators=100, n_jobs=None, num_parallel_tree=None,\n",
       "                 predictor=None, random_state=None, ...)),\n",
       "  ('gbm', LGBMClassifier())),\n",
       " (('dt', DecisionTreeClassifier()), ('rf', RandomForestClassifier())),\n",
       " (('dt', DecisionTreeClassifier()), ('gbm', LGBMClassifier())),\n",
       " (('rf', RandomForestClassifier()), ('gbm', LGBMClassifier()))]"
      ]
     },
     "execution_count": 151,
     "metadata": {},
     "output_type": "execute_result"
    }
   ],
   "source": [
    "#Implementing different combinations of stacking base models.\n",
    "from itertools import combinations\n",
    "r=2\n",
    "com=list(combinations(estimators, r))\n",
    "com"
   ]
  },
  {
   "cell_type": "code",
   "execution_count": 152,
   "id": "25878909",
   "metadata": {},
   "outputs": [],
   "source": [
    "m=[]\n",
    "for c in com:\n",
    "    sc=StackingClassifier(estimators=c, final_estimator=LogisticRegression())\n",
    "    sc.fit(X_train, y_train)\n",
    "    pred_sc=sc.predict(X_test)\n",
    "    fpr, tpr, thresholds = metrics.roc_curve(y_test, pred_sc)\n",
    "    sc_m=metrics.auc(fpr, tpr)\n",
    "    m.append(sc_m)"
   ]
  },
  {
   "cell_type": "code",
   "execution_count": 153,
   "id": "bdd4e670",
   "metadata": {},
   "outputs": [
    {
     "data": {
      "text/plain": [
       "[('xg', 'dt'),\n",
       " ('xg', 'rf'),\n",
       " ('xg', 'gbm'),\n",
       " ('dt', 'rf'),\n",
       " ('dt', 'gbm'),\n",
       " ('rf', 'gbm')]"
      ]
     },
     "execution_count": 153,
     "metadata": {},
     "output_type": "execute_result"
    }
   ],
   "source": [
    "com2=('xg','dt','rf','gbm')\n",
    "com2=list(combinations(com2, r))\n",
    "com2"
   ]
  },
  {
   "cell_type": "code",
   "execution_count": 154,
   "id": "6517ab7b",
   "metadata": {},
   "outputs": [
    {
     "data": {
      "text/plain": [
       "[0.8146111337995458,\n",
       " 0.8147678512789883,\n",
       " 0.8157937138582146,\n",
       " 0.7997989112276792,\n",
       " 0.8118118892161008,\n",
       " 0.812765067712049]"
      ]
     },
     "execution_count": 154,
     "metadata": {},
     "output_type": "execute_result"
    }
   ],
   "source": [
    "m"
   ]
  },
  {
   "cell_type": "code",
   "execution_count": 155,
   "id": "b93a8fce",
   "metadata": {},
   "outputs": [],
   "source": [
    "res = \"\\n\".join(\"{} {}\".format(x, y) for x, y in zip(com2, m))"
   ]
  },
  {
   "cell_type": "code",
   "execution_count": 156,
   "id": "2e546c1d",
   "metadata": {},
   "outputs": [
    {
     "name": "stdout",
     "output_type": "stream",
     "text": [
      "('xg', 'dt') 0.8146111337995458\n",
      "('xg', 'rf') 0.8147678512789883\n",
      "('xg', 'gbm') 0.8157937138582146\n",
      "('dt', 'rf') 0.7997989112276792\n",
      "('dt', 'gbm') 0.8118118892161008\n",
      "('rf', 'gbm') 0.812765067712049\n"
     ]
    }
   ],
   "source": [
    "print(res)"
   ]
  },
  {
   "cell_type": "code",
   "execution_count": 157,
   "id": "a386f7b3",
   "metadata": {},
   "outputs": [
    {
     "data": {
      "text/plain": [
       "[(('xg',\n",
       "   XGBClassifier(base_score=None, booster=None, callbacks=None,\n",
       "                 colsample_bylevel=None, colsample_bynode=None,\n",
       "                 colsample_bytree=None, early_stopping_rounds=None,\n",
       "                 enable_categorical=False, eval_metric=None, feature_types=None,\n",
       "                 gamma=None, gpu_id=None, grow_policy=None, importance_type=None,\n",
       "                 interaction_constraints=None, learning_rate=None, max_bin=None,\n",
       "                 max_cat_threshold=None, max_cat_to_onehot=None,\n",
       "                 max_delta_step=None, max_depth=None, max_leaves=None,\n",
       "                 min_child_weight=None, missing=nan, monotone_constraints=None,\n",
       "                 n_estimators=100, n_jobs=None, num_parallel_tree=None,\n",
       "                 predictor=None, random_state=None, ...)),\n",
       "  ('dt', DecisionTreeClassifier()),\n",
       "  ('rf', RandomForestClassifier())),\n",
       " (('xg',\n",
       "   XGBClassifier(base_score=None, booster=None, callbacks=None,\n",
       "                 colsample_bylevel=None, colsample_bynode=None,\n",
       "                 colsample_bytree=None, early_stopping_rounds=None,\n",
       "                 enable_categorical=False, eval_metric=None, feature_types=None,\n",
       "                 gamma=None, gpu_id=None, grow_policy=None, importance_type=None,\n",
       "                 interaction_constraints=None, learning_rate=None, max_bin=None,\n",
       "                 max_cat_threshold=None, max_cat_to_onehot=None,\n",
       "                 max_delta_step=None, max_depth=None, max_leaves=None,\n",
       "                 min_child_weight=None, missing=nan, monotone_constraints=None,\n",
       "                 n_estimators=100, n_jobs=None, num_parallel_tree=None,\n",
       "                 predictor=None, random_state=None, ...)),\n",
       "  ('dt', DecisionTreeClassifier()),\n",
       "  ('gbm', LGBMClassifier())),\n",
       " (('xg',\n",
       "   XGBClassifier(base_score=None, booster=None, callbacks=None,\n",
       "                 colsample_bylevel=None, colsample_bynode=None,\n",
       "                 colsample_bytree=None, early_stopping_rounds=None,\n",
       "                 enable_categorical=False, eval_metric=None, feature_types=None,\n",
       "                 gamma=None, gpu_id=None, grow_policy=None, importance_type=None,\n",
       "                 interaction_constraints=None, learning_rate=None, max_bin=None,\n",
       "                 max_cat_threshold=None, max_cat_to_onehot=None,\n",
       "                 max_delta_step=None, max_depth=None, max_leaves=None,\n",
       "                 min_child_weight=None, missing=nan, monotone_constraints=None,\n",
       "                 n_estimators=100, n_jobs=None, num_parallel_tree=None,\n",
       "                 predictor=None, random_state=None, ...)),\n",
       "  ('rf', RandomForestClassifier()),\n",
       "  ('gbm', LGBMClassifier())),\n",
       " (('dt', DecisionTreeClassifier()),\n",
       "  ('rf', RandomForestClassifier()),\n",
       "  ('gbm', LGBMClassifier()))]"
      ]
     },
     "execution_count": 157,
     "metadata": {},
     "output_type": "execute_result"
    }
   ],
   "source": [
    "r=3\n",
    "com=list(combinations(estimators, r))\n",
    "com"
   ]
  },
  {
   "cell_type": "code",
   "execution_count": 158,
   "id": "bf5a90bf",
   "metadata": {},
   "outputs": [],
   "source": [
    "q=[]\n",
    "for c in com:\n",
    "    sc=StackingClassifier(estimators=c, final_estimator=LogisticRegression())\n",
    "    sc.fit(X_train, y_train)\n",
    "    pred_sc=sc.predict(X_test)\n",
    "    fpr, tpr, thresholds = metrics.roc_curve(y_test, pred_sc)\n",
    "    sc_m=metrics.auc(fpr, tpr)\n",
    "    q.append(sc_m)"
   ]
  },
  {
   "cell_type": "code",
   "execution_count": 159,
   "id": "f857b325",
   "metadata": {},
   "outputs": [
    {
     "data": {
      "text/plain": [
       "[0.8149000291723419, 0.8156930965324641, 0.8155516854478687, 0.813685696369904]"
      ]
     },
     "execution_count": 159,
     "metadata": {},
     "output_type": "execute_result"
    }
   ],
   "source": [
    "q"
   ]
  },
  {
   "cell_type": "code",
   "execution_count": 160,
   "id": "f1530f97",
   "metadata": {},
   "outputs": [
    {
     "name": "stdout",
     "output_type": "stream",
     "text": [
      "('xg', 'dt', 'rf') 0.8149000291723419\n",
      "('xg', 'dt', 'gbm') 0.8156930965324641\n",
      "('xg', 'rf', 'gbm') 0.8155516854478687\n",
      "('dt', 'rf', 'gbm') 0.813685696369904\n"
     ]
    }
   ],
   "source": [
    "com2=('xg','dt','rf','gbm')\n",
    "com2=list(combinations(com2, r))\n",
    "res = \"\\n\".join(\"{} {}\".format(x, y) for x, y in zip(com2, q))\n",
    "print(res)"
   ]
  },
  {
   "cell_type": "code",
   "execution_count": 161,
   "id": "85ef955f",
   "metadata": {},
   "outputs": [],
   "source": [
    "import matplotlib.pyplot as plt\n",
    "from sklearn.metrics import roc_curve"
   ]
  },
  {
   "cell_type": "code",
   "execution_count": 162,
   "id": "8cb587c9",
   "metadata": {},
   "outputs": [
    {
     "data": {
      "image/png": "[encoded data removed]",
      "text/plain": [
       "<Figure size 432x288 with 1 Axes>"
      ]
     },
     "metadata": {
      "needs_background": "light"
     },
     "output_type": "display_data"
    }
   ],
   "source": [
    "#Plotting the Roc Curve.\n",
    "roc_auc_d1 = metrics.auc(fpr_d1, tpr_d1)\n",
    "roc_auc_r1 = metrics.auc(fpr_r1, tpr_r1)\n",
    "roc_auc_x1 = metrics.auc(fpr_x1, tpr_x1)\n",
    "roc_auc_l1 = metrics.auc(fpr_l1, tpr_l1)\n",
    "roc_auc_s1 = metrics.auc(fpr_s1, tpr_s1)\n",
    "\n",
    "plt.plot(fpr_d1, tpr_d1, \"r:\", linewidth=2, label=\"Decision Tree (AUC = %.2f)\" % roc_auc_d1)\n",
    "plt.plot(fpr_r1, tpr_r1, \"g--\", linewidth=2, label=\"Random Forest (AUC = %.2f)\" % roc_auc_r1)\n",
    "plt.plot(fpr_x1, tpr_x1, \"b-\", linewidth=2, label=\"XGBoost (AUC = %.2f)\" % roc_auc_x1)\n",
    "plt.plot(fpr_l1, tpr_l1, \"m-.\", linewidth=2, label=\"LightBGM (AUC = %.2f)\" % roc_auc_l1)\n",
    "plt.plot(fpr_s1, tpr_s1, \"k-\", linewidth=2, label=\"Stack Ensemble (AUC = %.2f)\" % roc_auc_s1)\n",
    "\n",
    "\n",
    "plt.legend(loc=\"lower right\")\n",
    "plt.xlabel(\"False Positive Rate\")\n",
    "plt.ylabel(\"True Positive Rate \")\n",
    "plt.title(\"ROC Curve Comparison of Multiple Models\")\n",
    "plt.show()"
   ]
  },
  {
   "cell_type": "code",
   "execution_count": 203,
   "id": "93c5bcfb",
   "metadata": {},
   "outputs": [
    {
     "data": {
      "text/plain": [
       "StackingClassifier(estimators=[('xg',\n",
       "                                XGBClassifier(base_score=None, booster=None,\n",
       "                                              callbacks=None,\n",
       "                                              colsample_bylevel=None,\n",
       "                                              colsample_bynode=None,\n",
       "                                              colsample_bytree=None,\n",
       "                                              early_stopping_rounds=None,\n",
       "                                              enable_categorical=False,\n",
       "                                              eval_metric=None,\n",
       "                                              feature_types=None, gamma=None,\n",
       "                                              gpu_id=None, grow_policy=None,\n",
       "                                              importance_type=None,\n",
       "                                              interaction_constraints=None,\n",
       "                                              learning_r...n=None,\n",
       "                                              max_cat_threshold=None,\n",
       "                                              max_cat_to_onehot=None,\n",
       "                                              max_delta_step=None,\n",
       "                                              max_depth=None, max_leaves=None,\n",
       "                                              min_child_weight=None,\n",
       "                                              missing=nan,\n",
       "                                              monotone_constraints=None,\n",
       "                                              n_estimators=100, n_jobs=None,\n",
       "                                              num_parallel_tree=None,\n",
       "                                              predictor=None, random_state=None, ...)),\n",
       "                               ('dt', DecisionTreeClassifier()),\n",
       "                               ('gbm', LGBMClassifier())],\n",
       "                   final_estimator=LogisticRegression())"
      ]
     },
     "execution_count": 203,
     "metadata": {},
     "output_type": "execute_result"
    }
   ],
   "source": [
    "#Stacking for the best combinations.\n",
    "estimators = [('xg',xgboost.XGBClassifier()),('dt',DecisionTreeClassifier()),('gbm',lightgbm.LGBMClassifier())]\n",
    "sc_c1=StackingClassifier(estimators=estimators, final_estimator=LogisticRegression())\n",
    "sc_c1.fit(X_train, y_train)"
   ]
  },
  {
   "cell_type": "code",
   "execution_count": 204,
   "id": "72afe6b7",
   "metadata": {},
   "outputs": [
    {
     "data": {
      "text/plain": [
       "0.5"
      ]
     },
     "execution_count": 204,
     "metadata": {},
     "output_type": "execute_result"
    }
   ],
   "source": [
    "pred_sc_c1=sc_c1.predict(X_test)\n",
    "fpr_sc1, tpr_sc1, thresholds_sc1 = metrics.roc_curve(y_test, pred_sc_c1)\n",
    "sc_mc1=metrics.auc(fpr_sc1, fpr_sc1)\n",
    "sc_mc1"
   ]
  },
  {
   "cell_type": "code",
   "execution_count": 212,
   "id": "4c86e9e8",
   "metadata": {},
   "outputs": [
    {
     "name": "stdout",
     "output_type": "stream",
     "text": [
      "              precision    recall  f1-score   support\n",
      "\n",
      "           0       0.81      0.82      0.82     15056\n",
      "           1       0.82      0.81      0.82     15207\n",
      "\n",
      "    accuracy                           0.82     30263\n",
      "   macro avg       0.82      0.82      0.82     30263\n",
      "weighted avg       0.82      0.82      0.82     30263\n",
      "\n"
     ]
    }
   ],
   "source": [
    "r_c1=classification_report(y_test, pred_sc_c1)\n",
    "print(r_c1)"
   ]
  },
  {
   "cell_type": "code",
   "execution_count": 207,
   "id": "73e914cf",
   "metadata": {},
   "outputs": [
    {
     "data": {
      "image/png": "[encoded data removed]",
      "text/plain": [
       "<Figure size 432x288 with 1 Axes>"
      ]
     },
     "metadata": {
      "needs_background": "light"
     },
     "output_type": "display_data"
    }
   ],
   "source": [
    "#Plotting the Roc Curve.\n",
    "roc_auc_c1 = metrics.auc(fpr_sc1, tpr_sc1)\n",
    "plt.plot(fpr_sc1, tpr_sc1, \"k-\", linewidth=2, label=\"Stack Ensemble Best Combination 1 (AUC = %.2f)\" % roc_auc_c1)\n",
    "\n",
    "plt.legend(loc=\"lower right\")\n",
    "plt.xlabel(\"False Positive Rate\")\n",
    "plt.ylabel(\"True Positive Rate \")\n",
    "plt.title(\"ROC Curve Comparison of Multiple Models\")\n",
    "plt.show()"
   ]
  },
  {
   "cell_type": "code",
   "execution_count": null,
   "id": "9bc273b7",
   "metadata": {},
   "outputs": [],
   "source": []
  },
  {
   "cell_type": "code",
   "execution_count": null,
   "id": "bb0be07b",
   "metadata": {},
   "outputs": [],
   "source": []
  },
  {
   "cell_type": "code",
   "execution_count": null,
   "id": "3514f248",
   "metadata": {},
   "outputs": [],
   "source": []
  },
  {
   "cell_type": "code",
   "execution_count": null,
   "id": "e930fbde",
   "metadata": {},
   "outputs": [],
   "source": []
  },
  {
   "cell_type": "code",
   "execution_count": null,
   "id": "b0eb6e9e",
   "metadata": {},
   "outputs": [],
   "source": []
  },
  {
   "cell_type": "code",
   "execution_count": 163,
   "id": "5f1cf3ea",
   "metadata": {},
   "outputs": [],
   "source": [
    "#Second datset for validating the approach of WOE and stacking.\n",
    "customer2= pd.read_csv('second.csv') "
   ]
  },
  {
   "cell_type": "code",
   "execution_count": 164,
   "id": "a2a062e9",
   "metadata": {},
   "outputs": [
    {
     "name": "stderr",
     "output_type": "stream",
     "text": [
      "/var/folders/j5/9fvnh0857k3_lqjpjrk029hw0000gn/T/ipykernel_749/1598678812.py:1: FutureWarning: Dropping of nuisance columns in DataFrame reductions (with 'numeric_only=None') is deprecated; in a future version this will raise TypeError.  Select only valid columns before calling the reduction.\n",
      "  customer2.fillna(customer2.mean(), inplace=True)\n"
     ]
    }
   ],
   "source": [
    "customer2.fillna(customer2.mean(), inplace=True)\n",
    "for column in customer2.columns:\n",
    "    if customer2[column].dtype == 'object':\n",
    "        customer2[column].fillna(customer2[column].mode()[0], inplace=True)"
   ]
  },
  {
   "cell_type": "code",
   "execution_count": 165,
   "id": "01ad8b62",
   "metadata": {},
   "outputs": [],
   "source": [
    "del customer2['ServiceArea']"
   ]
  },
  {
   "cell_type": "code",
   "execution_count": 166,
   "id": "f7625bf5",
   "metadata": {},
   "outputs": [],
   "source": [
    "train_label2=customer2['Churn']"
   ]
  },
  {
   "cell_type": "code",
   "execution_count": 167,
   "id": "c79fc5a5",
   "metadata": {},
   "outputs": [],
   "source": [
    "del customer2['Churn']"
   ]
  },
  {
   "cell_type": "code",
   "execution_count": 168,
   "id": "54dea984",
   "metadata": {},
   "outputs": [],
   "source": [
    "train_label2=train_label2.replace('No',0)"
   ]
  },
  {
   "cell_type": "code",
   "execution_count": 169,
   "id": "6a123137",
   "metadata": {},
   "outputs": [],
   "source": [
    "train_label2=train_label2.replace('Yes',1)"
   ]
  },
  {
   "cell_type": "code",
   "execution_count": 170,
   "id": "d0999942",
   "metadata": {},
   "outputs": [],
   "source": [
    "cat_customer2= customer2.select_dtypes(include=['object']).columns"
   ]
  },
  {
   "cell_type": "code",
   "execution_count": 171,
   "id": "b8b918ae",
   "metadata": {},
   "outputs": [],
   "source": [
    "customer_cat2=customer2[cat_customer2]"
   ]
  },
  {
   "cell_type": "code",
   "execution_count": 172,
   "id": "afd1d46f",
   "metadata": {},
   "outputs": [],
   "source": [
    "num_customer2=customer2.select_dtypes(include=['float64', 'int64']).columns"
   ]
  },
  {
   "cell_type": "code",
   "execution_count": 173,
   "id": "fb1d130f",
   "metadata": {},
   "outputs": [],
   "source": [
    "customer_num2=customer2[num_customer2]"
   ]
  },
  {
   "cell_type": "code",
   "execution_count": 174,
   "id": "1b43a19c",
   "metadata": {},
   "outputs": [],
   "source": [
    "z2=customer_cat2\n",
    "#label encoder\n",
    "from sklearn.preprocessing import LabelEncoder\n",
    "label=LabelEncoder()\n",
    "z2=z2.astype(str)\n",
    "z2[cat_customer2] = z2[cat_customer2].apply(lambda col: label.fit_transform(col))"
   ]
  },
  {
   "cell_type": "code",
   "execution_count": 175,
   "id": "c79b830e",
   "metadata": {},
   "outputs": [],
   "source": [
    "frames2 = [customer_num2, z2]\n",
    "customer_updated2=pd.concat(frames2,axis=1)"
   ]
  },
  {
   "cell_type": "code",
   "execution_count": 176,
   "id": "b3cbabe9",
   "metadata": {},
   "outputs": [],
   "source": [
    "#normalizing the values\n",
    "x_norm = (customer_updated - customer_updated.min(axis=0)) / (customer_updated.max(axis=0) - customer_updated.min(axis=0))\n",
    "customer_updated[:] = x_norm"
   ]
  },
  {
   "cell_type": "code",
   "execution_count": 177,
   "id": "1d3d5edc",
   "metadata": {},
   "outputs": [
    {
     "data": {
      "text/html": [
       "<div>\n",
       "<style scoped>\n",
       "    .dataframe tbody tr th:only-of-type {\n",
       "        vertical-align: middle;\n",
       "    }\n",
       "\n",
       "    .dataframe tbody tr th {\n",
       "        vertical-align: top;\n",
       "    }\n",
       "\n",
       "    .dataframe thead th {\n",
       "        text-align: right;\n",
       "    }\n",
       "</style>\n",
       "<table border=\"1\" class=\"dataframe\">\n",
       "  <thead>\n",
       "    <tr style=\"text-align: right;\">\n",
       "      <th></th>\n",
       "      <th>CustomerID</th>\n",
       "      <th>MonthlyRevenue</th>\n",
       "      <th>MonthlyMinutes</th>\n",
       "      <th>TotalRecurringCharge</th>\n",
       "      <th>DirectorAssistedCalls</th>\n",
       "      <th>OverageMinutes</th>\n",
       "      <th>RoamingCalls</th>\n",
       "      <th>PercChangeMinutes</th>\n",
       "      <th>PercChangeRevenues</th>\n",
       "      <th>DroppedCalls</th>\n",
       "      <th>...</th>\n",
       "      <th>HasCreditCard</th>\n",
       "      <th>NewCellphoneUser</th>\n",
       "      <th>NotNewCellphoneUser</th>\n",
       "      <th>OwnsMotorcycle</th>\n",
       "      <th>HandsetPrice</th>\n",
       "      <th>MadeCallToRetentionTeam</th>\n",
       "      <th>CreditRating</th>\n",
       "      <th>PrizmCode</th>\n",
       "      <th>Occupation</th>\n",
       "      <th>MaritalStatus</th>\n",
       "    </tr>\n",
       "  </thead>\n",
       "  <tbody>\n",
       "    <tr>\n",
       "      <th>0</th>\n",
       "      <td>0.0</td>\n",
       "      <td>0.211066</td>\n",
       "      <td>0.316427</td>\n",
       "      <td>0.136343</td>\n",
       "      <td>0.005571</td>\n",
       "      <td>-0.021213</td>\n",
       "      <td>0.0061</td>\n",
       "      <td>0.344598</td>\n",
       "      <td>0.434210</td>\n",
       "      <td>-0.073113</td>\n",
       "      <td>...</td>\n",
       "      <td>-0.013214</td>\n",
       "      <td>0.008279</td>\n",
       "      <td>-0.005946</td>\n",
       "      <td>-0.001871</td>\n",
       "      <td>-0.089412</td>\n",
       "      <td>0.705279</td>\n",
       "      <td>0.096502</td>\n",
       "      <td>-0.033245</td>\n",
       "      <td>-0.031427</td>\n",
       "      <td>-0.085188</td>\n",
       "    </tr>\n",
       "    <tr>\n",
       "      <th>1</th>\n",
       "      <td>0.0</td>\n",
       "      <td>-0.051298</td>\n",
       "      <td>0.658080</td>\n",
       "      <td>-0.032963</td>\n",
       "      <td>0.045701</td>\n",
       "      <td>-0.021213</td>\n",
       "      <td>0.0061</td>\n",
       "      <td>-0.031125</td>\n",
       "      <td>0.090737</td>\n",
       "      <td>0.007682</td>\n",
       "      <td>...</td>\n",
       "      <td>-0.013214</td>\n",
       "      <td>-0.035063</td>\n",
       "      <td>-0.005946</td>\n",
       "      <td>-0.001871</td>\n",
       "      <td>-0.089412</td>\n",
       "      <td>-0.028163</td>\n",
       "      <td>-0.135768</td>\n",
       "      <td>-0.033245</td>\n",
       "      <td>-0.031427</td>\n",
       "      <td>-0.013617</td>\n",
       "    </tr>\n",
       "    <tr>\n",
       "      <th>2</th>\n",
       "      <td>0.0</td>\n",
       "      <td>0.000000</td>\n",
       "      <td>-0.102025</td>\n",
       "      <td>-0.588099</td>\n",
       "      <td>0.045701</td>\n",
       "      <td>-0.021213</td>\n",
       "      <td>0.0061</td>\n",
       "      <td>-0.115330</td>\n",
       "      <td>0.090737</td>\n",
       "      <td>0.188690</td>\n",
       "      <td>...</td>\n",
       "      <td>-0.013214</td>\n",
       "      <td>-0.035063</td>\n",
       "      <td>-0.005946</td>\n",
       "      <td>-0.001871</td>\n",
       "      <td>0.065183</td>\n",
       "      <td>-0.028163</td>\n",
       "      <td>0.104594</td>\n",
       "      <td>0.056476</td>\n",
       "      <td>-0.038029</td>\n",
       "      <td>-0.013617</td>\n",
       "    </tr>\n",
       "    <tr>\n",
       "      <th>3</th>\n",
       "      <td>0.0</td>\n",
       "      <td>0.211066</td>\n",
       "      <td>0.211066</td>\n",
       "      <td>-0.099873</td>\n",
       "      <td>-0.126072</td>\n",
       "      <td>-0.021213</td>\n",
       "      <td>0.0061</td>\n",
       "      <td>-0.782185</td>\n",
       "      <td>0.035176</td>\n",
       "      <td>0.498748</td>\n",
       "      <td>...</td>\n",
       "      <td>-0.013214</td>\n",
       "      <td>-0.035063</td>\n",
       "      <td>-0.005946</td>\n",
       "      <td>-0.001871</td>\n",
       "      <td>-0.118379</td>\n",
       "      <td>-0.028163</td>\n",
       "      <td>-0.135768</td>\n",
       "      <td>-0.009552</td>\n",
       "      <td>0.011057</td>\n",
       "      <td>-0.085188</td>\n",
       "    </tr>\n",
       "    <tr>\n",
       "      <th>4</th>\n",
       "      <td>0.0</td>\n",
       "      <td>-0.194399</td>\n",
       "      <td>1.357169</td>\n",
       "      <td>-0.032963</td>\n",
       "      <td>0.045701</td>\n",
       "      <td>-0.021213</td>\n",
       "      <td>0.0061</td>\n",
       "      <td>0.775924</td>\n",
       "      <td>-0.094446</td>\n",
       "      <td>0.188690</td>\n",
       "      <td>...</td>\n",
       "      <td>-0.013214</td>\n",
       "      <td>0.008279</td>\n",
       "      <td>0.036867</td>\n",
       "      <td>-0.001871</td>\n",
       "      <td>-0.118379</td>\n",
       "      <td>-0.028163</td>\n",
       "      <td>0.096502</td>\n",
       "      <td>-0.009552</td>\n",
       "      <td>-0.031427</td>\n",
       "      <td>-0.013617</td>\n",
       "    </tr>\n",
       "  </tbody>\n",
       "</table>\n",
       "<p>5 rows × 56 columns</p>\n",
       "</div>"
      ],
      "text/plain": [
       "   CustomerID  MonthlyRevenue  MonthlyMinutes  TotalRecurringCharge  \\\n",
       "0         0.0        0.211066        0.316427              0.136343   \n",
       "1         0.0       -0.051298        0.658080             -0.032963   \n",
       "2         0.0        0.000000       -0.102025             -0.588099   \n",
       "3         0.0        0.211066        0.211066             -0.099873   \n",
       "4         0.0       -0.194399        1.357169             -0.032963   \n",
       "\n",
       "   DirectorAssistedCalls  OverageMinutes  RoamingCalls  PercChangeMinutes  \\\n",
       "0               0.005571       -0.021213        0.0061           0.344598   \n",
       "1               0.045701       -0.021213        0.0061          -0.031125   \n",
       "2               0.045701       -0.021213        0.0061          -0.115330   \n",
       "3              -0.126072       -0.021213        0.0061          -0.782185   \n",
       "4               0.045701       -0.021213        0.0061           0.775924   \n",
       "\n",
       "   PercChangeRevenues  DroppedCalls  ...  HasCreditCard  NewCellphoneUser  \\\n",
       "0            0.434210     -0.073113  ...      -0.013214          0.008279   \n",
       "1            0.090737      0.007682  ...      -0.013214         -0.035063   \n",
       "2            0.090737      0.188690  ...      -0.013214         -0.035063   \n",
       "3            0.035176      0.498748  ...      -0.013214         -0.035063   \n",
       "4           -0.094446      0.188690  ...      -0.013214          0.008279   \n",
       "\n",
       "   NotNewCellphoneUser  OwnsMotorcycle  HandsetPrice  MadeCallToRetentionTeam  \\\n",
       "0            -0.005946       -0.001871     -0.089412                 0.705279   \n",
       "1            -0.005946       -0.001871     -0.089412                -0.028163   \n",
       "2            -0.005946       -0.001871      0.065183                -0.028163   \n",
       "3            -0.005946       -0.001871     -0.118379                -0.028163   \n",
       "4             0.036867       -0.001871     -0.118379                -0.028163   \n",
       "\n",
       "   CreditRating  PrizmCode  Occupation  MaritalStatus  \n",
       "0      0.096502  -0.033245   -0.031427      -0.085188  \n",
       "1     -0.135768  -0.033245   -0.031427      -0.013617  \n",
       "2      0.104594   0.056476   -0.038029      -0.013617  \n",
       "3     -0.135768  -0.009552    0.011057      -0.085188  \n",
       "4      0.096502  -0.009552   -0.031427      -0.013617  \n",
       "\n",
       "[5 rows x 56 columns]"
      ]
     },
     "execution_count": 177,
     "metadata": {},
     "output_type": "execute_result"
    }
   ],
   "source": [
    "enc = WeightOfEvidenceEncoder(cols=customer_updated2.columns)\n",
    "customer_updated2 = enc.fit_transform(customer_updated2, train_label2)\n",
    "customer_updated2.head()"
   ]
  },
  {
   "cell_type": "code",
   "execution_count": 178,
   "id": "c32180ef",
   "metadata": {},
   "outputs": [
    {
     "data": {
      "text/html": [
       "<div>\n",
       "<style scoped>\n",
       "    .dataframe tbody tr th:only-of-type {\n",
       "        vertical-align: middle;\n",
       "    }\n",
       "\n",
       "    .dataframe tbody tr th {\n",
       "        vertical-align: top;\n",
       "    }\n",
       "\n",
       "    .dataframe thead th {\n",
       "        text-align: right;\n",
       "    }\n",
       "</style>\n",
       "<table border=\"1\" class=\"dataframe\">\n",
       "  <thead>\n",
       "    <tr style=\"text-align: right;\">\n",
       "      <th></th>\n",
       "      <th>CustomerID</th>\n",
       "      <th>MonthlyRevenue</th>\n",
       "      <th>MonthlyMinutes</th>\n",
       "      <th>TotalRecurringCharge</th>\n",
       "      <th>DirectorAssistedCalls</th>\n",
       "      <th>OverageMinutes</th>\n",
       "      <th>RoamingCalls</th>\n",
       "      <th>PercChangeMinutes</th>\n",
       "      <th>PercChangeRevenues</th>\n",
       "      <th>DroppedCalls</th>\n",
       "      <th>...</th>\n",
       "      <th>HasCreditCard</th>\n",
       "      <th>NewCellphoneUser</th>\n",
       "      <th>NotNewCellphoneUser</th>\n",
       "      <th>OwnsMotorcycle</th>\n",
       "      <th>HandsetPrice</th>\n",
       "      <th>MadeCallToRetentionTeam</th>\n",
       "      <th>CreditRating</th>\n",
       "      <th>PrizmCode</th>\n",
       "      <th>Occupation</th>\n",
       "      <th>MaritalStatus</th>\n",
       "    </tr>\n",
       "  </thead>\n",
       "  <tbody>\n",
       "    <tr>\n",
       "      <th>0</th>\n",
       "      <td>0.0</td>\n",
       "      <td>0.211066</td>\n",
       "      <td>0.316427</td>\n",
       "      <td>0.136343</td>\n",
       "      <td>0.005571</td>\n",
       "      <td>0.0</td>\n",
       "      <td>0.0061</td>\n",
       "      <td>0.344598</td>\n",
       "      <td>0.434210</td>\n",
       "      <td>0.000000</td>\n",
       "      <td>...</td>\n",
       "      <td>0.0</td>\n",
       "      <td>0.008279</td>\n",
       "      <td>0.000000</td>\n",
       "      <td>0.0</td>\n",
       "      <td>0.000000</td>\n",
       "      <td>0.705279</td>\n",
       "      <td>0.096502</td>\n",
       "      <td>0.000000</td>\n",
       "      <td>0.000000</td>\n",
       "      <td>0.0</td>\n",
       "    </tr>\n",
       "    <tr>\n",
       "      <th>1</th>\n",
       "      <td>0.0</td>\n",
       "      <td>0.000000</td>\n",
       "      <td>0.658080</td>\n",
       "      <td>0.000000</td>\n",
       "      <td>0.045701</td>\n",
       "      <td>0.0</td>\n",
       "      <td>0.0061</td>\n",
       "      <td>0.000000</td>\n",
       "      <td>0.090737</td>\n",
       "      <td>0.007682</td>\n",
       "      <td>...</td>\n",
       "      <td>0.0</td>\n",
       "      <td>0.000000</td>\n",
       "      <td>0.000000</td>\n",
       "      <td>0.0</td>\n",
       "      <td>0.000000</td>\n",
       "      <td>0.000000</td>\n",
       "      <td>0.000000</td>\n",
       "      <td>0.000000</td>\n",
       "      <td>0.000000</td>\n",
       "      <td>0.0</td>\n",
       "    </tr>\n",
       "    <tr>\n",
       "      <th>2</th>\n",
       "      <td>0.0</td>\n",
       "      <td>0.000000</td>\n",
       "      <td>0.000000</td>\n",
       "      <td>0.000000</td>\n",
       "      <td>0.045701</td>\n",
       "      <td>0.0</td>\n",
       "      <td>0.0061</td>\n",
       "      <td>0.000000</td>\n",
       "      <td>0.090737</td>\n",
       "      <td>0.188690</td>\n",
       "      <td>...</td>\n",
       "      <td>0.0</td>\n",
       "      <td>0.000000</td>\n",
       "      <td>0.000000</td>\n",
       "      <td>0.0</td>\n",
       "      <td>0.065183</td>\n",
       "      <td>0.000000</td>\n",
       "      <td>0.104594</td>\n",
       "      <td>0.056476</td>\n",
       "      <td>0.000000</td>\n",
       "      <td>0.0</td>\n",
       "    </tr>\n",
       "    <tr>\n",
       "      <th>3</th>\n",
       "      <td>0.0</td>\n",
       "      <td>0.211066</td>\n",
       "      <td>0.211066</td>\n",
       "      <td>0.000000</td>\n",
       "      <td>0.000000</td>\n",
       "      <td>0.0</td>\n",
       "      <td>0.0061</td>\n",
       "      <td>0.000000</td>\n",
       "      <td>0.035176</td>\n",
       "      <td>0.498748</td>\n",
       "      <td>...</td>\n",
       "      <td>0.0</td>\n",
       "      <td>0.000000</td>\n",
       "      <td>0.000000</td>\n",
       "      <td>0.0</td>\n",
       "      <td>0.000000</td>\n",
       "      <td>0.000000</td>\n",
       "      <td>0.000000</td>\n",
       "      <td>0.000000</td>\n",
       "      <td>0.011057</td>\n",
       "      <td>0.0</td>\n",
       "    </tr>\n",
       "    <tr>\n",
       "      <th>4</th>\n",
       "      <td>0.0</td>\n",
       "      <td>0.000000</td>\n",
       "      <td>1.357169</td>\n",
       "      <td>0.000000</td>\n",
       "      <td>0.045701</td>\n",
       "      <td>0.0</td>\n",
       "      <td>0.0061</td>\n",
       "      <td>0.775924</td>\n",
       "      <td>0.000000</td>\n",
       "      <td>0.188690</td>\n",
       "      <td>...</td>\n",
       "      <td>0.0</td>\n",
       "      <td>0.008279</td>\n",
       "      <td>0.036867</td>\n",
       "      <td>0.0</td>\n",
       "      <td>0.000000</td>\n",
       "      <td>0.000000</td>\n",
       "      <td>0.096502</td>\n",
       "      <td>0.000000</td>\n",
       "      <td>0.000000</td>\n",
       "      <td>0.0</td>\n",
       "    </tr>\n",
       "  </tbody>\n",
       "</table>\n",
       "<p>5 rows × 56 columns</p>\n",
       "</div>"
      ],
      "text/plain": [
       "   CustomerID  MonthlyRevenue  MonthlyMinutes  TotalRecurringCharge  \\\n",
       "0         0.0        0.211066        0.316427              0.136343   \n",
       "1         0.0        0.000000        0.658080              0.000000   \n",
       "2         0.0        0.000000        0.000000              0.000000   \n",
       "3         0.0        0.211066        0.211066              0.000000   \n",
       "4         0.0        0.000000        1.357169              0.000000   \n",
       "\n",
       "   DirectorAssistedCalls  OverageMinutes  RoamingCalls  PercChangeMinutes  \\\n",
       "0               0.005571             0.0        0.0061           0.344598   \n",
       "1               0.045701             0.0        0.0061           0.000000   \n",
       "2               0.045701             0.0        0.0061           0.000000   \n",
       "3               0.000000             0.0        0.0061           0.000000   \n",
       "4               0.045701             0.0        0.0061           0.775924   \n",
       "\n",
       "   PercChangeRevenues  DroppedCalls  ...  HasCreditCard  NewCellphoneUser  \\\n",
       "0            0.434210      0.000000  ...            0.0          0.008279   \n",
       "1            0.090737      0.007682  ...            0.0          0.000000   \n",
       "2            0.090737      0.188690  ...            0.0          0.000000   \n",
       "3            0.035176      0.498748  ...            0.0          0.000000   \n",
       "4            0.000000      0.188690  ...            0.0          0.008279   \n",
       "\n",
       "   NotNewCellphoneUser  OwnsMotorcycle  HandsetPrice  MadeCallToRetentionTeam  \\\n",
       "0             0.000000             0.0      0.000000                 0.705279   \n",
       "1             0.000000             0.0      0.000000                 0.000000   \n",
       "2             0.000000             0.0      0.065183                 0.000000   \n",
       "3             0.000000             0.0      0.000000                 0.000000   \n",
       "4             0.036867             0.0      0.000000                 0.000000   \n",
       "\n",
       "   CreditRating  PrizmCode  Occupation  MaritalStatus  \n",
       "0      0.096502   0.000000    0.000000            0.0  \n",
       "1      0.000000   0.000000    0.000000            0.0  \n",
       "2      0.104594   0.056476    0.000000            0.0  \n",
       "3      0.000000   0.000000    0.011057            0.0  \n",
       "4      0.096502   0.000000    0.000000            0.0  \n",
       "\n",
       "[5 rows x 56 columns]"
      ]
     },
     "execution_count": 178,
     "metadata": {},
     "output_type": "execute_result"
    }
   ],
   "source": [
    "customer_updated2[customer_updated2 < 0]=0\n",
    "customer_updated2.head()"
   ]
  },
  {
   "cell_type": "code",
   "execution_count": 179,
   "id": "bb0ed290",
   "metadata": {},
   "outputs": [],
   "source": [
    "del customer_updated2['CustomerID']"
   ]
  },
  {
   "cell_type": "code",
   "execution_count": 180,
   "id": "d1aa8411",
   "metadata": {},
   "outputs": [
    {
     "data": {
      "text/plain": [
       "0    36336\n",
       "1    14711\n",
       "Name: Churn, dtype: int64"
      ]
     },
     "execution_count": 180,
     "metadata": {},
     "output_type": "execute_result"
    }
   ],
   "source": [
    "train_label2.value_counts()"
   ]
  },
  {
   "cell_type": "code",
   "execution_count": 181,
   "id": "8309dcb7",
   "metadata": {},
   "outputs": [],
   "source": [
    "#applying SVM smote \n",
    "oversampler=SMOTE()\n",
    "customer_updated2,train_label2=oversampler.fit_resample(customer_updated2,train_label2)"
   ]
  },
  {
   "cell_type": "code",
   "execution_count": 182,
   "id": "ae63556b",
   "metadata": {},
   "outputs": [
    {
     "data": {
      "text/plain": [
       "1    36336\n",
       "0    36336\n",
       "Name: Churn, dtype: int64"
      ]
     },
     "execution_count": 182,
     "metadata": {},
     "output_type": "execute_result"
    }
   ],
   "source": [
    "train_label2.value_counts()"
   ]
  },
  {
   "cell_type": "code",
   "execution_count": 183,
   "id": "a2660e8b",
   "metadata": {},
   "outputs": [
    {
     "data": {
      "text/plain": [
       "(72672, 33)"
      ]
     },
     "execution_count": 183,
     "metadata": {},
     "output_type": "execute_result"
    }
   ],
   "source": [
    "customer_updated2 = SelectPercentile(chi2, percentile=60).fit_transform(customer_updated2, train_label2)\n",
    "customer_updated2.shape"
   ]
  },
  {
   "cell_type": "code",
   "execution_count": 184,
   "id": "d2ee63df",
   "metadata": {},
   "outputs": [],
   "source": [
    "from sklearn.model_selection import train_test_split\n",
    "X_train2, X_test2, y_train2, y_test2 = train_test_split(customer_updated2, train_label2, test_size=0.3, random_state=42)"
   ]
  },
  {
   "cell_type": "code",
   "execution_count": 185,
   "id": "9a0daa1b",
   "metadata": {},
   "outputs": [
    {
     "name": "stdout",
     "output_type": "stream",
     "text": [
      "0.8420680165126793\n"
     ]
    }
   ],
   "source": [
    "xg=xgboost.XGBClassifier()\n",
    "xg.fit(X_train2,y_train2)\n",
    "k_folds = KFold(n_splits = 10)\n",
    "print(cross_val_score(xg, X_train2, y_train2, cv=k_folds).mean())"
   ]
  },
  {
   "cell_type": "code",
   "execution_count": 186,
   "id": "15af30ab",
   "metadata": {},
   "outputs": [
    {
     "data": {
      "text/plain": [
       "0.8426384078452165"
      ]
     },
     "execution_count": 186,
     "metadata": {},
     "output_type": "execute_result"
    }
   ],
   "source": [
    "from sklearn.metrics import classification_report\n",
    "pred_xg=xg.predict(X_test2)\n",
    "fpr_x2, tpr_x2, thresholds_x2 = metrics.roc_curve(y_test2, pred_xg)\n",
    "#r=classification_report(y_test2, pred_xg)\n",
    "xg_m=metrics.auc(fpr_x2, tpr_x2)\n",
    "xg_m"
   ]
  },
  {
   "cell_type": "code",
   "execution_count": 187,
   "id": "dee16873",
   "metadata": {},
   "outputs": [
    {
     "name": "stdout",
     "output_type": "stream",
     "text": [
      "0.7467859249066248\n"
     ]
    }
   ],
   "source": [
    "dt=DecisionTreeClassifier()\n",
    "dt.fit(X_train2,y_train2)\n",
    "k_folds = KFold(n_splits = 10)\n",
    "print(cross_val_score(dt, X_train2, y_train2, cv=k_folds).mean())"
   ]
  },
  {
   "cell_type": "code",
   "execution_count": 188,
   "id": "8fd23855",
   "metadata": {},
   "outputs": [
    {
     "data": {
      "text/plain": [
       "0.7513162936134751"
      ]
     },
     "execution_count": 188,
     "metadata": {},
     "output_type": "execute_result"
    }
   ],
   "source": [
    "pred=dt.predict(X_test2)\n",
    "fpr_d2, tpr_d2, thresholds_d2 = metrics.roc_curve(y_test2, pred)\n",
    "dt_m=metrics.auc(fpr_d2, tpr_d2)\n",
    "dt_m"
   ]
  },
  {
   "cell_type": "code",
   "execution_count": 189,
   "id": "c1e30faa",
   "metadata": {},
   "outputs": [
    {
     "name": "stdout",
     "output_type": "stream",
     "text": [
      "0.8418910949479065\n"
     ]
    }
   ],
   "source": [
    "#random Forest\n",
    "rf=RandomForestClassifier()\n",
    "rf.fit(X_train2,y_train2)\n",
    "k_folds = KFold(n_splits = 10)\n",
    "print(cross_val_score(rf, X_train2, y_train2, cv=k_folds).mean())"
   ]
  },
  {
   "cell_type": "code",
   "execution_count": 190,
   "id": "e7d93f1a",
   "metadata": {},
   "outputs": [
    {
     "data": {
      "text/plain": [
       "0.8442086644942899"
      ]
     },
     "execution_count": 190,
     "metadata": {},
     "output_type": "execute_result"
    }
   ],
   "source": [
    "pred_rf=rf.predict(X_test2)\n",
    "fpr_r2, tpr_r2, thresholds_r2 = metrics.roc_curve(y_test2, pred_rf)\n",
    "rf_m=metrics.auc(fpr_r2, tpr_r2)\n",
    "rf_m"
   ]
  },
  {
   "cell_type": "code",
   "execution_count": 191,
   "id": "7932f512",
   "metadata": {},
   "outputs": [
    {
     "name": "stdout",
     "output_type": "stream",
     "text": [
      "0.8475132691173581\n"
     ]
    }
   ],
   "source": [
    "gbm=lightgbm.LGBMClassifier()\n",
    "gbm.fit(X_train2,y_train2)\n",
    "k_folds = KFold(n_splits = 10)\n",
    "print(cross_val_score(gbm, X_train2, y_train2, cv=k_folds).mean())"
   ]
  },
  {
   "cell_type": "code",
   "execution_count": 192,
   "id": "cd21ea5b",
   "metadata": {},
   "outputs": [
    {
     "data": {
      "text/plain": [
       "0.8466485172710054"
      ]
     },
     "execution_count": 192,
     "metadata": {},
     "output_type": "execute_result"
    }
   ],
   "source": [
    "pred_gbm=gbm.predict(X_test2)\n",
    "fpr_l2, tpr_l2, thresholds_l2 = metrics.roc_curve(y_test2, pred_gbm)\n",
    "gbm_m=metrics.auc(fpr_l2, tpr_l2)\n",
    "gbm_m"
   ]
  },
  {
   "cell_type": "code",
   "execution_count": 193,
   "id": "c5ddf01d",
   "metadata": {},
   "outputs": [
    {
     "data": {
      "text/plain": [
       "StackingClassifier(estimators=[('xg',\n",
       "                                XGBClassifier(base_score=None, booster=None,\n",
       "                                              callbacks=None,\n",
       "                                              colsample_bylevel=None,\n",
       "                                              colsample_bynode=None,\n",
       "                                              colsample_bytree=None,\n",
       "                                              early_stopping_rounds=None,\n",
       "                                              enable_categorical=False,\n",
       "                                              eval_metric=None,\n",
       "                                              feature_types=None, gamma=None,\n",
       "                                              gpu_id=None, grow_policy=None,\n",
       "                                              importance_type=None,\n",
       "                                              interaction_constraints=None,\n",
       "                                              learning_r...\n",
       "                                              max_cat_to_onehot=None,\n",
       "                                              max_delta_step=None,\n",
       "                                              max_depth=None, max_leaves=None,\n",
       "                                              min_child_weight=None,\n",
       "                                              missing=nan,\n",
       "                                              monotone_constraints=None,\n",
       "                                              n_estimators=100, n_jobs=None,\n",
       "                                              num_parallel_tree=None,\n",
       "                                              predictor=None, random_state=None, ...)),\n",
       "                               ('dt', DecisionTreeClassifier()),\n",
       "                               ('rf', RandomForestClassifier()),\n",
       "                               ('gbm', LGBMClassifier())],\n",
       "                   final_estimator=LogisticRegression())"
      ]
     },
     "execution_count": 193,
     "metadata": {},
     "output_type": "execute_result"
    }
   ],
   "source": [
    "from sklearn.ensemble import StackingClassifier\n",
    "from sklearn.ensemble import StackingClassifier\n",
    "estimators = [('xg',xgboost.XGBClassifier()),('dt',DecisionTreeClassifier()),('rf',RandomForestClassifier()),('gbm',lightgbm.LGBMClassifier())]\n",
    "sc=StackingClassifier(estimators=estimators, final_estimator=LogisticRegression())\n",
    "sc.fit(X_train2, y_train2)"
   ]
  },
  {
   "cell_type": "code",
   "execution_count": 194,
   "id": "ab6989fc",
   "metadata": {},
   "outputs": [
    {
     "name": "stdout",
     "output_type": "stream",
     "text": [
      "0.8480525607063868\n",
      "              precision    recall  f1-score   support\n",
      "\n",
      "           0       0.83      0.88      0.85     10851\n",
      "           1       0.87      0.82      0.84     10951\n",
      "\n",
      "    accuracy                           0.85     21802\n",
      "   macro avg       0.85      0.85      0.85     21802\n",
      "weighted avg       0.85      0.85      0.85     21802\n",
      "\n"
     ]
    }
   ],
   "source": [
    "pred_sc=sc.predict(X_test2)\n",
    "fpr_s2, tpr_s2, thresholds_s2 = metrics.roc_curve(y_test2, pred_sc)\n",
    "sc_m=metrics.auc(fpr_s2, tpr_s2)\n",
    "r=classification_report(y_test2, pred_sc)\n",
    "print(sc_m)\n",
    "print(r)"
   ]
  },
  {
   "cell_type": "code",
   "execution_count": 195,
   "id": "6af87026",
   "metadata": {},
   "outputs": [
    {
     "data": {
      "text/plain": [
       "[(('xg',\n",
       "   XGBClassifier(base_score=None, booster=None, callbacks=None,\n",
       "                 colsample_bylevel=None, colsample_bynode=None,\n",
       "                 colsample_bytree=None, early_stopping_rounds=None,\n",
       "                 enable_categorical=False, eval_metric=None, feature_types=None,\n",
       "                 gamma=None, gpu_id=None, grow_policy=None, importance_type=None,\n",
       "                 interaction_constraints=None, learning_rate=None, max_bin=None,\n",
       "                 max_cat_threshold=None, max_cat_to_onehot=None,\n",
       "                 max_delta_step=None, max_depth=None, max_leaves=None,\n",
       "                 min_child_weight=None, missing=nan, monotone_constraints=None,\n",
       "                 n_estimators=100, n_jobs=None, num_parallel_tree=None,\n",
       "                 predictor=None, random_state=None, ...)),\n",
       "  ('dt', DecisionTreeClassifier())),\n",
       " (('xg',\n",
       "   XGBClassifier(base_score=None, booster=None, callbacks=None,\n",
       "                 colsample_bylevel=None, colsample_bynode=None,\n",
       "                 colsample_bytree=None, early_stopping_rounds=None,\n",
       "                 enable_categorical=False, eval_metric=None, feature_types=None,\n",
       "                 gamma=None, gpu_id=None, grow_policy=None, importance_type=None,\n",
       "                 interaction_constraints=None, learning_rate=None, max_bin=None,\n",
       "                 max_cat_threshold=None, max_cat_to_onehot=None,\n",
       "                 max_delta_step=None, max_depth=None, max_leaves=None,\n",
       "                 min_child_weight=None, missing=nan, monotone_constraints=None,\n",
       "                 n_estimators=100, n_jobs=None, num_parallel_tree=None,\n",
       "                 predictor=None, random_state=None, ...)),\n",
       "  ('rf', RandomForestClassifier())),\n",
       " (('xg',\n",
       "   XGBClassifier(base_score=None, booster=None, callbacks=None,\n",
       "                 colsample_bylevel=None, colsample_bynode=None,\n",
       "                 colsample_bytree=None, early_stopping_rounds=None,\n",
       "                 enable_categorical=False, eval_metric=None, feature_types=None,\n",
       "                 gamma=None, gpu_id=None, grow_policy=None, importance_type=None,\n",
       "                 interaction_constraints=None, learning_rate=None, max_bin=None,\n",
       "                 max_cat_threshold=None, max_cat_to_onehot=None,\n",
       "                 max_delta_step=None, max_depth=None, max_leaves=None,\n",
       "                 min_child_weight=None, missing=nan, monotone_constraints=None,\n",
       "                 n_estimators=100, n_jobs=None, num_parallel_tree=None,\n",
       "                 predictor=None, random_state=None, ...)),\n",
       "  ('gbm', LGBMClassifier())),\n",
       " (('dt', DecisionTreeClassifier()), ('rf', RandomForestClassifier())),\n",
       " (('dt', DecisionTreeClassifier()), ('gbm', LGBMClassifier())),\n",
       " (('rf', RandomForestClassifier()), ('gbm', LGBMClassifier()))]"
      ]
     },
     "execution_count": 195,
     "metadata": {},
     "output_type": "execute_result"
    }
   ],
   "source": [
    "r=2\n",
    "com=list(combinations(estimators, r))\n",
    "com"
   ]
  },
  {
   "cell_type": "code",
   "execution_count": 196,
   "id": "979fddea",
   "metadata": {},
   "outputs": [],
   "source": [
    "m=[]\n",
    "for c in com:\n",
    "    sc=StackingClassifier(estimators=c, final_estimator=LogisticRegression())\n",
    "    sc.fit(X_train2, y_train2)\n",
    "    pred_sc=sc.predict(X_test2)\n",
    "    fpr, tpr, thresholds = metrics.roc_curve(y_test2, pred_sc)\n",
    "    sc_m=metrics.auc(fpr, tpr)\n",
    "    m.append(sc_m)"
   ]
  },
  {
   "cell_type": "code",
   "execution_count": 197,
   "id": "f9474c74",
   "metadata": {},
   "outputs": [
    {
     "data": {
      "text/plain": [
       "[('xg', 'dt'),\n",
       " ('xg', 'rf'),\n",
       " ('xg', 'gbm'),\n",
       " ('dt', 'rf'),\n",
       " ('dt', 'gbm'),\n",
       " ('rf', 'gbm')]"
      ]
     },
     "execution_count": 197,
     "metadata": {},
     "output_type": "execute_result"
    }
   ],
   "source": [
    "r=2\n",
    "com2=('xg','dt','rf','gbm')\n",
    "com2=list(combinations(com2, r))\n",
    "com2"
   ]
  },
  {
   "cell_type": "code",
   "execution_count": 198,
   "id": "8ee523a6",
   "metadata": {},
   "outputs": [
    {
     "name": "stdout",
     "output_type": "stream",
     "text": [
      "('xg', 'dt') 0.8420240307565219\n",
      "('xg', 'rf') 0.8472046301105481\n",
      "('xg', 'gbm') 0.8458334152786104\n",
      "('dt', 'rf') 0.8442911525668236\n",
      "('dt', 'gbm') 0.8460152054584584\n",
      "('rf', 'gbm') 0.847632382353238\n"
     ]
    }
   ],
   "source": [
    "res = \"\\n\".join(\"{} {}\".format(x, y) for x, y in zip(com2, m))\n",
    "print(res)"
   ]
  },
  {
   "cell_type": "code",
   "execution_count": 199,
   "id": "edf00a98",
   "metadata": {},
   "outputs": [],
   "source": [
    "r=3\n",
    "com=list(combinations(estimators, r))"
   ]
  },
  {
   "cell_type": "code",
   "execution_count": 200,
   "id": "604e6421",
   "metadata": {},
   "outputs": [],
   "source": [
    "q=[]\n",
    "for c in com:\n",
    "    sc=StackingClassifier(estimators=c, final_estimator=LogisticRegression())\n",
    "    sc.fit(X_train, y_train)\n",
    "    pred_sc=sc.predict(X_test)\n",
    "    fpr, tpr, thresholds = metrics.roc_curve(y_test, pred_sc)\n",
    "    sc_m=metrics.auc(fpr, tpr)\n",
    "    q.append(sc_m)"
   ]
  },
  {
   "cell_type": "code",
   "execution_count": 201,
   "id": "3e9d71f1",
   "metadata": {},
   "outputs": [
    {
     "name": "stdout",
     "output_type": "stream",
     "text": [
      "('xg', 'dt', 'rf') 0.8143367892198535\n",
      "('xg', 'dt', 'gbm') 0.8156602169375408\n",
      "('xg', 'rf', 'gbm') 0.8156868311526928\n",
      "('dt', 'rf', 'gbm') 0.8133236910689168\n"
     ]
    }
   ],
   "source": [
    "r=3\n",
    "com2=('xg','dt','rf','gbm')\n",
    "com2=list(combinations(com2, r))\n",
    "res = \"\\n\".join(\"{} {}\".format(x, y) for x, y in zip(com2, q))\n",
    "print(res)"
   ]
  },
  {
   "cell_type": "code",
   "execution_count": 202,
   "id": "a82dbacd",
   "metadata": {},
   "outputs": [
    {
     "data": {
      "image/png": "[encoded data removed]",
      "text/plain": [
       "<Figure size 432x288 with 1 Axes>"
      ]
     },
     "metadata": {
      "needs_background": "light"
     },
     "output_type": "display_data"
    }
   ],
   "source": [
    "#Plotting the Roc Curve.\n",
    "roc_auc_d2 = metrics.auc(fpr_d2, tpr_d2)\n",
    "roc_auc_r2 = metrics.auc(fpr_r2, tpr_r2)\n",
    "roc_auc_x2 = metrics.auc(fpr_x2, tpr_x2)\n",
    "roc_auc_l2 = metrics.auc(fpr_l2, tpr_l2)\n",
    "roc_auc_s2 = metrics.auc(fpr_s2, tpr_s2)\n",
    "\n",
    "plt.plot(fpr_d2, tpr_d2, \"r:\", linewidth=2, label=\"Decision Tree (AUC = %.2f)\" % roc_auc_d2)\n",
    "plt.plot(fpr_r2, tpr_r2, \"g--\", linewidth=2, label=\"Random Forest (AUC = %.2f)\" % roc_auc_r2)\n",
    "plt.plot(fpr_x2, tpr_x2, \"b-\", linewidth=2, label=\"XGBoost (AUC = %.2f)\" % roc_auc_x2)\n",
    "plt.plot(fpr_l2, tpr_l2, \"m-.\", linewidth=2, label=\"LightBGM (AUC = %.2f)\" % roc_auc_l2)\n",
    "plt.plot(fpr_s2, tpr_s2, \"k-\", linewidth=2, label=\"Stack Ensemble (AUC = %.2f)\" % roc_auc_s2)\n",
    "\n",
    "\n",
    "plt.legend(loc=\"lower right\")\n",
    "plt.xlabel(\"False Positive Rate\")\n",
    "plt.ylabel(\"True Positive Rate \")\n",
    "plt.title(\"ROC Curve Comparison of Multiple Models\")\n",
    "plt.show()"
   ]
  },
  {
   "cell_type": "code",
   "execution_count": 208,
   "id": "ace5733f",
   "metadata": {},
   "outputs": [
    {
     "data": {
      "text/plain": [
       "StackingClassifier(estimators=[('xg',\n",
       "                                XGBClassifier(base_score=None, booster=None,\n",
       "                                              callbacks=None,\n",
       "                                              colsample_bylevel=None,\n",
       "                                              colsample_bynode=None,\n",
       "                                              colsample_bytree=None,\n",
       "                                              early_stopping_rounds=None,\n",
       "                                              enable_categorical=False,\n",
       "                                              eval_metric=None,\n",
       "                                              feature_types=None, gamma=None,\n",
       "                                              gpu_id=None, grow_policy=None,\n",
       "                                              importance_type=None,\n",
       "                                              interaction_constraints=None,\n",
       "                                              learning_rate=None, max_bin=None,\n",
       "                                              max_cat_threshold=None,\n",
       "                                              max_cat_to_onehot=None,\n",
       "                                              max_delta_step=None,\n",
       "                                              max_depth=None, max_leaves=None,\n",
       "                                              min_child_weight=None,\n",
       "                                              missing=nan,\n",
       "                                              monotone_constraints=None,\n",
       "                                              n_estimators=100, n_jobs=None,\n",
       "                                              num_parallel_tree=None,\n",
       "                                              predictor=None, random_state=None, ...)),\n",
       "                               ('rf', RandomForestClassifier())],\n",
       "                   final_estimator=LogisticRegression())"
      ]
     },
     "execution_count": 208,
     "metadata": {},
     "output_type": "execute_result"
    }
   ],
   "source": [
    "#Stacking for the best combinations.\n",
    "estimators2 = [('xg',xgboost.XGBClassifier()),('rf',RandomForestClassifier())]\n",
    "sc_c2=StackingClassifier(estimators=estimators2, final_estimator=LogisticRegression())\n",
    "sc_c2.fit(X_train2, y_train2)"
   ]
  },
  {
   "cell_type": "code",
   "execution_count": 209,
   "id": "0d511a52",
   "metadata": {},
   "outputs": [
    {
     "data": {
      "text/plain": [
       "0.5"
      ]
     },
     "execution_count": 209,
     "metadata": {},
     "output_type": "execute_result"
    }
   ],
   "source": [
    "pred_sc_c2=sc_c2.predict(X_test2)\n",
    "fpr_sc2, tpr_sc2, thresholds_sc2 = metrics.roc_curve(y_test2, pred_sc_c2)\n",
    "sc_mc2=metrics.auc(fpr_sc2, fpr_sc2)\n",
    "sc_mc2"
   ]
  },
  {
   "cell_type": "code",
   "execution_count": 210,
   "id": "6115f4f0",
   "metadata": {},
   "outputs": [
    {
     "name": "stdout",
     "output_type": "stream",
     "text": [
      "              precision    recall  f1-score   support\n",
      "\n",
      "           0       0.83      0.88      0.85     10851\n",
      "           1       0.87      0.82      0.84     10951\n",
      "\n",
      "    accuracy                           0.85     21802\n",
      "   macro avg       0.85      0.85      0.85     21802\n",
      "weighted avg       0.85      0.85      0.85     21802\n",
      "\n"
     ]
    }
   ],
   "source": [
    "r_c2=classification_report(y_test2, pred_sc_c2)\n",
    "print(r_c2)"
   ]
  },
  {
   "cell_type": "code",
   "execution_count": 211,
   "id": "b387d89d",
   "metadata": {},
   "outputs": [
    {
     "data": {
      "image/png": "[encoded data removed]",
      "text/plain": [
       "<Figure size 432x288 with 1 Axes>"
      ]
     },
     "metadata": {
      "needs_background": "light"
     },
     "output_type": "display_data"
    }
   ],
   "source": [
    "#Plotting the Roc Curve.\n",
    "roc_auc_c2 = metrics.auc(fpr_sc2, tpr_sc2)\n",
    "plt.plot(fpr_sc2, tpr_sc2, \"k-\", linewidth=2, label=\"Stack Ensemble Best Combination 2(AUC = %.2f)\" % roc_auc_c2)\n",
    "\n",
    "plt.legend(loc=\"lower right\")\n",
    "plt.xlabel(\"False Positive Rate\")\n",
    "plt.ylabel(\"True Positive Rate \")\n",
    "plt.title(\"ROC Curve Comparison of Multiple Models\")\n",
    "plt.show()"
   ]
  },
  {
   "cell_type": "code",
   "execution_count": null,
   "id": "4b651048",
   "metadata": {},
   "outputs": [],
   "source": []
  },
  {
   "cell_type": "code",
   "execution_count": null,
   "id": "5172c1d2",
   "metadata": {},
   "outputs": [],
   "source": []
  }
 ],
 "metadata": {
  "kernelspec": {
   "display_name": "Python 3 (ipykernel)",
   "language": "python",
   "name": "python3"
  },
  "language_info": {
   "codemirror_mode": {
    "name": "ipython",
    "version": 3
   },
   "file_extension": ".py",
   "mimetype": "text/x-python",
   "name": "python",
   "nbconvert_exporter": "python",
   "pygments_lexer": "ipython3",
   "version": "3.9.12"
  }
 },
 "nbformat": 4,
 "nbformat_minor": 5
}
